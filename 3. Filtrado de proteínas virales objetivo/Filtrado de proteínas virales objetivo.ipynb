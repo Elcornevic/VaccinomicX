{
 "cells": [
  {
   "cell_type": "markdown",
   "id": "2861132d",
   "metadata": {},
   "source": [
    "# Filtrado de proteínas virales objetivo\n",
    "Se filtró las 10 poliproteínas virales objetivo para utilizar solamente las que presenten\n",
    "antigenicidad y sean estables. Además, se evaluó la presencia de péptidos señal, hélices transmembrana y la localización subcelular de las proteínas filtradas."
   ]
  },
  {
   "cell_type": "code",
   "execution_count": 5,
   "id": "fd285262",
   "metadata": {},
   "outputs": [
    {
     "name": "stdout",
     "output_type": "stream",
     "text": [
      "Defaulting to user installation because normal site-packages is not writeable\n",
      "Requirement already satisfied: selenium in /home/victor/.local/lib/python3.10/site-packages (4.9.1)\n",
      "Requirement already satisfied: trio-websocket~=0.9 in /home/victor/.local/lib/python3.10/site-packages (from selenium) (0.10.2)\n",
      "Requirement already satisfied: trio~=0.17 in /home/victor/.local/lib/python3.10/site-packages (from selenium) (0.22.0)\n",
      "Requirement already satisfied: certifi>=2021.10.8 in /home/victor/.local/lib/python3.10/site-packages (from selenium) (2023.5.7)\n",
      "Requirement already satisfied: urllib3[socks]<3,>=1.26 in /usr/lib/python3/dist-packages (from selenium) (1.26.5)\n",
      "Requirement already satisfied: exceptiongroup>=1.0.0rc9 in /home/victor/.local/lib/python3.10/site-packages (from trio~=0.17->selenium) (1.1.1)\n",
      "Requirement already satisfied: attrs>=19.2.0 in /usr/lib/python3/dist-packages (from trio~=0.17->selenium) (21.2.0)\n",
      "Requirement already satisfied: sortedcontainers in /home/victor/.local/lib/python3.10/site-packages (from trio~=0.17->selenium) (2.4.0)\n",
      "Requirement already satisfied: idna in /usr/lib/python3/dist-packages (from trio~=0.17->selenium) (3.3)\n",
      "Requirement already satisfied: async-generator>=1.9 in /home/victor/.local/lib/python3.10/site-packages (from trio~=0.17->selenium) (1.10)\n",
      "Requirement already satisfied: sniffio in /home/victor/.local/lib/python3.10/site-packages (from trio~=0.17->selenium) (1.3.0)\n",
      "Requirement already satisfied: outcome in /home/victor/.local/lib/python3.10/site-packages (from trio~=0.17->selenium) (1.2.0)\n",
      "Requirement already satisfied: wsproto>=0.14 in /home/victor/.local/lib/python3.10/site-packages (from trio-websocket~=0.9->selenium) (1.2.0)\n",
      "Requirement already satisfied: PySocks!=1.5.7,<2.0,>=1.5.6 in /home/victor/.local/lib/python3.10/site-packages (from urllib3[socks]<3,>=1.26->selenium) (1.7.1)\n",
      "Requirement already satisfied: h11<1,>=0.9.0 in /home/victor/.local/lib/python3.10/site-packages (from wsproto>=0.14->trio-websocket~=0.9->selenium) (0.14.0)\n",
      "Note: you may need to restart the kernel to use updated packages.\n"
     ]
    }
   ],
   "source": [
    "# Instalar el paquete 'selenium'\n",
    "pip install selenium"
   ]
  },
  {
   "cell_type": "code",
   "execution_count": 1,
   "id": "1f207192",
   "metadata": {},
   "outputs": [],
   "source": [
    "# Importar los módulos necesarios de 'selenium'\n",
    "from selenium import webdriver\n",
    "from selenium.webdriver.common.by import By\n",
    "from selenium.webdriver.common.keys import Keys\n",
    "from selenium.webdriver.chrome.service import Service\n",
    "from selenium.webdriver.support.ui import Select"
   ]
  },
  {
   "cell_type": "markdown",
   "id": "19d5a5d3",
   "metadata": {},
   "source": [
    "## 1. Predicción de antigenicidad"
   ]
  },
  {
   "cell_type": "code",
   "execution_count": 3,
   "id": "89550b74",
   "metadata": {},
   "outputs": [],
   "source": [
    "# Establecer la ubicación del WebDriver\n",
    "s = Service('/usr/local/bin/chromedriver')"
   ]
  },
  {
   "cell_type": "markdown",
   "id": "e149ee69",
   "metadata": {},
   "source": [
    "La predicción de la antigenicidad de las 10 secuencias proteicas se realizó por raspado web del servidor en línea para el análisis de antigenicidad, **Vaxijen v2.0** (http://www.ddg-pharmfac.net/vaxijen/VaxiJen/VaxiJen.html) (*Doytchinova & Flower, 2007*), manteniendo el <u>umbral en 0.4</u> y seleccionando a <u>'Virus'</u> como organismo objetivo. "
   ]
  },
  {
   "cell_type": "code",
   "execution_count": 9,
   "id": "5b200f84",
   "metadata": {
    "scrolled": true
   },
   "outputs": [
    {
     "name": "stdout",
     "output_type": "stream",
     "text": [
      "Model selected: virus\n",
      "Threshold for this model: 0.4\n",
      "\n",
      "\n",
      "\n",
      "Your Sequence:\n",
      "\n",
      ">ancC_ProteÃ­na de la cÃ¡pside anclada\n",
      "\n",
      "MNNQRKKARNTPFNMLKRERNRVSTVQQLTK\n",
      "RFSLGMLQGRGPLKLFMALVAFLRFLTIPPT\n",
      "AGILKRWGTIKKSKAINVLRGFRKEIGRMLN\n",
      "ILNRRRR\n",
      "\n",
      "\n",
      "Overall Prediction for the Protective Antigen = 0.3693 ( Probable NON-ANTIGEN ).\n",
      "\n",
      "\n",
      "Your Sequence:\n",
      "\n",
      ">prM_ProteÃ­na premembrana\n",
      "\n",
      "FHLTTRNGEPHMIVSRQEKGKSLLFKTKDGT\n",
      "NMCTLMAMDLGELCEDTITYKCPFLKQNEPE\n",
      "DIDCWCNSTSTWVTYGTCTTTGEHRREKRSV\n",
      "ALVPHVGMGLETRTETWMSSEGAWKHAQRIE\n",
      "TWILRHPGFTIMAAILAYTIGTTHFQRVLIF\n",
      "ILLTAIAPSMT\n",
      "\n",
      "\n",
      "Overall Prediction for the Protective Antigen = 0.6442 ( Probable ANTIGEN ).\n",
      "\n",
      "\n",
      "Your Sequence:\n",
      "\n",
      ">E_ProteÃ­na de envoltura\n",
      "\n",
      "MRCIGISNRDFVEGVSGGSWVDIVLEHGSCV\n",
      "TTMAKNKPTLDFELIKTEAKQPATLRKYCIE\n",
      "AKLTNTTTDSRCPTQGEPTLNEEQDKRFVCK\n",
      "HSMVDRGWGNGCGLFGKGGIVTCAMFTCKKN\n",
      "MEGKIVQPENLEYTVVITPHSGEEHAVGNDT\n",
      "GKHGKEVKITPQSSITEAELTGYGTVTMECS\n",
      "PRTGLDFNEMVLLQMEDKAWLVHRQWFLDLP\n",
      "LPWLPGADTQGSNWIQKETLVTFKNPHAKKQ\n",
      "DVVVLGSQEGAMHTALTGATEIQMSSGNLLF\n",
      "TGHLKCRLRMDKLQLKGMSYSMCTGKFKIVK\n",
      "EIAETQHGTIVIRVQYEGDGSPCKIPFEIMD\n",
      "LEKRHVLGRLITVNPIVTEKDSPVNIEAEPP\n",
      "FGDSYIIIGAEPGQLKLDWFKKGSSIGQMFE\n",
      "TTMRGAKRMAILGDTAWDFGSLGGVFTSIGK\n",
      "ALHQVFGAIYGAAFSGVSWTMKILIGVIITW\n",
      "IGMNSRSTSLSVSLVLVGIVTLYLGVMVQA\n",
      "\n",
      "\n",
      "Overall Prediction for the Protective Antigen = 0.6623 ( Probable ANTIGEN ).\n",
      "\n",
      "\n",
      "Your Sequence:\n",
      "\n",
      ">NS1_ProteÃ­na no estructural 1\n",
      "\n",
      "DSGCVVSWKNKELKCGSGIFVTDNVHTWTEQ\n",
      "YKFQPESPSKLASAIQKAHEEGICGIRSVTR\n",
      "LENLMWKQITSELNHILSENEVKLTIMTGDI\n",
      "KGIMQVGKRSLRPQPTELRYSWKTWGKAKML\n",
      "STELHNQTFLIDGPETAECPNTNRAWNSLEV\n",
      "EDYGFGVFTTNIWLRLREKQDAFCDSKLMSA\n",
      "AIKDNRAVHADMGYWIESALNDTWKIEKASF\n",
      "IEVKSCHWPKSHTLWSNGVLESEMVIPKNIA\n",
      "GPVSQHNNRPGYHTQTAGPWHLGKLEMDFDF\n",
      "CEGTTVVVTEECGNRGPSLRTTTASGKLITE\n",
      "WCCRSCTLPPLRYRGEDGCWYGMEIRPLKEK\n",
      "EENLVSSLVTA\n",
      "\n",
      "\n",
      "Overall Prediction for the Protective Antigen = 0.6028 ( Probable ANTIGEN ).\n",
      "\n",
      "\n",
      "Your Sequence:\n",
      "\n",
      ">NS2A_ProteÃ­na no estructural 2A\n",
      "\n",
      "GHGQIDNFSLGILGMALFLEEMLRTRVGTKH\n",
      "AILLVAVSFLTLITGNMSFRDLGRVMVMVGA\n",
      "TMTDDIGMGVTYLALLAAFKVRPTFAAGLLL\n",
      "RKLTSKELMMTTIGIVLLSQSSIPETILELT\n",
      "DALALGMMVLKMVRNMEKYQLAVTIMAILCV\n",
      "PNAVILQNAWKVSCTTLAVVSVSPLLLTSSQ\n",
      "QKADWIPLALTIKGLNPTAIFLTTLTRTSKK\n",
      "R\n",
      "\n",
      "\n",
      "Overall Prediction for the Protective Antigen = 0.7969 ( Probable ANTIGEN ).\n",
      "\n",
      "\n",
      "Your Sequence:\n",
      "\n",
      ">NS2B_ProteÃ­na no estructural 2B\n",
      "\n",
      "SWPLNEAIMAVGMVSILASSLLKNDIPMTGP\n",
      "LVAGGLLTVCYVLTGRSADLELERATDVKWD\n",
      "DQAEISGSSPILSITISEDGSMSIKNEEEEQ\n",
      "TLTILIRTGLLVISGLFPVSIPITAAAWYLW\n",
      "EVKKQR\n",
      "\n",
      "\n",
      "Overall Prediction for the Protective Antigen = 0.6922 ( Probable ANTIGEN ).\n",
      "\n",
      "\n",
      "Your Sequence:\n",
      "\n",
      ">NS3_ProteÃ­na no estructural 3\n",
      "\n",
      "AGVLWDVPSPPPVGRAELEDGAYRIKQKGIL\n",
      "GYSQIGAGVYKEGTFHTMWHVTRGAVLMHKG\n",
      "KRIEPSWADVKKDLISYGGGWKLEGEWKEGE\n",
      "EVQVLALEPGKNPRAVQTKPGLFRTNTGTIG\n",
      "AVSLDFSPGTSGSPIVDKKGKVVGLYGNGVV\n",
      "TRGGAYVSAIAQTEKGIEDNPEIEDDIFRKR\n",
      "RLTIMDLHPGAGKTKRYLPAIVREAIKRGLR\n",
      "TLILAPTRVVAAEMEEALRGLPIRYQTPAIR\n",
      "AEHTGREIVDLMCHATFTMRLLSPIRVPNYN\n",
      "LIIMDEAHFTDPASIAARGYISTRVEMGEAA\n",
      "GIFMTATPPGSRDPFPQSNAPIMDEEREIPE\n",
      "RSWNSGHEWVTDFKGKTVWFVPSIKTGNDIA\n",
      "ACLRKNGKRVIQLSRKTFDSEYVKTRTNDWD\n",
      "FVVTTDISEMGANFKAERVIDPRRCMKPVIL\n",
      "TDGEERVILAGPMPVTHSSAAQRRGRIGRNP\n",
      "RNENDQYIYMGEPLENDEDCAHWKEAKMLLD\n",
      "NINTPEGIIPSMFEPEREKVDAIDGEYRLRG\n",
      "EARKTFVDLMRRGDLPVWLAYKVAAEGINYA\n",
      "DRRWCFDGTRNNQILEENVEVEIWTKEGERK\n",
      "KLKPRWLDARIYSDPLALKEFKEFAAGRK\n",
      "\n",
      "\n",
      "Overall Prediction for the Protective Antigen = 0.5847 ( Probable ANTIGEN ).\n",
      "\n",
      "\n",
      "Your Sequence:\n",
      "\n",
      ">NS4A_ProteÃ­na no estructural 4A\n",
      "\n",
      "SLTLNLITEMGRLPTFMTQKARDALDNLAVL\n",
      "HTAEAGGKAYNHALSELPETLETLLLLTLLA\n",
      "TVTGGIFLFLMSGRGIGKMTLGMCCIITASI\n",
      "LLWYAQIQPHWIAASIILEFFLIVLLIPEPE\n",
      "KQR\n",
      "\n",
      "\n",
      "Overall Prediction for the Protective Antigen = 0.4339 ( Probable ANTIGEN ).\n",
      "\n",
      "\n",
      "Your Sequence:\n",
      "\n",
      ">NS4B_ProteÃ­na no estructural 4B\n",
      "\n",
      "NEMGFLEKTKKDLGLGHIATQQPESNILDID\n",
      "LRPASAWTLYAVATTFITPMLRHSIENSSVN\n",
      "VSLTAIANQATVLMGLGKGWPLSKMDIGVPL\n",
      "LAIGCYSQVNPITLTAALLMLVAHYAIIGPG\n",
      "LQAKATREAQKRAAAGIMKNPTVDGITVIDL\n",
      "DPIPYDPKFEKQLGQVMLLVLCVTQVLMMRT\n",
      "TWALCEALTLATGPVSTLWEGNPGRFWNTTI\n",
      "AVSMANIFRGSYLAGAGLLFSIMKNTTSTRR\n",
      "\n",
      "\n",
      "\n",
      "Overall Prediction for the Protective Antigen = 0.6164 ( Probable ANTIGEN ).\n",
      "\n",
      "\n",
      "Your Sequence:\n",
      "\n",
      ">NS5_ProteÃ­na no estructural 5\n",
      "\n",
      "GTGNMGETLGEKWKNRLNALGKSEFQIYKKS\n",
      "GIQEVDRTLAKEGIKRGETDHHAVSRGSAKL\n",
      "RWFVERNLVTPEGKVVDLGCGRGGWSYYCGG\n",
      "LKNVREVKGLTKGGPGHEEPIPMSTYGWNLV\n",
      "RLQSGVDVFFVPPEKCDTLLCDIGESSPNPT\n",
      "VEAGRTLRVLNLVENWLNNNTQFCVKVLNPY\n",
      "MPSVIERMETLQRKYGGALVRNPLSRNSTHE\n",
      "MYWVSNASGNIVSSVNMISRMLINRFTMRHK\n",
      "KATYEPDVDLGSGTRNIGIESETPNLDIIGK\n",
      "RIEKIKQEHETSWHYDQDHPYKTWAYHGSYE\n",
      "TKQTGSASSMVNGVVRLLTKPWDVIPMVTQM\n",
      "AMTDTTPFGQQRVFKEKVDTRTQEPKEGTKK\n",
      "LMKITAEWLWKELGKKKTPRMCTREEFTKKV\n",
      "RSNAALGAIFTDENKWKSAREAVEDNRFWEL\n",
      "VDKERNLHLEGKCETCVYNMMGKREKKLGEF\n",
      "GKAKGSRAIWYMWLGARFLEFEALGFLNEDH\n",
      "WFSRENSLSGVEGEGLHKLGYILREVSKKEG\n",
      "GAMYADDTAGWDTRITIEDLKNEEMITNHMA\n",
      "GEHKKLAEAIFKLTYQNKVVRVQRPTPRGTV\n",
      "MDIISRRDQRGSGQVVTYGLNTFTNMEAQLI\n",
      "RQMEGEGVFKSIQHLTASEEIAVQDWLVRVG\n",
      "RERLSRMAISGDDCVVKPLDDRFAKALTALN\n",
      "DMGKVRKDIQQWEPSRGWNDWTQVPFCSHHF\n",
      "HELIMKDGRTLVVPCRNQDELIGRARISQGA\n",
      "GWSLRETACLGKSYAQMWSLMYFHRRDLRLA\n",
      "ANAICSAVPSHWVPTSRTTWSIHASHEWMTT\n",
      "EDMLTVWNRVWILENPWMEDKTPVESWEEIP\n",
      "YLGKREDQWCGSLIGLTSRATWAKNIQTAIN\n",
      "QVRSLIGNEEYTDYMPSMKRFRREEEEVGVL\n",
      "W\n",
      "\n",
      "\n",
      "Overall Prediction for the Protective Antigen = 0.4261 ( Probable ANTIGEN ).\n",
      "\n"
     ]
    }
   ],
   "source": [
    "# Inicializar el Selenium WebDriver\n",
    "driver = webdriver.Chrome(service = s)\n",
    "\n",
    "# Visitar al servidor en línea VaxiJen v2.0\n",
    "driver.get('http://www.ddg-pharmfac.net/vaxijen/VaxiJen/VaxiJen.html')\n",
    "\n",
    "# Editar los parámetros\n",
    "## Cargar el archivo input\n",
    "select_file = driver.find_element(by = By.NAME, value = 'uploaded_file')\n",
    "select_file.send_keys('/home/victor/Escritorio/Tesis/RESULTADOS/3. Filtrado de proteínas virales objetivo/Uniprot_Proteínas_virales_DENV-2')\n",
    "\n",
    "## Seleccionar el organismo objetivo\n",
    "select_target = Select(driver.find_element(by = By.NAME, value = 'Target'))\n",
    "select_target.select_by_visible_text('Virus')\n",
    "\n",
    "## Definir el valor umbral\n",
    "threshold = driver.find_element(by = By.NAME, value = 'threshold')\n",
    "threshold.send_keys('0.4')\n",
    "\n",
    "\n",
    "# Entregar la data\n",
    "driver.find_element(by = By.NAME, value = 'submit').click()\n",
    "\n",
    "\n",
    "# Obtener la predicción antigénica \n",
    "get_url = driver.current_url\n",
    "name_input = driver.find_element(By.XPATH, '//table/tbody/tr[4]/td[3]/table/tbody/tr/td').text\n",
    "\n",
    "## Descargar y visualizar el output obtenido\n",
    "resultados_VaxiJen = '/home/victor/Escritorio/Tesis/RESULTADOS/3. Filtrado de proteínas virales objetivo/VaxiJen_v2_Resultados/resultados_antigenicidad'\n",
    "with open(resultados_VaxiJen, 'w') as file:\n",
    "    print(name_input, file = file)\n",
    "\n",
    "with open('/home/victor/Escritorio/Tesis/RESULTADOS/3. Filtrado de proteínas virales objetivo/VaxiJen_v2_Resultados/resultados_antigenicidad') as f:\n",
    "    antigenicidad = f.read()\n",
    "    print(antigenicidad)\n",
    "    \n",
    "driver.close()"
   ]
  },
  {
   "cell_type": "markdown",
   "id": "287e7916",
   "metadata": {},
   "source": [
    "De igual manera, los resultados obtenidos se compararon con los predichos por la herramienta **ANTIGENpro**, integrada en el conjunto de predictores **SCRATCH** (*Cheng et al., 2005*) (https://scratch.proteomics.ics.uci.edu/). Las proteínas predichas como <u>'No antigénico'</u> por VaxiJen serán descartadas para el resto de la metodología. "
   ]
  },
  {
   "cell_type": "code",
   "execution_count": 47,
   "id": "68071a05",
   "metadata": {},
   "outputs": [],
   "source": [
    "# Diseñar un archivo de entrada exclusivamente con los nombres de las proteínas\n",
    "file_name = open('Uniprot_Proteínas_virales_DENV-2')\n",
    "\n",
    "## Nombres de cada proteína\n",
    "data_name = []\n",
    "for pos_name, l_num_name in enumerate(file_name):\n",
    "    # comprobar si el número de línea se especifica en las líneas para leer la matriz\n",
    "    if pos_name %3 == 0:\n",
    "        # imprimir el número de línea requerido\n",
    "        data_name.append(l_num_name)\n",
    "        \n",
    "each_name = [[y.rstrip('\\n')] for y in data_name]"
   ]
  },
  {
   "cell_type": "code",
   "execution_count": 42,
   "id": "863be65e",
   "metadata": {},
   "outputs": [],
   "source": [
    "# Diseñar un archivo de entrada exclusivamente con las secuencias de las proteínas\n",
    "file_seq = open('Uniprot_Proteínas_virales_DENV-2')\n",
    "\n",
    "## Secuencias aminoacídicas de cada proteína\n",
    "data_seq = []\n",
    "for pos, l_num in enumerate(file_seq):\n",
    "    # comprobar si el número de línea se especifica en las líneas para leer la matriz\n",
    "    if pos %3 == 1:\n",
    "        # imprimir el número de línea requerido\n",
    "        data_seq.append(l_num)\n",
    "\n",
    "each_seq = [[x.rstrip('\\n')] for x in data_seq]"
   ]
  },
  {
   "cell_type": "code",
   "execution_count": 48,
   "id": "06361493",
   "metadata": {},
   "outputs": [],
   "source": [
    "# Unir los dos tipos de archivos de entrada en una sola lista\n",
    "def countList(lst1, lst2):\n",
    "    return [sub[item] for item in range(len(lst2))\n",
    "                      for sub in [lst1, lst2]]\n",
    "    \n",
    "all_proteins = countList(data_name, data_seq)\n",
    "\n",
    "all_proteins_wn = list(map(lambda x:x.strip(),all_proteins))"
   ]
  },
  {
   "cell_type": "code",
   "execution_count": 49,
   "id": "0e1cca94",
   "metadata": {},
   "outputs": [],
   "source": [
    "# Separar los elementos por pares (cada lista tendrá un nombre y una secuencia)\n",
    "final_list = list()\n",
    "chunk_size = 2\n",
    "\n",
    "for i in range(0, len(all_proteins_wn), chunk_size):\n",
    "    final_list.append(all_proteins_wn[i:i+chunk_size])"
   ]
  },
  {
   "cell_type": "code",
   "execution_count": 40,
   "id": "e608e566",
   "metadata": {},
   "outputs": [],
   "source": [
    "# Eliminar los [] externos y guardar el formato final de la lista a utilizar en ANTIGENpro \n",
    "final_list = ['>ancC_Proteína de la cápside anclada', 'MNNQRKKARNTPFNMLKRERNRVSTVQQLTKRFSLGMLQGRGPLKLFMALVAFLRFLTIPPTAGILKRWGTIKKSKAINVLRGFRKEIGRMLNILNRRRR'], ['>prM_Proteína premembrana', 'FHLTTRNGEPHMIVSRQEKGKSLLFKTKDGTNMCTLMAMDLGELCEDTITYKCPFLKQNEPEDIDCWCNSTSTWVTYGTCTTTGEHRREKRSVALVPHVGMGLETRTETWMSSEGAWKHAQRIETWILRHPGFTIMAAILAYTIGTTHFQRVLIFILLTAIAPSMT'], ['>E_Proteína de envoltura', 'MRCIGISNRDFVEGVSGGSWVDIVLEHGSCVTTMAKNKPTLDFELIKTEAKQPATLRKYCIEAKLTNTTTDSRCPTQGEPTLNEEQDKRFVCKHSMVDRGWGNGCGLFGKGGIVTCAMFTCKKNMEGKIVQPENLEYTVVITPHSGEEHAVGNDTGKHGKEVKITPQSSITEAELTGYGTVTMECSPRTGLDFNEMVLLQMEDKAWLVHRQWFLDLPLPWLPGADTQGSNWIQKETLVTFKNPHAKKQDVVVLGSQEGAMHTALTGATEIQMSSGNLLFTGHLKCRLRMDKLQLKGMSYSMCTGKFKIVKEIAETQHGTIVIRVQYEGDGSPCKIPFEIMDLEKRHVLGRLITVNPIVTEKDSPVNIEAEPPFGDSYIIIGAEPGQLKLDWFKKGSSIGQMFETTMRGAKRMAILGDTAWDFGSLGGVFTSIGKALHQVFGAIYGAAFSGVSWTMKILIGVIITWIGMNSRSTSLSVSLVLVGIVTLYLGVMVQA'], ['>NS1_Proteína no estructural 1', 'DSGCVVSWKNKELKCGSGIFVTDNVHTWTEQYKFQPESPSKLASAIQKAHEEGICGIRSVTRLENLMWKQITSELNHILSENEVKLTIMTGDIKGIMQVGKRSLRPQPTELRYSWKTWGKAKMLSTELHNQTFLIDGPETAECPNTNRAWNSLEVEDYGFGVFTTNIWLRLREKQDAFCDSKLMSAAIKDNRAVHADMGYWIESALNDTWKIEKASFIEVKSCHWPKSHTLWSNGVLESEMVIPKNIAGPVSQHNNRPGYHTQTAGPWHLGKLEMDFDFCEGTTVVVTEECGNRGPSLRTTTASGKLITEWCCRSCTLPPLRYRGEDGCWYGMEIRPLKEKEENLVSSLVTA'], ['>NS2A_Proteína no estructural 2A', 'GHGQIDNFSLGILGMALFLEEMLRTRVGTKHAILLVAVSFLTLITGNMSFRDLGRVMVMVGATMTDDIGMGVTYLALLAAFKVRPTFAAGLLLRKLTSKELMMTTIGIVLLSQSSIPETILELTDALALGMMVLKMVRNMEKYQLAVTIMAILCVPNAVILQNAWKVSCTTLAVVSVSPLLLTSSQQKADWIPLALTIKGLNPTAIFLTTLTRTSKKR'], ['>NS2B_Proteína no estructural 2B', 'SWPLNEAIMAVGMVSILASSLLKNDIPMTGPLVAGGLLTVCYVLTGRSADLELERATDVKWDDQAEISGSSPILSITISEDGSMSIKNEEEEQTLTILIRTGLLVISGLFPVSIPITAAAWYLWEVKKQR'], ['>NS3_Proteína no estructural 3', 'AGVLWDVPSPPPVGRAELEDGAYRIKQKGILGYSQIGAGVYKEGTFHTMWHVTRGAVLMHKGKRIEPSWADVKKDLISYGGGWKLEGEWKEGEEVQVLALEPGKNPRAVQTKPGLFRTNTGTIGAVSLDFSPGTSGSPIVDKKGKVVGLYGNGVVTRGGAYVSAIAQTEKGIEDNPEIEDDIFRKRRLTIMDLHPGAGKTKRYLPAIVREAIKRGLRTLILAPTRVVAAEMEEALRGLPIRYQTPAIRAEHTGREIVDLMCHATFTMRLLSPIRVPNYNLIIMDEAHFTDPASIAARGYISTRVEMGEAAGIFMTATPPGSRDPFPQSNAPIMDEEREIPERSWNSGHEWVTDFKGKTVWFVPSIKTGNDIAACLRKNGKRVIQLSRKTFDSEYVKTRTNDWDFVVTTDISEMGANFKAERVIDPRRCMKPVILTDGEERVILAGPMPVTHSSAAQRRGRIGRNPRNENDQYIYMGEPLENDEDCAHWKEAKMLLDNINTPEGIIPSMFEPEREKVDAIDGEYRLRGEARKTFVDLMRRGDLPVWLAYKVAAEGINYADRRWCFDGTRNNQILEENVEVEIWTKEGERKKLKPRWLDARIYSDPLALKEFKEFAAGRK'], ['>NS4A_Proteína no estructural 4A', 'SLTLNLITEMGRLPTFMTQKARDALDNLAVLHTAEAGGKAYNHALSELPETLETLLLLTLLATVTGGIFLFLMSGRGIGKMTLGMCCIITASILLWYAQIQPHWIAASIILEFFLIVLLIPEPEKQR'], ['>NS4B_Proteína no estructural 4B', 'NEMGFLEKTKKDLGLGHIATQQPESNILDIDLRPASAWTLYAVATTFITPMLRHSIENSSVNVSLTAIANQATVLMGLGKGWPLSKMDIGVPLLAIGCYSQVNPITLTAALLMLVAHYAIIGPGLQAKATREAQKRAAAGIMKNPTVDGITVIDLDPIPYDPKFEKQLGQVMLLVLCVTQVLMMRTTWALCEALTLATGPVSTLWEGNPGRFWNTTIAVSMANIFRGSYLAGAGLLFSIMKNTTSTRR'], ['>NS5_Proteína no estructural 5', 'GTGNMGETLGEKWKNRLNALGKSEFQIYKKSGIQEVDRTLAKEGIKRGETDHHAVSRGSAKLRWFVERNLVTPEGKVVDLGCGRGGWSYYCGGLKNVREVKGLTKGGPGHEEPIPMSTYGWNLVRLQSGVDVFFVPPEKCDTLLCDIGESSPNPTVEAGRTLRVLNLVENWLNNNTQFCVKVLNPYMPSVIERMETLQRKYGGALVRNPLSRNSTHEMYWVSNASGNIVSSVNMISRMLINRFTMRHKKATYEPDVDLGSGTRNIGIESETPNLDIIGKRIEKIKQEHETSWHYDQDHPYKTWAYHGSYETKQTGSASSMVNGVVRLLTKPWDVIPMVTQMAMTDTTPFGQQRVFKEKVDTRTQEPKEGTKKLMKITAEWLWKELGKKKTPRMCTREEFTKKVRSNAALGAIFTDENKWKSAREAVEDNRFWELVDKERNLHLEGKCETCVYNMMGKREKKLGEFGKAKGSRAIWYMWLGARFLEFEALGFLNEDHWFSRENSLSGVEGEGLHKLGYILREVSKKEGGAMYADDTAGWDTRITIEDLKNEEMITNHMAGEHKKLAEAIFKLTYQNKVVRVQRPTPRGTVMDIISRRDQRGSGQVVTYGLNTFTNMEAQLIRQMEGEGVFKSIQHLTASEEIAVQDWLVRVGRERLSRMAISGDDCVVKPLDDRFAKALTALNDMGKVRKDIQQWEPSRGWNDWTQVPFCSHHFHELIMKDGRTLVVPCRNQDELIGRARISQGAGWSLRETACLGKSYAQMWSLMYFHRRDLRLAANAICSAVPSHWVPTSRTTWSIHASHEWMTTEDMLTVWNRVWILENPWMEDKTPVESWEEIPYLGKREDQWCGSLIGLTSRATWAKNIQTAINQVRSLIGNEEYTDYMPSMKRFRREEEEVGVLW']"
   ]
  },
  {
   "cell_type": "code",
   "execution_count": 196,
   "id": "4059f87f",
   "metadata": {},
   "outputs": [],
   "source": [
    "# Crear una lista con las listas de las primeras 5 secuencias con sus nombres respectivos\n",
    "first_5_sequences = end[0:5]"
   ]
  },
  {
   "cell_type": "code",
   "execution_count": 5,
   "id": "b46fdd02",
   "metadata": {},
   "outputs": [],
   "source": [
    "# Importar el módulo 'time'\n",
    "import time"
   ]
  },
  {
   "cell_type": "code",
   "execution_count": 197,
   "id": "964349ca",
   "metadata": {},
   "outputs": [
    {
     "name": "stdout",
     "output_type": "stream",
     "text": [
      "The first 5 sequences have been sent successfully\n"
     ]
    }
   ],
   "source": [
    "# OBTENER LOS RESULTADOS DE ANTIGENICIDAD CON ANTIGENpro PARA LAS 1ERAS 5 SECUENCIAS \n",
    "# (El servidor solo acepta un máximo de 5 secuencias enviadas hasta que se envíen sus resultados por correo)\n",
    "\n",
    "# Inicializar el Selenium WebDriver\n",
    "driver = webdriver.Chrome(service = s)\n",
    "\n",
    "# Definir los parámetros:\n",
    "## Website de la herramienta ANTIGENpro en SCRATCH\n",
    "ANTIGENpro = driver.get('https://scratch.proteomics.ics.uci.edu/')\n",
    "\n",
    "### Esperar un segundo, hasta que la página se cargue por completo\n",
    "time.sleep(1)\n",
    "\n",
    "## E-mail de destino\n",
    "email = driver.find_element(by = By.NAME, value = 'email')\n",
    "\n",
    "## Nombre de la proteína objetivo \n",
    "protein = driver.find_elements(by = By.XPATH, value = '/html/body/div/form/table/tbody/tr[2]/td[2]/input')\n",
    "\n",
    "## Secuencia de la proteína objetivo\n",
    "sequence = driver.find_elements(by = By.XPATH, value = '/html/body/div/form/table/tbody/tr[3]/td[2]/textarea')\n",
    "\n",
    "## Selección de la opción 'ANTIGENpro: Protein Antigenicity'\n",
    "submitButton = driver.find_element(by = By.NAME, value = 'ant')\n",
    "\n",
    "## Entrega de la data\n",
    "send_response = driver.find_element(by = By.XPATH, value = '/html/body/div[1]/form/table/tbody/tr[6]/td/input[2]')\n",
    "\n",
    "\n",
    "# Realizar el análisis de antigenicidad:\n",
    "for data in first_5_sequences:\n",
    "    count = 0\n",
    "    for value in protein:\n",
    "        value.send_keys(data[count])\n",
    "        count += 1\n",
    "        \n",
    "    for value in sequence:\n",
    "        value.send_keys(data[count])\n",
    "        count += 1 \n",
    "        \n",
    "        email.send_keys(\"victor.cornejo@unmsm.edu.pe\")\n",
    "        submitButton.click()\n",
    "        send_response.click()\n",
    "        driver.find_element(by = By.LINK_TEXT, value = 'Back to Home').click()\n",
    "        \n",
    "        # Volver a definir los elementos web debido al cambio de DOM tras la actualización\n",
    "        email = driver.find_element(by = By.NAME, value = 'email')\n",
    "        protein = driver.find_elements(by = By.XPATH, value = '/html/body/div/form/table/tbody/tr[2]/td[2]/input')\n",
    "        sequence = driver.find_elements(by = By.XPATH, value = '/html/body/div/form/table/tbody/tr[3]/td[2]/textarea')\n",
    "        submitButton = driver.find_element(by = By.NAME, value = 'ant')\n",
    "        send_response = driver.find_element(by = By.XPATH, value = '/html/body/div[1]/form/table/tbody/tr[6]/td/input[2]')\n",
    "\n",
    "driver.close()\n",
    "\n",
    "print(\"The first 5 sequences have been sent successfully\")"
   ]
  },
  {
   "cell_type": "code",
   "execution_count": 200,
   "id": "5319cb9b",
   "metadata": {},
   "outputs": [],
   "source": [
    "# Crear una lista con las listas de las últimas 5 secuencias con sus nombres respectivos\n",
    "last_5_sequences = end[5:10]"
   ]
  },
  {
   "cell_type": "code",
   "execution_count": 201,
   "id": "e7e6cac0",
   "metadata": {},
   "outputs": [
    {
     "name": "stdout",
     "output_type": "stream",
     "text": [
      "The last 5 sequences have been sent successfully\n"
     ]
    }
   ],
   "source": [
    "# OBTENER LOS RESULTADOS DE ANTIGENICIDAD CON ANTIGENpro PARA LAS ÚLTIMAS 5 SECUENCIAS\n",
    "# (Utilizar el mismo correo luego de 2 min aprox o emplear otro)\n",
    "\n",
    "# Inicializar el Selenium WebDriver\n",
    "driver = webdriver.Chrome(service = s)\n",
    "\n",
    "# Definir los parámetros:\n",
    "## Website de la herramienta ANTIGENpro en SCRATCH\n",
    "ANTIGENpro = driver.get('https://scratch.proteomics.ics.uci.edu/')\n",
    "\n",
    "# Esperar un segundo, hasta que la página se cargue por completo\n",
    "time.sleep(1)\n",
    "\n",
    "## E-mail de destino\n",
    "email = driver.find_element(by = By.NAME, value = 'email')\n",
    "\n",
    "## Nombre de la proteína objetivo \n",
    "protein = driver.find_elements(by = By.XPATH, value = '/html/body/div/form/table/tbody/tr[2]/td[2]/input')\n",
    "\n",
    "## Secuencia de la proteína objetivo\n",
    "sequence = driver.find_elements(by = By.XPATH, value = '/html/body/div/form/table/tbody/tr[3]/td[2]/textarea')\n",
    "\n",
    "## Selección de la opción 'ANTIGENpro: Protein Antigenicity'\n",
    "submitButton = driver.find_element(by = By.NAME, value = 'ant')\n",
    "\n",
    "## Entrega de la data\n",
    "send_response = driver.find_element(by = By.XPATH, value = '/html/body/div[1]/form/table/tbody/tr[6]/td/input[2]')\n",
    "\n",
    "\n",
    "# Realizar el análisis de antigenicidad:\n",
    "for data in last_5_sequences:\n",
    "    count = 0\n",
    "    for value in protein:\n",
    "        value.send_keys(data[count])\n",
    "        count += 1\n",
    "        \n",
    "    for value in sequence:\n",
    "        value.send_keys(data[count])\n",
    "        count += 1 \n",
    "        \n",
    "        email.send_keys(\"victor.cornejo@unmsm.edu.pe\")\n",
    "        submitButton.click()\n",
    "        send_response.click()\n",
    "        driver.find_element(by = By.LINK_TEXT, value = 'Back to Home').click()\n",
    "        \n",
    "        email = driver.find_element(by = By.NAME, value = 'email')\n",
    "        protein = driver.find_elements(by = By.XPATH, value = '/html/body/div/form/table/tbody/tr[2]/td[2]/input')\n",
    "        sequence = driver.find_elements(by = By.XPATH, value = '/html/body/div/form/table/tbody/tr[3]/td[2]/textarea')\n",
    "        submitButton = driver.find_element(by = By.NAME, value = 'ant')\n",
    "        send_response = driver.find_element(by = By.XPATH, value = '/html/body/div[1]/form/table/tbody/tr[6]/td/input[2]')\n",
    "\n",
    "driver.close()\n",
    "\n",
    "print(\"The last 5 sequences have been sent successfully\")"
   ]
  },
  {
   "cell_type": "markdown",
   "id": "967cf6f8",
   "metadata": {},
   "source": [
    "## 2. Análisis de propiedades fisicoquímicas"
   ]
  },
  {
   "cell_type": "markdown",
   "id": "54e7fcf7",
   "metadata": {},
   "source": [
    "Las propiedades fisicoquímicas de las secuencias se determinaron mediante un script en Python del módulo **Bio.SeqUtils.ProtParam**, basado en la herramienta en línea **ProtParam** (https://web.expasy.org/protparam/) de ExPASy (*Wilkins et al., 1999*). Las proteínas predichas como <u>'Inestable'</u> fueron descartadas para el resto de la metodología."
   ]
  },
  {
   "cell_type": "code",
   "execution_count": 3,
   "id": "eb84ea33",
   "metadata": {},
   "outputs": [
    {
     "name": "stdout",
     "output_type": "stream",
     "text": [
      "Defaulting to user installation because normal site-packages is not writeable\n",
      "Collecting peptides\n",
      "  Downloading peptides-0.3.2-py3-none-any.whl (115 kB)\n",
      "\u001b[2K     \u001b[38;2;114;156;31m━━━━━━━━━━━━━━━━━━━━━━━━━━━━━━━━━━━━━━━\u001b[0m \u001b[32m115.4/115.4 KB\u001b[0m \u001b[31m1.4 MB/s\u001b[0m eta \u001b[36m0:00:00\u001b[0m[36m0:00:01\u001b[0m[36m0:00:01\u001b[0m\n",
      "\u001b[?25hInstalling collected packages: peptides\n",
      "Successfully installed peptides-0.3.2\n",
      "Note: you may need to restart the kernel to use updated packages.\n"
     ]
    }
   ],
   "source": [
    "# Instalar los paquetes 'biopython' y 'peptides'\n",
    "pip install biopython\n",
    "pip install peptides"
   ]
  },
  {
   "cell_type": "code",
   "execution_count": 68,
   "id": "f50508ed",
   "metadata": {},
   "outputs": [],
   "source": [
    "# Importar los módulos 'Bio', 'collections' y 'peptides'\n",
    "import Bio\n",
    "import collections\n",
    "from Bio import SeqIO\n",
    "from Bio.SeqUtils.ProtParam import ProteinAnalysis\n",
    "import peptides"
   ]
  },
  {
   "cell_type": "code",
   "execution_count": 15,
   "id": "8df0e38c",
   "metadata": {},
   "outputs": [
    {
     "name": "stdout",
     "output_type": "stream",
     "text": [
      "prM_Proteína 166\n",
      "E_Proteína 495\n",
      "NS1_Proteína 352\n",
      "NS2A_Proteína 218\n",
      "NS2B_Proteína 130\n",
      "NS3_Proteína 618\n",
      "NS4A_Proteína 127\n",
      "NS4B_Proteína 248\n",
      "NS5_Proteína 900\n"
     ]
    }
   ],
   "source": [
    "# Determinar cada una una de las propiedades fisicoquímicas de las proteínas:\n",
    "## Número de aminoácidos - len()\n",
    "for rec in SeqIO.parse('Filtro_Proteínas_virales_DENV-2.fasta', 'fasta'):\n",
    "    total_amino_acid = len(rec.seq)\n",
    "    print(rec.id, total_amino_acid)"
   ]
  },
  {
   "cell_type": "code",
   "execution_count": 192,
   "id": "bfea04de",
   "metadata": {},
   "outputs": [
    {
     "name": "stdout",
     "output_type": "stream",
     "text": [
      "prM_Proteína 18871.60\n",
      "E_Proteína 54324.24\n",
      "NS1_Proteína 39893.92\n",
      "NS2A_Proteína 23656.31\n",
      "NS2B_Proteína 14061.12\n",
      "NS3_Proteína 69489.57\n",
      "NS4A_Proteína 13966.51\n",
      "NS4B_Proteína 26774.13\n",
      "NS5_Proteína 103269.54\n"
     ]
    }
   ],
   "source": [
    "## Peso molecular - molecular_weight()\n",
    "for rec in SeqIO.parse('Filtro_Proteínas_virales_DENV-2.fasta', 'fasta'):\n",
    "    x = ProteinAnalysis(rec.seq)\n",
    "    print(rec.id, '%0.2f' % x.molecular_weight())"
   ]
  },
  {
   "cell_type": "code",
   "execution_count": 193,
   "id": "03d98bb1",
   "metadata": {},
   "outputs": [
    {
     "name": "stdout",
     "output_type": "stream",
     "text": [
      "prM_Proteína 7.19\n",
      "E_Proteína 6.86\n",
      "NS1_Proteína 6.41\n",
      "NS2A_Proteína 9.82\n",
      "NS2B_Proteína 4.43\n",
      "NS3_Proteína 8.53\n",
      "NS4A_Proteína 5.84\n",
      "NS4B_Proteína 9.01\n",
      "NS5_Proteína 8.77\n"
     ]
    }
   ],
   "source": [
    "## Punto isoeléctrico - isoelectric_point()\n",
    "for rec in SeqIO.parse('Filtro_Proteínas_virales_DENV-2.fasta', 'fasta'):\n",
    "    x = ProteinAnalysis(rec.seq)\n",
    "    print(rec.id, '%0.2f' % x.isoelectric_point())"
   ]
  },
  {
   "cell_type": "code",
   "execution_count": 195,
   "id": "42b784c2",
   "metadata": {},
   "outputs": [
    {
     "name": "stdout",
     "output_type": "stream",
     "text": [
      "prM_Proteína (31970, 32345)\n",
      "E_Proteína (66920, 67670)\n",
      "NS1_Proteína (87430, 88180)\n",
      "NS2A_Proteína (13980, 14105)\n",
      "NS2B_Proteína (24980, 24980)\n",
      "NS3_Proteína (102330, 102580)\n",
      "NS4A_Proteína (13980, 14105)\n",
      "NS4B_Proteína (34950, 35075)\n",
      "NS5_Proteína (215770, 216645)\n"
     ]
    }
   ],
   "source": [
    "## Coeficiente de extinción - molar_extinction_coefficient()\n",
    "for rec in SeqIO.parse('Filtro_Proteínas_virales_DENV-2.fasta', 'fasta'):\n",
    "    x = ProteinAnalysis(rec.seq)\n",
    "    print(rec.id, x.molar_extinction_coefficient())"
   ]
  },
  {
   "cell_type": "code",
   "execution_count": 196,
   "id": "93dfc6a0",
   "metadata": {},
   "outputs": [
    {
     "name": "stdout",
     "output_type": "stream",
     "text": [
      "prM_Proteína 41.70\n",
      "E_Proteína 26.97\n",
      "NS1_Proteína 47.46\n",
      "NS2A_Proteína 30.27\n",
      "NS2B_Proteína 43.16\n",
      "NS3_Proteína 38.13\n",
      "NS4A_Proteína 33.25\n",
      "NS4B_Proteína 32.78\n",
      "NS5_Proteína 36.44\n"
     ]
    }
   ],
   "source": [
    "## Índice de inestabilidad - instability_index()\n",
    "for rec in SeqIO.parse('Filtro_Proteínas_virales_DENV-2.fasta', 'fasta'):\n",
    "    x = ProteinAnalysis(rec.seq)\n",
    "    print(rec.id, '%0.2f' % x.instability_index())"
   ]
  },
  {
   "cell_type": "code",
   "execution_count": 12,
   "id": "cb4a7df2",
   "metadata": {},
   "outputs": [
    {
     "name": "stdout",
     "output_type": "stream",
     "text": [
      "prM_Proteína 74.64\n",
      "E_Proteína 84.83\n",
      "NS1_Proteína 72.56\n",
      "NS2A_Proteína 125.69\n",
      "NS2B_Proteína 117.77\n",
      "NS3_Proteína 78.45\n",
      "NS4A_Proteína 129.92\n",
      "NS4B_Proteína 105.08\n",
      "NS5_Proteína 72.11\n"
     ]
    }
   ],
   "source": [
    "## Índice alifático - aliphatic_index()\n",
    "for rec in SeqIO.parse('Filtro_Proteínas_virales_DENV-2.fasta', 'fasta'):\n",
    "    peptide = peptides.Peptide(rec.seq)\n",
    "    print(rec.id, '%0.2f' % peptide.aliphatic_index())"
   ]
  },
  {
   "cell_type": "code",
   "execution_count": 13,
   "id": "9182f6e8",
   "metadata": {},
   "outputs": [
    {
     "name": "stdout",
     "output_type": "stream",
     "text": [
      "prM_Proteína -0.22\n",
      "E_Proteína -0.10\n",
      "NS1_Proteína -0.50\n",
      "NS2A_Proteína 0.68\n",
      "NS2B_Proteína 0.31\n",
      "NS3_Proteína -0.51\n",
      "NS4A_Proteína 0.63\n",
      "NS4B_Proteína 0.27\n",
      "NS5_Proteína -0.61\n"
     ]
    }
   ],
   "source": [
    "## GRAVY - gravy()\n",
    "for rec in SeqIO.parse('Filtro_Proteínas_virales_DENV-2.fasta', 'fasta'):\n",
    "    x = ProteinAnalysis(rec.seq)\n",
    "    print(rec.id, '%0.2f' % x.gravy())"
   ]
  },
  {
   "cell_type": "markdown",
   "id": "28ad5fd4",
   "metadata": {},
   "source": [
    "Además, se evaluó la presencia de hélices transmembrana y algún péptido señal con un script en Python de los servidores en línea **SignalP v6.0** (https://services.healthtech.dtu.dk/services/SignalP-6.0/) (*Teufel et al., 2022*) y **DeepTMHMM** (https://dtu.biolib.com/DeepTMHMM) (*Hallgren et al., 2022*), respectivamente."
   ]
  },
  {
   "cell_type": "markdown",
   "id": "a79efe98",
   "metadata": {},
   "source": [
    "### - Evaluación de presencia de péptidos señal (SignalP v6.0)"
   ]
  },
  {
   "cell_type": "code",
   "execution_count": 24,
   "id": "891b8713",
   "metadata": {},
   "outputs": [
    {
     "name": "stdout",
     "output_type": "stream",
     "text": [
      "Defaulting to user installation because normal site-packages is not writeable\n",
      "Processing ./signalp-6-package\n",
      "  Installing build dependencies ... \u001b[?25ldone\n",
      "\u001b[?25h  Getting requirements to build wheel ... \u001b[?25ldone\n",
      "\u001b[?25h  Preparing metadata (pyproject.toml) ... \u001b[?25ldone\n",
      "\u001b[?25hRequirement already satisfied: matplotlib>3.3.2 in /usr/lib/python3/dist-packages (from signalp6==6.0+g) (3.5.1)\n",
      "Requirement already satisfied: numpy>1.19.2 in /usr/lib/python3/dist-packages (from signalp6==6.0+g) (1.21.5)\n",
      "Requirement already satisfied: torch>1.7.0 in /home/victor/.local/lib/python3.10/site-packages (from signalp6==6.0+g) (1.12.1)\n",
      "Requirement already satisfied: tqdm>4.46.1 in /home/victor/.local/lib/python3.10/site-packages (from signalp6==6.0+g) (4.65.0)\n",
      "Requirement already satisfied: typing-extensions in /home/victor/.local/lib/python3.10/site-packages (from torch>1.7.0->signalp6==6.0+g) (4.5.0)\n",
      "Building wheels for collected packages: signalp6\n",
      "  Building wheel for signalp6 (pyproject.toml) ... \u001b[?25ldone\n",
      "\u001b[?25h  Created wheel for signalp6: filename=signalp6-6.0+g-py3-none-any.whl size=25106 sha256=e4550ebaf982c5df0b3428abf8bf1ebf2bab8121e7acbf324b69eacb4c422fc4\n",
      "  Stored in directory: /home/victor/.cache/pip/wheels/c3/c5/f5/e6e08612c23af583c242633b144a6075f33bac8dda6605c11a\n",
      "Successfully built signalp6\n",
      "Installing collected packages: signalp6\n",
      "  Attempting uninstall: signalp6\n",
      "    Found existing installation: signalp6 6.0+g\n",
      "    Uninstalling signalp6-6.0+g:\n",
      "      Successfully uninstalled signalp6-6.0+g\n",
      "Successfully installed signalp6-6.0+g\n"
     ]
    }
   ],
   "source": [
    "# Descargar archivo tar.gz (https://services.healthtech.dtu.dk/services/SignalP-6.0/)\n",
    "# Instalar el paquete descargado:\n",
    "!pip install signalp-6-package/"
   ]
  },
  {
   "cell_type": "code",
   "execution_count": 2,
   "id": "89cbdb5b",
   "metadata": {},
   "outputs": [],
   "source": [
    "# Copiar los archivos del modelo en la ubicación en la que se instaló el módulo 'Signalp'\n",
    "!SIGNALP_DIR = $(python3 -c 'import signalp; import os; print(os.path.dirname(signalp.__file__))' )\n",
    "!cp -r signalp-6-package/models/* $SIGNALP_DIR signalp-6-package/signalp/model_weights/\n",
    "## (En el caso de Jupyter, los archivos de 'sequential_models_signalp6' también deben moverse a '/home/victor/.local/lib/python3.10/site-packages/signalp/model_weights')"
   ]
  },
  {
   "cell_type": "code",
   "execution_count": 25,
   "id": "75c10c43",
   "metadata": {
    "scrolled": true
   },
   "outputs": [
    {
     "name": "stdout",
     "output_type": "stream",
     "text": [
      "Predicting 1/6: 100%|██████████████████████| 9/9 [00:04<00:00,  2.10sequences/s]\n",
      "Predicting 2/6: 100%|██████████████████████| 9/9 [00:04<00:00,  2.18sequences/s]\n",
      "Predicting 3/6: 100%|██████████████████████| 9/9 [00:04<00:00,  2.13sequences/s]\n",
      "Predicting 4/6: 100%|██████████████████████| 9/9 [00:04<00:00,  2.25sequences/s]\n",
      "Predicting 5/6: 100%|██████████████████████| 9/9 [00:04<00:00,  2.18sequences/s]\n",
      "Predicting 6/6: 100%|██████████████████████| 9/9 [00:04<00:00,  2.16sequences/s]\n",
      "Writing files: 100%|██████████████████████████████| 9/9 [00:00<00:00, 49.74it/s]\n"
     ]
    }
   ],
   "source": [
    "# Realizar la predicción de los péptidos señal\n",
    "!signalp6 --fastafile Filtro_Proteínas_virales_DENV-2.fasta --organism other --output_dir SignalP_v6_Resultados --format txt --mode slow-sequential"
   ]
  },
  {
   "cell_type": "markdown",
   "id": "79e670cd",
   "metadata": {},
   "source": [
    "### - Evaluación de presencia de hélices transmembrana (DeepTMHMM)"
   ]
  },
  {
   "cell_type": "code",
   "execution_count": 47,
   "id": "327eb136",
   "metadata": {},
   "outputs": [
    {
     "name": "stdout",
     "output_type": "stream",
     "text": [
      "Defaulting to user installation because normal site-packages is not writeable\n",
      "Requirement already satisfied: torch in /home/victor/.local/lib/python3.10/site-packages (2.0.1)\n",
      "Collecting torchvision\n",
      "  Downloading torchvision-0.15.2-cp310-cp310-manylinux1_x86_64.whl (6.0 MB)\n",
      "\u001b[2K     \u001b[38;2;114;156;31m━━━━━━━━━━━━━━━━━━━━━━━━━━━━━━━━━━━━━━━━\u001b[0m \u001b[32m6.0/6.0 MB\u001b[0m \u001b[31m1.5 MB/s\u001b[0m eta \u001b[36m0:00:00\u001b[0mm eta \u001b[36m0:00:01\u001b[0m[36m0:00:01\u001b[0m\n",
      "\u001b[?25hRequirement already satisfied: nvidia-cufft-cu11==10.9.0.58 in /home/victor/.local/lib/python3.10/site-packages (from torch) (10.9.0.58)\n",
      "Requirement already satisfied: sympy in /usr/lib/python3/dist-packages (from torch) (1.9)\n",
      "Requirement already satisfied: nvidia-curand-cu11==10.2.10.91 in /home/victor/.local/lib/python3.10/site-packages (from torch) (10.2.10.91)\n",
      "Requirement already satisfied: nvidia-cusolver-cu11==11.4.0.1 in /home/victor/.local/lib/python3.10/site-packages (from torch) (11.4.0.1)\n",
      "Requirement already satisfied: filelock in /home/victor/.local/lib/python3.10/site-packages (from torch) (3.12.0)\n",
      "Requirement already satisfied: nvidia-nvtx-cu11==11.7.91 in /home/victor/.local/lib/python3.10/site-packages (from torch) (11.7.91)\n",
      "Requirement already satisfied: nvidia-cuda-cupti-cu11==11.7.101 in /home/victor/.local/lib/python3.10/site-packages (from torch) (11.7.101)\n",
      "Requirement already satisfied: typing-extensions in /home/victor/.local/lib/python3.10/site-packages (from torch) (4.6.2)\n",
      "Requirement already satisfied: nvidia-cublas-cu11==11.10.3.66 in /home/victor/.local/lib/python3.10/site-packages (from torch) (11.10.3.66)\n",
      "Requirement already satisfied: nvidia-cuda-nvrtc-cu11==11.7.99 in /home/victor/.local/lib/python3.10/site-packages (from torch) (11.7.99)\n",
      "Requirement already satisfied: nvidia-cusparse-cu11==11.7.4.91 in /home/victor/.local/lib/python3.10/site-packages (from torch) (11.7.4.91)\n",
      "Requirement already satisfied: nvidia-cuda-runtime-cu11==11.7.99 in /home/victor/.local/lib/python3.10/site-packages (from torch) (11.7.99)\n",
      "Requirement already satisfied: nvidia-cudnn-cu11==8.5.0.96 in /home/victor/.local/lib/python3.10/site-packages (from torch) (8.5.0.96)\n",
      "Requirement already satisfied: jinja2 in /usr/lib/python3/dist-packages (from torch) (3.0.3)\n",
      "Requirement already satisfied: triton==2.0.0 in /home/victor/.local/lib/python3.10/site-packages (from torch) (2.0.0)\n",
      "Requirement already satisfied: networkx in /usr/lib/python3/dist-packages (from torch) (2.4)\n",
      "Requirement already satisfied: nvidia-nccl-cu11==2.14.3 in /home/victor/.local/lib/python3.10/site-packages (from torch) (2.14.3)\n",
      "Requirement already satisfied: setuptools in /usr/lib/python3/dist-packages (from nvidia-cublas-cu11==11.10.3.66->torch) (59.6.0)\n",
      "Requirement already satisfied: wheel in /usr/lib/python3/dist-packages (from nvidia-cublas-cu11==11.10.3.66->torch) (0.37.1)\n",
      "Requirement already satisfied: lit in /home/victor/.local/lib/python3.10/site-packages (from triton==2.0.0->torch) (16.0.5)\n",
      "Requirement already satisfied: cmake in /home/victor/.local/lib/python3.10/site-packages (from triton==2.0.0->torch) (3.26.3)\n",
      "Requirement already satisfied: numpy in /usr/lib/python3/dist-packages (from torchvision) (1.21.5)\n",
      "Requirement already satisfied: pillow!=8.3.*,>=5.3.0 in /usr/lib/python3/dist-packages (from torchvision) (9.0.1)\n",
      "Requirement already satisfied: requests in /home/victor/.local/lib/python3.10/site-packages (from torchvision) (2.29.0)\n",
      "Requirement already satisfied: certifi>=2017.4.17 in /home/victor/.local/lib/python3.10/site-packages (from requests->torchvision) (2023.5.7)\n",
      "Requirement already satisfied: charset-normalizer<4,>=2 in /home/victor/.local/lib/python3.10/site-packages (from requests->torchvision) (3.1.0)\n",
      "Requirement already satisfied: idna<4,>=2.5 in /usr/lib/python3/dist-packages (from requests->torchvision) (3.3)\n",
      "Requirement already satisfied: urllib3<1.27,>=1.21.1 in /usr/lib/python3/dist-packages (from requests->torchvision) (1.26.5)\n",
      "Installing collected packages: torchvision\n",
      "Successfully installed torchvision-0.15.2\n"
     ]
    }
   ],
   "source": [
    "# Instalar 'pybiolib'\n",
    "!pip3 install -qU pybiolib\n",
    "!pip3 install torch torchvision"
   ]
  },
  {
   "cell_type": "code",
   "execution_count": 26,
   "id": "b338509a",
   "metadata": {},
   "outputs": [
    {
     "name": "stdout",
     "output_type": "stream",
     "text": [
      "2023-05-28 12:53:15,464 | INFO : Loaded project DTU/DeepTMHMM:1.0.24\n"
     ]
    }
   ],
   "source": [
    "# Importar 'pybiolib' y cargar 'DeepTMHMM'\n",
    "import biolib\n",
    "deeptmhmm = biolib.load('DTU/DeepTMHMM')"
   ]
  },
  {
   "cell_type": "code",
   "execution_count": 27,
   "id": "0696e7e1",
   "metadata": {},
   "outputs": [
    {
     "name": "stdout",
     "output_type": "stream",
     "text": [
      "2023-05-28 12:53:49,257 | INFO : Job \"70361464-c143-464d-a331-8637161c148c\" is starting...\n",
      "2023-05-28 12:54:04,402 | INFO : Cloud: Initializing\n",
      "2023-05-28 12:54:04,404 | INFO : Cloud: Pulling images...\n",
      "2023-05-28 12:54:04,405 | INFO : Cloud: Computing...\n",
      "Running DeepTMHMM on 9 sequences...\n",
      "Step 1/4 | Loading transformer model...\n",
      "\n",
      "Step 2/4 | Generating embeddings for sequences...\n",
      "Generating embeddings: 100% 9/9 [00:01<00:00,  5.35seq/s]\n",
      "\n",
      "Step 3/4 | Predicting topologies for sequences in batches of 1...\n",
      "Topology prediction: 100% 9/9 [00:06<00:00,  1.43seq/s]\n",
      "\n",
      "Step 4/4 | Generating output...\n",
      "2023-05-28 12:54:28,574 | INFO : Cloud: Computation finished\n",
      "2023-05-28 12:54:28,574 | INFO : Cloud: Result Ready\n"
     ]
    }
   ],
   "source": [
    "# Realizar la predicción de la presencia de hélices transmembrana\n",
    "deeptmhmm_job = deeptmhmm.cli(args = '--fasta Filtro_Proteínas_virales_DENV-2.fasta')"
   ]
  },
  {
   "cell_type": "code",
   "execution_count": 28,
   "id": "17e8f6a0",
   "metadata": {},
   "outputs": [
    {
     "name": "stdout",
     "output_type": "stream",
     "text": [
      "2023-05-28 12:56:08,005 | INFO : Saving 3 files to DeepTMHMM_Resultados...\n",
      "2023-05-28 12:56:09,876 | INFO :   - DeepTMHMM_Resultados/TMRs.gff3\n",
      "2023-05-28 12:56:11,760 | INFO :   - DeepTMHMM_Resultados/predicted_topologies.3line\n",
      "2023-05-28 12:56:13,637 | INFO :   - DeepTMHMM_Resultados/deeptmhmm_results.md\n"
     ]
    }
   ],
   "source": [
    "# Guardar los resultados\n",
    "deeptmhmm_job.save_files('DeepTMHMM_Resultados')"
   ]
  },
  {
   "cell_type": "markdown",
   "id": "8ce81e94",
   "metadata": {},
   "source": [
    "De igual manera, se estimó la localización subcelular y la tendencia a la solubilidad de las proteínas con los servidores **DeepLoc v2.0** (https://services.healthtech.dtu.dk/services/DeepLoc-2.0/) (*Thumuluri et al., 2022*) y **Protein-Sol** (https://protein-sol.manchester.ac.uk/) (*Hebditch et al., 2017*), respectivamente."
   ]
  },
  {
   "cell_type": "markdown",
   "id": "3a73b3ac",
   "metadata": {},
   "source": [
    "### - Estimación de localización subcelular (DeepLoc v2.0)"
   ]
  },
  {
   "cell_type": "code",
   "execution_count": 6,
   "id": "936cf304",
   "metadata": {},
   "outputs": [
    {
     "name": "stdout",
     "output_type": "stream",
     "text": [
      "All sequences were downloaded!\n"
     ]
    }
   ],
   "source": [
    "# Inicializar el Selenium WebDriver\n",
    "driver = webdriver.Chrome(service = s)\n",
    "\n",
    "# Visitar el servidor DeepLoc v2.0\n",
    "driver.get('https://services.healthtech.dtu.dk/services/DeepLoc-2.0/')\n",
    "time.sleep(1)\n",
    "driver.find_element(by = By.XPATH, value = '//*[@id=\"cookiescript_accept\"]').click()\n",
    "time.sleep(4)\n",
    "\n",
    "## Importar el archivo con las secuencias de las proteínas\n",
    "input_proteins = driver.find_element(by = By.NAME, value = 'uploadfile')\n",
    "input_proteins.send_keys('/home/victor/Escritorio/Tesis/RESULTADOS/3. Filtrado de proteínas virales objetivo/Filtro_Proteínas_virales_DENV-2.fasta')\n",
    "\n",
    "# Entregar la data\n",
    "elements = driver.find_element(By.XPATH, '/html/body/div[3]/main/div/div[3]/div/div[2]/div[1]/div/form/div/div/div/div/input[1]')\n",
    "driver.execute_script('arguments[0].click();', elements)\n",
    "time.sleep(130)\n",
    "\n",
    "# Obtener la predicción de localización subcelular\n",
    "get_url = driver.current_url\n",
    "time.sleep(4)\n",
    "driver.find_element(by = By.XPATH, value = '/html/body/div[1]/div[2]/h5/a').click()\n",
    "\n",
    "\n",
    "driver.close()\n",
    "\n",
    "print('All sequences were downloaded!')"
   ]
  },
  {
   "cell_type": "markdown",
   "id": "767b8a49",
   "metadata": {},
   "source": [
    "### - Estimación de tendencia a solubilidad (Protein-Sol)"
   ]
  },
  {
   "cell_type": "code",
   "execution_count": 52,
   "id": "a32963b3",
   "metadata": {},
   "outputs": [],
   "source": [
    "# Diseñar un archivo de entrada exclusivamente con las secuencias de las 9 proteínas filtradas\n",
    "file_seq_filtered = open('Filtro_Proteínas_virales_DENV-2.fasta')\n",
    "\n",
    "## Secuencias aminoacídicas de cada proteína\n",
    "data_seq_filtered = []\n",
    "for pos_f, l_num_f in enumerate(file_seq_filtered):\n",
    "    # comprobar si el número de línea se especifica en las líneas para leer la matriz\n",
    "    if pos_f %3 == 1:\n",
    "        # imprimir el número de línea requerido\n",
    "        data_seq_filtered.append(l_num_f)\n",
    "\n",
    "each_seq_filtered = [[x.rstrip('\\n')] for x in data_seq_filtered]"
   ]
  },
  {
   "cell_type": "code",
   "execution_count": 53,
   "id": "5f7e1367",
   "metadata": {},
   "outputs": [
    {
     "name": "stdout",
     "output_type": "stream",
     "text": [
      "All the sequences were processed and their results were downloaded successfully!\n"
     ]
    }
   ],
   "source": [
    "# Inicializar el Selenium WebDriver\n",
    "driver = webdriver.Chrome(service = s)\n",
    "\n",
    "# Definir los parámetros\n",
    "## Website del servidor Protein-Sol\n",
    "driver.get('https://protein-sol.manchester.ac.uk/')\n",
    "\n",
    "# Esperar un segundo, hasta que la página esté totalmente cargada\n",
    "time.sleep(1)\n",
    "\n",
    "for data in each_seq_filtered:\n",
    "    count = 0\n",
    "    \n",
    "    ## Nombre de la proteína objetivo \n",
    "    protein = driver.find_element(by = By.NAME, value = 'sequence-input')\n",
    "\n",
    "    ## Secuencia de la proteína objetivo\n",
    "    sequence = driver.find_elements(by = By.NAME, value = 'sequence-input')\n",
    "\n",
    "    ## Entrega de la data\n",
    "    submitButton = driver.find_element(by = By.NAME, value = 'singleprediction')\n",
    "\n",
    "    # Estimar la tendencia a solubilidad:\n",
    "    for value in sequence:\n",
    "        value.send_keys(data[count])\n",
    "        count += 1\n",
    "    submitButton.click()\n",
    "    # Descargar el resultado\n",
    "    driver.find_element(by = By.ID, value = 'predictionButton').click()\n",
    "    driver.find_element(by = By.CLASS_NAME, value = 'headerlogo').click()\n",
    "    \n",
    "driver.close()\n",
    "\n",
    "print('All the sequences were processed and their results were downloaded successfully!')"
   ]
  }
 ],
 "metadata": {
  "kernelspec": {
   "display_name": "Python 3 (ipykernel)",
   "language": "python",
   "name": "python3"
  },
  "language_info": {
   "codemirror_mode": {
    "name": "ipython",
    "version": 3
   },
   "file_extension": ".py",
   "mimetype": "text/x-python",
   "name": "python",
   "nbconvert_exporter": "python",
   "pygments_lexer": "ipython3",
   "version": "3.10.12"
  }
 },
 "nbformat": 4,
 "nbformat_minor": 5
}
