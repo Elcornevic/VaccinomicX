{
 "cells": [
  {
   "cell_type": "markdown",
   "id": "26475544",
   "metadata": {},
   "source": [
    "# Modelado de proteínas y preparación de péptidos\n",
    "Tras la prediccion de los potenciales epítopos, y la seleccion de los MHC con los que van a interactuar, se procedió con el modelado de la estructura 3D de ambos."
   ]
  },
  {
   "cell_type": "markdown",
   "id": "d3fea40e",
   "metadata": {},
   "source": [
    "## 1. Modelado de las estructuras 3D de los alelos MHC\n",
    "Las estructuras 3D de la mayoría de los alelos MHC se extrayeron de la base de datos '**RCSB Protein Data Bank**' - RCSB PDB (https://www.rcsb.org/) (*Berman et al., 2000*), siendo estos los alelos HLA-A*01:01 (PDB ID: 6MPP), HLA-A*02:01 (PDB ID: 4U6X), HLA-A*03:01 (PDB ID: 3RL1), HLA-A*24:02 (PDB ID: 7JYV), HLA-B*35:01 (PDB ID: 4PRN), HLA-B*44:03 (PDB ID: 3DX7), HLA-B*51:01 (PDB ID: 1E28), HLA-C*07:02 (PDB ID: 5VGE) para los MHC de clase I; y HLA-DRB1*07:01 (PDB ID: 7Z0Q), HLA-DRB1*14:02 (PDB ID: 6ATF) para los MHC de clase II. "
   ]
  },
  {
   "cell_type": "code",
   "execution_count": 1,
   "id": "1cb582d0",
   "metadata": {},
   "outputs": [],
   "source": [
    "import os\n",
    "import urllib\n",
    "import sys"
   ]
  },
  {
   "cell_type": "code",
   "execution_count": 2,
   "id": "1cdcbdfa",
   "metadata": {},
   "outputs": [],
   "source": [
    "def download_pdb(pdbcode, datadir, downloadurl = 'https://files.rcsb.org/download/'):\n",
    "    pdbfn = pdbcode + '.pdb'\n",
    "    url = downloadurl + pdbfn\n",
    "    outfnm = os.path.join(datadir, pdbfn)\n",
    "    try:\n",
    "        urllib.request.urlretrieve(url, outfnm)\n",
    "        return outfnm\n",
    "    except Exception as err:\n",
    "        print(str(err), file = sys.stderr)\n",
    "        return None"
   ]
  },
  {
   "cell_type": "code",
   "execution_count": 17,
   "id": "65e04666",
   "metadata": {},
   "outputs": [
    {
     "name": "stdout",
     "output_type": "stream",
     "text": [
      "6MPP.pdb was downloaded\n",
      "4U6X.pdb was downloaded\n",
      "3RL1.pdb was downloaded\n",
      "7JYV.pdb was downloaded\n",
      "4PRN.pdb was downloaded\n",
      "3DX7.pdb was downloaded\n",
      "1E28.pdb was downloaded\n",
      "5VGE.pdb was downloaded\n",
      "7Z0Q.pdb was downloaded\n",
      "6ATF.pdb was downloaded\n"
     ]
    }
   ],
   "source": [
    "ID = ['6MPP', '4U6X', '3RL1', '7JYV', '4PRN', '3DX7', '1E28', '5VGE', '7Z0Q', '6ATF']\n",
    "\n",
    "for ID_PDB in ID:\n",
    "    download_pdb(ID_PDB, '/home/victor/Escritorio/Tesis/RESULTADOS/9. Modelado de proteínas y preparación de péptidos/PDB_RCSB')\n",
    "    print(f'{ID_PDB}.pdb was downloaded')"
   ]
  },
  {
   "cell_type": "markdown",
   "id": "c4fc4de2",
   "metadata": {},
   "source": [
    "En el caso de los alelos HLA-A*31:01, HLA-C*03:04, HLA-C*04:01, HLA-C*07:01, HLA-DRB1*03:01, HLA-DRB1*04:07 y HLA-DRB1*08:02, fueron generados por modelado de homología a través de un *in house* script de Python basado en la API de **SWISS-MODEL** (https://swissmodel.expasy.org/) (*Waterhouse et al., 2018*). Para ello, las secuencias aminoacídicas de dichos alelos fueron tomadas de la base de datos **IPD-IMGT/HLA** (https://www.ebi.ac.uk/ipd/imgt/hla/) (*Barker et al., 2023*). Se comprobaron los parámetros de estimación de calidad, como las puntuaciones *Qmean* y el porcentaje de identidad de las estructuras de los alelos MHC modelados. Alternativamente, las estructuras "
   ]
  },
  {
   "cell_type": "code",
   "execution_count": 3,
   "id": "ef5477bc",
   "metadata": {},
   "outputs": [],
   "source": [
    "# Para conseguir las estructuras 3D de los 7 HLA en mención, se utilizó Swiss-Model\n",
    "\n",
    "# Diseñar un archivo de entrada exclusivamente con los nombres de los HLA\n",
    "file_name = open('HLA_secuencias.fasta')\n",
    "\n",
    "## Nombres de cada proteína\n",
    "data_name = []\n",
    "for pos_name, l_num_name in enumerate(file_name):\n",
    "    # comprobar si el número de línea se especifica en las líneas para leer la matriz\n",
    "    if pos_name %3 == 0:\n",
    "        # imprimir el número de línea requerido\n",
    "        data_name.append(l_num_name)\n",
    "        \n",
    "each_name = [y.rstrip('\\n') for y in data_name]"
   ]
  },
  {
   "cell_type": "code",
   "execution_count": 5,
   "id": "29e2df80",
   "metadata": {},
   "outputs": [],
   "source": [
    "# Diseñar un archivo de entrada exclusivamente con las secuencias de la cadena alfa de los HLA\n",
    "file_seq_A = open('HLA_secuencias.fasta')\n",
    "\n",
    "## Secuencias aminoacídicas de cada proteína\n",
    "data_seq_A = []\n",
    "for pos_A, l_num_A in enumerate(file_seq_A):\n",
    "    # comprobar si el número de línea se especifica en las líneas para leer la matriz\n",
    "    if pos_A %3 == 1:\n",
    "        # imprimir el número de línea requerido\n",
    "        data_seq_A.append(l_num_A)\n",
    "\n",
    "each_seq_A = [x.rstrip('\\n') for x in data_seq_A]"
   ]
  },
  {
   "cell_type": "code",
   "execution_count": 6,
   "id": "dcbe21af",
   "metadata": {},
   "outputs": [],
   "source": [
    "# Diseñar un archivo de entrada exclusivamente con las secuencias de la cadena beta de los HLA\n",
    "file_seq_B = open('HLA_secuencias.fasta')\n",
    "\n",
    "## Secuencias aminoacídicas de cada proteína\n",
    "data_seq_B = []\n",
    "for pos_B, l_num_B in enumerate(file_seq_B):\n",
    "    # comprobar si el número de línea se especifica en las líneas para leer la matriz\n",
    "    if pos_B %3 == 2:\n",
    "        # imprimir el número de línea requerido\n",
    "        data_seq_B.append(l_num_B)\n",
    "\n",
    "each_seq_B = [x.rstrip('\\n') for x in data_seq_B]"
   ]
  },
  {
   "cell_type": "code",
   "execution_count": 7,
   "id": "8f7f7fc4",
   "metadata": {},
   "outputs": [],
   "source": [
    "# Importar el módulo \n",
    "import requests\n",
    "import time"
   ]
  },
  {
   "cell_type": "code",
   "execution_count": 7,
   "id": "f8f228b6",
   "metadata": {},
   "outputs": [
    {
     "name": "stdout",
     "output_type": "stream",
     "text": [
      ">HLA-A31:01 has this result: https://swissmodel.expasy.org/project/3233ca/models/01.pdb.gz\n",
      "...........\n",
      ">HLA-C03:04 has this result: https://swissmodel.expasy.org/project/ebac90/models/01.pdb.gz\n",
      "...........\n",
      ">HLA-C04:01 has this result: https://swissmodel.expasy.org/project/d6233b/models/01.pdb.gz\n",
      "...........\n",
      ">HLA-C07:01 has this result: https://swissmodel.expasy.org/project/f78fe5/models/01.pdb.gz\n",
      "...........\n",
      ">HLA-DRB103:01 has this result: https://swissmodel.expasy.org/project/1b7394/models/01.pdb.gz\n",
      "...........\n",
      ">HLA-DRB104:07 has this result: https://swissmodel.expasy.org/project/7bc3f6/models/01.pdb.gz\n",
      "...........\n",
      ">HLA-DRB108:02 has this result: https://swissmodel.expasy.org/project/4f1738/models/01.pdb.gz\n",
      "...........\n"
     ]
    }
   ],
   "source": [
    "# Utilizar Swiss-Model para obtener las estructuras 3D modeladas de los HLA objetivo:\n",
    "for name, sequence_A, sequence_B in zip(each_name, each_seq_A, each_seq_B):\n",
    "    response = requests.post(\n",
    "        'https://swissmodel.expasy.org/automodel',\n",
    "        headers = { 'Authorization': f'Token 8f40c9582d7e76d9debe518204bd24316aa2afad' }, # Insertar el token de mi cuenta\n",
    "        json = { \n",
    "            'target_sequences': \n",
    "                [\n",
    "                    f'{sequence_A}',\n",
    "                    f'{sequence_B}'\n",
    "                ],\n",
    "            'project_title':f'This is an modelling of the {name}'\n",
    "          })\n",
    "\n",
    "    project_id = response.json()['project_id']\n",
    "    \n",
    "    while True:\n",
    "        time.sleep(10)\n",
    "\n",
    "        # Actualizar el estado desde el servidor\n",
    "        response = requests.get(\n",
    "            f'https://swissmodel.expasy.org/project/{ project_id }/models/summary/', \n",
    "            headers = { 'Authorization': f'Token 8f40c9582d7e76d9debe518204bd24316aa2afad' })\n",
    "\n",
    "        status = response.json()['status']\n",
    "            \n",
    "        if status in ['COMPLETED', 'FAILED']:\n",
    "            break    \n",
    "            print('Job status is now', status)        \n",
    "\n",
    "    response_object = response.json()\n",
    "    if response_object['status'] == 'COMPLETED':\n",
    "        for model in response_object['models']:\n",
    "            print(f'{name} has this result:', model['coordinates_url'])\n",
    "        print('...........')"
   ]
  },
  {
   "cell_type": "markdown",
   "id": "4993c65b",
   "metadata": {},
   "source": [
    "Luego, todos los HLA fueron preparados con un script en Python basado en **PDBFixer** para evitar átomos perdidos y residuos no estándar: https://colab.research.google.com/drive/12M49pviNea9TqMQMFjziU7iSakXsDbH9?usp=sharing"
   ]
  },
  {
   "cell_type": "markdown",
   "id": "6d82407a",
   "metadata": {},
   "source": [
    "## 2. Predicción de las estructuras terciarias de los epítopos seleccionados\n",
    "Las estructuras terciarias o 3D de los mejores epítopos seleccionados se generaron utilizando la herramienta **PEP-FOLD 3** (https://bioserv.rpbs.univ-paris-diderot.fr/services/PEP-FOLD3/)."
   ]
  },
  {
   "cell_type": "code",
   "execution_count": 26,
   "id": "26a0295f",
   "metadata": {},
   "outputs": [
    {
     "name": "stdout",
     "output_type": "stream",
     "text": [
      "Defaulting to user installation because normal site-packages is not writeable\n",
      "Requirement already satisfied: selenium in /home/victor/.local/lib/python3.10/site-packages (4.9.1)\n",
      "Requirement already satisfied: urllib3[socks]<3,>=1.26 in /home/victor/.local/lib/python3.10/site-packages (from selenium) (1.26.16)\n",
      "Requirement already satisfied: trio~=0.17 in /home/victor/.local/lib/python3.10/site-packages (from selenium) (0.22.0)\n",
      "Requirement already satisfied: trio-websocket~=0.9 in /home/victor/.local/lib/python3.10/site-packages (from selenium) (0.10.2)\n",
      "Requirement already satisfied: certifi>=2021.10.8 in /home/victor/.local/lib/python3.10/site-packages (from selenium) (2023.5.7)\n",
      "Requirement already satisfied: attrs>=19.2.0 in /usr/lib/python3/dist-packages (from trio~=0.17->selenium) (21.2.0)\n",
      "Requirement already satisfied: sortedcontainers in /home/victor/.local/lib/python3.10/site-packages (from trio~=0.17->selenium) (2.4.0)\n",
      "Requirement already satisfied: async-generator>=1.9 in /home/victor/.local/lib/python3.10/site-packages (from trio~=0.17->selenium) (1.10)\n",
      "Requirement already satisfied: idna in /usr/lib/python3/dist-packages (from trio~=0.17->selenium) (3.3)\n",
      "Requirement already satisfied: outcome in /home/victor/.local/lib/python3.10/site-packages (from trio~=0.17->selenium) (1.2.0)\n",
      "Requirement already satisfied: sniffio in /home/victor/.local/lib/python3.10/site-packages (from trio~=0.17->selenium) (1.3.0)\n",
      "Requirement already satisfied: exceptiongroup>=1.0.0rc9 in /home/victor/.local/lib/python3.10/site-packages (from trio~=0.17->selenium) (1.1.1)\n",
      "Requirement already satisfied: wsproto>=0.14 in /home/victor/.local/lib/python3.10/site-packages (from trio-websocket~=0.9->selenium) (1.2.0)\n",
      "Requirement already satisfied: PySocks!=1.5.7,<2.0,>=1.5.6 in /home/victor/.local/lib/python3.10/site-packages (from urllib3[socks]<3,>=1.26->selenium) (1.7.1)\n",
      "Requirement already satisfied: h11<1,>=0.9.0 in /home/victor/.local/lib/python3.10/site-packages (from wsproto>=0.14->trio-websocket~=0.9->selenium) (0.14.0)\n",
      "Defaulting to user installation because normal site-packages is not writeable\n",
      "Requirement already satisfied: biopython in /home/victor/.local/lib/python3.10/site-packages (1.81)\n",
      "Requirement already satisfied: numpy in /usr/lib/python3/dist-packages (from biopython) (1.21.5)\n"
     ]
    }
   ],
   "source": [
    "# Instalar los paquetes 'selenium' y 'biopython'\n",
    "!pip install selenium\n",
    "!pip install biopython"
   ]
  },
  {
   "cell_type": "code",
   "execution_count": 23,
   "id": "4218d0b9",
   "metadata": {},
   "outputs": [],
   "source": [
    "# Importar los módulos necesarios de 'selenium', 'Bio' y 'collections'\n",
    "from selenium import webdriver\n",
    "from selenium.webdriver.common.by import By\n",
    "from selenium.webdriver.common.keys import Keys\n",
    "from selenium.webdriver.chrome.service import Service\n",
    "from selenium.webdriver.support.ui import Select\n",
    "import time\n",
    "\n",
    "import Bio\n",
    "import collections\n",
    "from Bio import SeqIO"
   ]
  },
  {
   "cell_type": "code",
   "execution_count": 10,
   "id": "b8e058f6",
   "metadata": {},
   "outputs": [],
   "source": [
    "# Establecer la ubicación del WebDriver\n",
    "s = Service('/usr/local/bin/chromedriver')"
   ]
  },
  {
   "cell_type": "code",
   "execution_count": 40,
   "id": "e05ab836",
   "metadata": {},
   "outputs": [
    {
     "name": "stdout",
     "output_type": "stream",
     "text": [
      "All epitopes were generated!\n"
     ]
    }
   ],
   "source": [
    "# Inicializar el Selenium WebDriver\n",
    "driver = webdriver.Chrome(service = s)\n",
    "\n",
    "# Visitar la herramienta PEP-FOLD 3\n",
    "driver.get('https://mobyle.rpbs.univ-paris-diderot.fr/cgi-bin/portal.py#forms::PEP-FOLD3')\n",
    "time.sleep(4)\n",
    "\n",
    "# Definir las secuencias aminoacídicas de los epítopos\n",
    "epítopos = '/home/victor/Escritorio/Tesis/RESULTADOS/9. Modelado de proteínas y preparación de péptidos/Lista_epitopos.fasta'\n",
    "\n",
    "# Editar los parámetros\n",
    "## Eliminar las secuencias\n",
    "clear = driver.find_element(by = By.XPATH, value = '/html/body/table[2]/tbody/tr/td[3]/div/div[2]/div/div/div/form/fieldset[1]/div/fieldset/div[2]/ul/li[5]/button[2]')\n",
    "\n",
    "## Insertar el epítopo\n",
    "epitope_seq = driver.find_element(by = By.XPATH, value = '/html/body/table[2]/tbody/tr/td[3]/div/div[2]/div/div/div/form/fieldset[1]/div/fieldset/div[2]/div/div[1]/div/textarea')\n",
    "\n",
    "\n",
    "# Realizar la predicción de antigenicidad de los epítopos\n",
    "for rec in SeqIO.parse(epítopos,'fasta'):\n",
    "    seq_list = rec.seq\n",
    "    \n",
    "    clear.click()\n",
    "    epitope_seq.send_keys(f'{seq_list}')\n",
    "    # Entregar la data\n",
    "    driver.find_element(by = By.XPATH, value = '/html/body/table[2]/tbody/tr/td[3]/div/div[2]/div/div/div/form/table/tbody/tr/td[2]/span/input[1]').click()\n",
    "    time.sleep(20)\n",
    "    # Regresar al inicio\n",
    "    get_url = driver.current_url\n",
    "    driver.find_element(by = By.XPATH, value = '/html/body/table[2]/tbody/tr/td[3]/div/div[4]/div/div[2]/div/div/fieldset[1]/a[3]/button').click()\n",
    "    time.sleep(6)\n",
    "    \n",
    "    driver.get('https://mobyle.rpbs.univ-paris-diderot.fr/cgi-bin/portal.py#forms::PEP-FOLD3')\n",
    "    time.sleep(4)\n",
    "    epítopos = '/home/victor/Escritorio/Tesis/RESULTADOS/9. Modelado de proteínas y preparación de péptidos/Lista_epitopos.fasta'\n",
    "    clear = driver.find_element(by = By.XPATH, value = '/html/body/table[2]/tbody/tr/td[3]/div/div[2]/div/div/div/form/fieldset[1]/div/fieldset/div[2]/ul/li[5]/button[2]')\n",
    "    epitope_seq = driver.find_element(by = By.XPATH, value = '/html/body/table[2]/tbody/tr/td[3]/div/div[2]/div/div/div/form/fieldset[1]/div/fieldset/div[2]/div/div[1]/div/textarea')\n",
    "\n",
    "\n",
    "print('All epitopes were generated!')"
   ]
  },
  {
   "cell_type": "markdown",
   "id": "a20b423d",
   "metadata": {},
   "source": [
    "## 3. Visualización 3D de los epítopos"
   ]
  },
  {
   "cell_type": "markdown",
   "id": "735628b7",
   "metadata": {},
   "source": [
    "Las estructuras en 3D de los epítopos se visualizaron con el visor molecular **PyMOL v2.5** (https://pymol.org/2/) (*Schrodinger, 2010*).  ̈"
   ]
  },
  {
   "cell_type": "code",
   "execution_count": 1,
   "id": "78414960",
   "metadata": {},
   "outputs": [
    {
     "name": "stdout",
     "output_type": "stream",
     "text": [
      "Defaulting to user installation because normal site-packages is not writeable\n",
      "Requirement already satisfied: py3Dmol in /home/victor/.local/lib/python3.10/site-packages (2.0.3)\n",
      "\n",
      "\u001b[1m[\u001b[0m\u001b[34;49mnotice\u001b[0m\u001b[1;39;49m]\u001b[0m\u001b[39;49m A new release of pip is available: \u001b[0m\u001b[31;49m23.1.2\u001b[0m\u001b[39;49m -> \u001b[0m\u001b[32;49m23.2.1\u001b[0m\n",
      "\u001b[1m[\u001b[0m\u001b[34;49mnotice\u001b[0m\u001b[1;39;49m]\u001b[0m\u001b[39;49m To update, run: \u001b[0m\u001b[32;49mpython3 -m pip install --upgrade pip\u001b[0m\n"
     ]
    }
   ],
   "source": [
    "# Instalar el paquete 'nglview'\n",
    "!pip install py3Dmol"
   ]
  },
  {
   "cell_type": "code",
   "execution_count": 1,
   "id": "e8843cee",
   "metadata": {},
   "outputs": [],
   "source": [
    "import py3Dmol"
   ]
  },
  {
   "cell_type": "code",
   "execution_count": 2,
   "id": "808ac854",
   "metadata": {},
   "outputs": [
    {
     "data": {
      "application/3dmoljs_load.v0": "<div id=\"3dmolviewer_16955996684101171\"  style=\"position: relative; width: 640px; height: 480px;\">\n        <p id=\"3dmolwarning_16955996684101171\" style=\"background-color:#ffcccc;color:black\">You appear to be running in JupyterLab (or JavaScript failed to load for some other reason).  You need to install the 3dmol extension: <br>\n        <tt>jupyter labextension install jupyterlab_3dmol</tt></p>\n        </div>\n<script>\n\nvar loadScriptAsync = function(uri){\n  return new Promise((resolve, reject) => {\n    //this is to ignore the existence of requirejs amd\n    var savedexports, savedmodule;\n    if (typeof exports !== 'undefined') savedexports = exports;\n    else exports = {}\n    if (typeof module !== 'undefined') savedmodule = module;\n    else module = {}\n\n    var tag = document.createElement('script');\n    tag.src = uri;\n    tag.async = true;\n    tag.onload = () => {\n        exports = savedexports;\n        module = savedmodule;\n        resolve();\n    };\n  var firstScriptTag = document.getElementsByTagName('script')[0];\n  firstScriptTag.parentNode.insertBefore(tag, firstScriptTag);\n});\n};\n\nif(typeof $3Dmolpromise === 'undefined') {\n$3Dmolpromise = null;\n  $3Dmolpromise = loadScriptAsync('https://cdnjs.cloudflare.com/ajax/libs/3Dmol/2.0.3/3Dmol-min.js');\n}\n\nvar viewer_16955996684101171 = null;\nvar warn = document.getElementById(\"3dmolwarning_16955996684101171\");\nif(warn) {\n    warn.parentNode.removeChild(warn);\n}\n$3Dmolpromise.then(function() {\nviewer_16955996684101171 = $3Dmol.createViewer(document.getElementById(\"3dmolviewer_16955996684101171\"),{backgroundColor:\"white\"});\nviewer_16955996684101171.zoomTo();\n\tviewer_16955996684101171.addModel(\"REMARK    GENERATED BY TRJCONV\\nTITLE     Protein t=   0.00000\\nREMARK    THIS IS A SIMULATION BOX\\nCRYST1   60.694   60.694   60.694  90.00  90.00  90.00 P 1           1\\nHEADER PEP-FOLD PREDICTION\\nHEADER PEP-FOLD PREDICTION\\nHEADER  PEPFOLD-00004_bestene1-mc.pdb\\nREMARK  Component boundaries: 0: 1 9 \\n\\nREMARK  SA Trajectory: MJGWZE\\nREMARK     eCACA      eHb  ePhiPhi eVdWBBBB eVdWBBSC eVdWSCSC    Total \\nREMARK    -0.350   -0.907    0.000   -0.111    0.079   -5.922   -7.211\\nREMARK   sOPEP Energy: -7.21079\\n\\nATOM      1  N   THR     1      25.380  30.430  39.540  1.00  0.00           N\\nATOM      2  CA  THR     1      26.050  29.380  38.740  1.00  0.00           C\\nATOM      3  CB  THR     1      25.170  28.120  38.820  1.00  0.00           C\\nATOM      4  OG1 THR     1      24.730  28.020  40.180  1.00  0.00           O\\nATOM      5  CG2 THR     1      25.930  26.860  38.410  1.00  0.00           C\\nATOM      6  C   THR     1      26.120  29.860  37.290  1.00  0.00           C\\nATOM      7  O   THR     1      25.280  30.670  36.920  1.00  0.00           O\\nATOM      8  N   VAL     2      27.200  29.500  36.610  1.00  0.00           N\\nATOM      9  CA  VAL     2      27.430  29.790  35.170  1.00  0.00           C\\nATOM     10  CB  VAL     2      28.600  30.780  34.980  1.00  0.00           C\\nATOM     11  CG1 VAL     2      28.220  32.180  35.450  1.00  0.00           C\\nATOM     12  CG2 VAL     2      29.890  30.310  35.670  1.00  0.00           C\\nATOM     13  C   VAL     2      27.710  28.470  34.440  1.00  0.00           C\\nATOM     14  O   VAL     2      28.130  27.510  35.100  1.00  0.00           O\\nATOM     15  N   TRP     3      27.410  28.400  33.150  1.00  0.00           N\\nATOM     16  CA  TRP     3      27.580  27.150  32.380  1.00  0.00           C\\nATOM     17  CB  TRP     3      26.360  26.910  31.470  1.00  0.00           C\\nATOM     18  CG  TRP     3      26.090  27.980  30.420  1.00  0.00           C\\nATOM     19  CD1 TRP     3      25.390  29.110  30.570  1.00  0.00           C\\nATOM     20  CD2 TRP     3      26.390  27.870  29.070  1.00  0.00           C\\nATOM     21  NE1 TRP     3      25.270  29.720  29.390  1.00  0.00           N\\nATOM     22  CE2 TRP     3      25.870  28.990  28.450  1.00  0.00           C\\nATOM     23  CE3 TRP     3      27.050  26.900  28.330  1.00  0.00           C\\nATOM     24  CZ2 TRP     3      26.030  29.160  27.080  1.00  0.00           C\\nATOM     25  CZ3 TRP     3      27.220  27.070  26.960  1.00  0.00           C\\nATOM     26  CH2 TRP     3      26.710  28.200  26.340  1.00  0.00           C\\nATOM     27  C   TRP     3      28.940  26.950  31.690  1.00  0.00           C\\nATOM     28  O   TRP     3      29.630  25.980  31.990  1.00  0.00           O\\nATOM     29  N   PHE     4      29.350  27.870  30.820  1.00  0.00           N\\nATOM     30  CA  PHE     4      30.690  27.800  30.180  1.00  0.00           C\\nATOM     31  CB  PHE     4      30.450  27.320  28.740  1.00  0.00           C\\nATOM     32  CG  PHE     4      31.630  27.000  27.810  1.00  0.00           C\\nATOM     33  CD1 PHE     4      32.930  26.750  28.240  1.00  0.00           C\\nATOM     34  CD2 PHE     4      31.320  26.900  26.460  1.00  0.00           C\\nATOM     35  CE1 PHE     4      33.910  26.440  27.310  1.00  0.00           C\\nATOM     36  CE2 PHE     4      32.300  26.560  25.530  1.00  0.00           C\\nATOM     37  CZ  PHE     4      33.610  26.350  25.960  1.00  0.00           C\\nATOM     38  C   PHE     4      31.510  29.110  30.280  1.00  0.00           C\\nATOM     39  O   PHE     4      31.730  29.830  29.300  1.00  0.00           O\\nATOM     40  N   VAL     5      32.170  29.240  31.430  1.00  0.00           N\\nATOM     41  CA  VAL     5      32.850  30.490  31.870  1.00  0.00           C\\nATOM     42  CB  VAL     5      33.220  30.380  33.360  1.00  0.00           C\\nATOM     43  CG1 VAL     5      34.370  29.410  33.650  1.00  0.00           C\\nATOM     44  CG2 VAL     5      33.450  31.750  34.010  1.00  0.00           C\\nATOM     45  C   VAL     5      33.930  31.160  30.970  1.00  0.00           C\\nATOM     46  O   VAL     5      34.000  32.390  31.010  1.00  0.00           O\\nATOM     47  N   PRO     6      34.760  30.470  30.170  1.00  0.00           N\\nATOM     48  CA  PRO     6      35.640  31.150  29.200  1.00  0.00           C\\nATOM     49  CB  PRO     6      36.740  30.150  28.850  1.00  0.00           C\\nATOM     50  CG  PRO     6      36.050  28.800  29.040  1.00  0.00           C\\nATOM     51  CD  PRO     6      35.110  29.030  30.230  1.00  0.00           C\\nATOM     52  C   PRO     6      34.930  31.700  27.950  1.00  0.00           C\\nATOM     53  O   PRO     6      35.370  32.730  27.430  1.00  0.00           O\\nATOM     54  N   SER     7      33.870  31.020  27.510  1.00  0.00           N\\nATOM     55  CA  SER     7      33.090  31.380  26.300  1.00  0.00           C\\nATOM     56  CB  SER     7      32.450  30.120  25.700  1.00  0.00           C\\nATOM     57  OG  SER     7      31.740  30.390  24.500  1.00  0.00           O\\nATOM     58  C   SER     7      31.990  32.420  26.550  1.00  0.00           C\\nATOM     59  O   SER     7      31.880  33.370  25.770  1.00  0.00           O\\nATOM     60  N   ILE     8      31.250  32.290  27.650  1.00  0.00           N\\nATOM     61  CA  ILE     8      30.150  33.230  27.980  1.00  0.00           C\\nATOM     62  CB  ILE     8      29.020  32.570  28.790  1.00  0.00           C\\nATOM     63  CG1 ILE     8      29.460  32.020  30.150  1.00  0.00           C\\nATOM     64  CG2 ILE     8      28.390  31.460  27.930  1.00  0.00           C\\nATOM     65  CD  ILE     8      28.280  31.550  31.010  1.00  0.00           C\\nATOM     66  C   ILE     8      30.610  34.580  28.560  1.00  0.00           C\\nATOM     67  O   ILE     8      30.810  34.730  29.770  1.00  0.00           O\\nATOM     68  N   LYS     9      31.050  35.410  27.630  1.00  0.00           N\\nATOM     69  CA  LYS     9      31.430  36.820  27.850  1.00  0.00           C\\nATOM     70  CB  LYS     9      32.940  37.010  27.640  1.00  0.00           C\\nATOM     71  CG  LYS     9      33.830  36.240  28.610  1.00  0.00           C\\nATOM     72  CD  LYS     9      35.260  36.590  28.250  1.00  0.00           C\\nATOM     73  CE  LYS     9      36.280  35.940  29.170  1.00  0.00           C\\nATOM     74  NZ  LYS     9      37.600  36.440  28.770  1.00  0.00           N\\nATOM     75  C   LYS     9      30.680  37.670  26.820  1.00  0.00           C\\nATOM     76  O1  LYS     9      29.600  38.170  27.180  1.00  0.00           O\\nATOM     77  O2  LYS     9      31.160  37.720  25.660  1.00  0.00           O\\n\",\"pdb\");\n\tviewer_16955996684101171.setStyle({\"cartoon\": {\"color\": \"skyblue\"}});\n\tviewer_16955996684101171.zoomTo();\n\tviewer_16955996684101171.setBackgroundColor(\"white\");\nviewer_16955996684101171.render();\n});\n</script>",
      "text/html": [
       "<div id=\"3dmolviewer_16955996684101171\"  style=\"position: relative; width: 640px; height: 480px;\">\n",
       "        <p id=\"3dmolwarning_16955996684101171\" style=\"background-color:#ffcccc;color:black\">You appear to be running in JupyterLab (or JavaScript failed to load for some other reason).  You need to install the 3dmol extension: <br>\n",
       "        <tt>jupyter labextension install jupyterlab_3dmol</tt></p>\n",
       "        </div>\n",
       "<script>\n",
       "\n",
       "var loadScriptAsync = function(uri){\n",
       "  return new Promise((resolve, reject) => {\n",
       "    //this is to ignore the existence of requirejs amd\n",
       "    var savedexports, savedmodule;\n",
       "    if (typeof exports !== 'undefined') savedexports = exports;\n",
       "    else exports = {}\n",
       "    if (typeof module !== 'undefined') savedmodule = module;\n",
       "    else module = {}\n",
       "\n",
       "    var tag = document.createElement('script');\n",
       "    tag.src = uri;\n",
       "    tag.async = true;\n",
       "    tag.onload = () => {\n",
       "        exports = savedexports;\n",
       "        module = savedmodule;\n",
       "        resolve();\n",
       "    };\n",
       "  var firstScriptTag = document.getElementsByTagName('script')[0];\n",
       "  firstScriptTag.parentNode.insertBefore(tag, firstScriptTag);\n",
       "});\n",
       "};\n",
       "\n",
       "if(typeof $3Dmolpromise === 'undefined') {\n",
       "$3Dmolpromise = null;\n",
       "  $3Dmolpromise = loadScriptAsync('https://cdnjs.cloudflare.com/ajax/libs/3Dmol/2.0.3/3Dmol-min.js');\n",
       "}\n",
       "\n",
       "var viewer_16955996684101171 = null;\n",
       "var warn = document.getElementById(\"3dmolwarning_16955996684101171\");\n",
       "if(warn) {\n",
       "    warn.parentNode.removeChild(warn);\n",
       "}\n",
       "$3Dmolpromise.then(function() {\n",
       "viewer_16955996684101171 = $3Dmol.createViewer(document.getElementById(\"3dmolviewer_16955996684101171\"),{backgroundColor:\"white\"});\n",
       "viewer_16955996684101171.zoomTo();\n",
       "\tviewer_16955996684101171.addModel(\"REMARK    GENERATED BY TRJCONV\\nTITLE     Protein t=   0.00000\\nREMARK    THIS IS A SIMULATION BOX\\nCRYST1   60.694   60.694   60.694  90.00  90.00  90.00 P 1           1\\nHEADER PEP-FOLD PREDICTION\\nHEADER PEP-FOLD PREDICTION\\nHEADER  PEPFOLD-00004_bestene1-mc.pdb\\nREMARK  Component boundaries: 0: 1 9 \\n\\nREMARK  SA Trajectory: MJGWZE\\nREMARK     eCACA      eHb  ePhiPhi eVdWBBBB eVdWBBSC eVdWSCSC    Total \\nREMARK    -0.350   -0.907    0.000   -0.111    0.079   -5.922   -7.211\\nREMARK   sOPEP Energy: -7.21079\\n\\nATOM      1  N   THR     1      25.380  30.430  39.540  1.00  0.00           N\\nATOM      2  CA  THR     1      26.050  29.380  38.740  1.00  0.00           C\\nATOM      3  CB  THR     1      25.170  28.120  38.820  1.00  0.00           C\\nATOM      4  OG1 THR     1      24.730  28.020  40.180  1.00  0.00           O\\nATOM      5  CG2 THR     1      25.930  26.860  38.410  1.00  0.00           C\\nATOM      6  C   THR     1      26.120  29.860  37.290  1.00  0.00           C\\nATOM      7  O   THR     1      25.280  30.670  36.920  1.00  0.00           O\\nATOM      8  N   VAL     2      27.200  29.500  36.610  1.00  0.00           N\\nATOM      9  CA  VAL     2      27.430  29.790  35.170  1.00  0.00           C\\nATOM     10  CB  VAL     2      28.600  30.780  34.980  1.00  0.00           C\\nATOM     11  CG1 VAL     2      28.220  32.180  35.450  1.00  0.00           C\\nATOM     12  CG2 VAL     2      29.890  30.310  35.670  1.00  0.00           C\\nATOM     13  C   VAL     2      27.710  28.470  34.440  1.00  0.00           C\\nATOM     14  O   VAL     2      28.130  27.510  35.100  1.00  0.00           O\\nATOM     15  N   TRP     3      27.410  28.400  33.150  1.00  0.00           N\\nATOM     16  CA  TRP     3      27.580  27.150  32.380  1.00  0.00           C\\nATOM     17  CB  TRP     3      26.360  26.910  31.470  1.00  0.00           C\\nATOM     18  CG  TRP     3      26.090  27.980  30.420  1.00  0.00           C\\nATOM     19  CD1 TRP     3      25.390  29.110  30.570  1.00  0.00           C\\nATOM     20  CD2 TRP     3      26.390  27.870  29.070  1.00  0.00           C\\nATOM     21  NE1 TRP     3      25.270  29.720  29.390  1.00  0.00           N\\nATOM     22  CE2 TRP     3      25.870  28.990  28.450  1.00  0.00           C\\nATOM     23  CE3 TRP     3      27.050  26.900  28.330  1.00  0.00           C\\nATOM     24  CZ2 TRP     3      26.030  29.160  27.080  1.00  0.00           C\\nATOM     25  CZ3 TRP     3      27.220  27.070  26.960  1.00  0.00           C\\nATOM     26  CH2 TRP     3      26.710  28.200  26.340  1.00  0.00           C\\nATOM     27  C   TRP     3      28.940  26.950  31.690  1.00  0.00           C\\nATOM     28  O   TRP     3      29.630  25.980  31.990  1.00  0.00           O\\nATOM     29  N   PHE     4      29.350  27.870  30.820  1.00  0.00           N\\nATOM     30  CA  PHE     4      30.690  27.800  30.180  1.00  0.00           C\\nATOM     31  CB  PHE     4      30.450  27.320  28.740  1.00  0.00           C\\nATOM     32  CG  PHE     4      31.630  27.000  27.810  1.00  0.00           C\\nATOM     33  CD1 PHE     4      32.930  26.750  28.240  1.00  0.00           C\\nATOM     34  CD2 PHE     4      31.320  26.900  26.460  1.00  0.00           C\\nATOM     35  CE1 PHE     4      33.910  26.440  27.310  1.00  0.00           C\\nATOM     36  CE2 PHE     4      32.300  26.560  25.530  1.00  0.00           C\\nATOM     37  CZ  PHE     4      33.610  26.350  25.960  1.00  0.00           C\\nATOM     38  C   PHE     4      31.510  29.110  30.280  1.00  0.00           C\\nATOM     39  O   PHE     4      31.730  29.830  29.300  1.00  0.00           O\\nATOM     40  N   VAL     5      32.170  29.240  31.430  1.00  0.00           N\\nATOM     41  CA  VAL     5      32.850  30.490  31.870  1.00  0.00           C\\nATOM     42  CB  VAL     5      33.220  30.380  33.360  1.00  0.00           C\\nATOM     43  CG1 VAL     5      34.370  29.410  33.650  1.00  0.00           C\\nATOM     44  CG2 VAL     5      33.450  31.750  34.010  1.00  0.00           C\\nATOM     45  C   VAL     5      33.930  31.160  30.970  1.00  0.00           C\\nATOM     46  O   VAL     5      34.000  32.390  31.010  1.00  0.00           O\\nATOM     47  N   PRO     6      34.760  30.470  30.170  1.00  0.00           N\\nATOM     48  CA  PRO     6      35.640  31.150  29.200  1.00  0.00           C\\nATOM     49  CB  PRO     6      36.740  30.150  28.850  1.00  0.00           C\\nATOM     50  CG  PRO     6      36.050  28.800  29.040  1.00  0.00           C\\nATOM     51  CD  PRO     6      35.110  29.030  30.230  1.00  0.00           C\\nATOM     52  C   PRO     6      34.930  31.700  27.950  1.00  0.00           C\\nATOM     53  O   PRO     6      35.370  32.730  27.430  1.00  0.00           O\\nATOM     54  N   SER     7      33.870  31.020  27.510  1.00  0.00           N\\nATOM     55  CA  SER     7      33.090  31.380  26.300  1.00  0.00           C\\nATOM     56  CB  SER     7      32.450  30.120  25.700  1.00  0.00           C\\nATOM     57  OG  SER     7      31.740  30.390  24.500  1.00  0.00           O\\nATOM     58  C   SER     7      31.990  32.420  26.550  1.00  0.00           C\\nATOM     59  O   SER     7      31.880  33.370  25.770  1.00  0.00           O\\nATOM     60  N   ILE     8      31.250  32.290  27.650  1.00  0.00           N\\nATOM     61  CA  ILE     8      30.150  33.230  27.980  1.00  0.00           C\\nATOM     62  CB  ILE     8      29.020  32.570  28.790  1.00  0.00           C\\nATOM     63  CG1 ILE     8      29.460  32.020  30.150  1.00  0.00           C\\nATOM     64  CG2 ILE     8      28.390  31.460  27.930  1.00  0.00           C\\nATOM     65  CD  ILE     8      28.280  31.550  31.010  1.00  0.00           C\\nATOM     66  C   ILE     8      30.610  34.580  28.560  1.00  0.00           C\\nATOM     67  O   ILE     8      30.810  34.730  29.770  1.00  0.00           O\\nATOM     68  N   LYS     9      31.050  35.410  27.630  1.00  0.00           N\\nATOM     69  CA  LYS     9      31.430  36.820  27.850  1.00  0.00           C\\nATOM     70  CB  LYS     9      32.940  37.010  27.640  1.00  0.00           C\\nATOM     71  CG  LYS     9      33.830  36.240  28.610  1.00  0.00           C\\nATOM     72  CD  LYS     9      35.260  36.590  28.250  1.00  0.00           C\\nATOM     73  CE  LYS     9      36.280  35.940  29.170  1.00  0.00           C\\nATOM     74  NZ  LYS     9      37.600  36.440  28.770  1.00  0.00           N\\nATOM     75  C   LYS     9      30.680  37.670  26.820  1.00  0.00           C\\nATOM     76  O1  LYS     9      29.600  38.170  27.180  1.00  0.00           O\\nATOM     77  O2  LYS     9      31.160  37.720  25.660  1.00  0.00           O\\n\",\"pdb\");\n",
       "\tviewer_16955996684101171.setStyle({\"cartoon\": {\"color\": \"skyblue\"}});\n",
       "\tviewer_16955996684101171.zoomTo();\n",
       "\tviewer_16955996684101171.setBackgroundColor(\"white\");\n",
       "viewer_16955996684101171.render();\n",
       "});\n",
       "</script>"
      ]
     },
     "metadata": {},
     "output_type": "display_data"
    }
   ],
   "source": [
    "# CTL_NS3 (TVWFVPSIK)\n",
    "view = py3Dmol.view()\n",
    "view.addModel(open('Epítopos/CTL_NS3_TVWFVPSIK.pdb', 'r').read(),'pdb')\n",
    "view.setStyle({'cartoon': {'color':'skyblue'}})\n",
    "view.zoomTo()\n",
    "view.setBackgroundColor('white')\n",
    "view.show()\n",
    "# view.png()"
   ]
  },
  {
   "cell_type": "code",
   "execution_count": 3,
   "id": "d9bd0368",
   "metadata": {},
   "outputs": [
    {
     "data": {
      "application/3dmoljs_load.v0": "<div id=\"3dmolviewer_16955996744112833\"  style=\"position: relative; width: 640px; height: 480px;\">\n        <p id=\"3dmolwarning_16955996744112833\" style=\"background-color:#ffcccc;color:black\">You appear to be running in JupyterLab (or JavaScript failed to load for some other reason).  You need to install the 3dmol extension: <br>\n        <tt>jupyter labextension install jupyterlab_3dmol</tt></p>\n        </div>\n<script>\n\nvar loadScriptAsync = function(uri){\n  return new Promise((resolve, reject) => {\n    //this is to ignore the existence of requirejs amd\n    var savedexports, savedmodule;\n    if (typeof exports !== 'undefined') savedexports = exports;\n    else exports = {}\n    if (typeof module !== 'undefined') savedmodule = module;\n    else module = {}\n\n    var tag = document.createElement('script');\n    tag.src = uri;\n    tag.async = true;\n    tag.onload = () => {\n        exports = savedexports;\n        module = savedmodule;\n        resolve();\n    };\n  var firstScriptTag = document.getElementsByTagName('script')[0];\n  firstScriptTag.parentNode.insertBefore(tag, firstScriptTag);\n});\n};\n\nif(typeof $3Dmolpromise === 'undefined') {\n$3Dmolpromise = null;\n  $3Dmolpromise = loadScriptAsync('https://cdnjs.cloudflare.com/ajax/libs/3Dmol/2.0.3/3Dmol-min.js');\n}\n\nvar viewer_16955996744112833 = null;\nvar warn = document.getElementById(\"3dmolwarning_16955996744112833\");\nif(warn) {\n    warn.parentNode.removeChild(warn);\n}\n$3Dmolpromise.then(function() {\nviewer_16955996744112833 = $3Dmol.createViewer(document.getElementById(\"3dmolviewer_16955996744112833\"),{backgroundColor:\"white\"});\nviewer_16955996744112833.zoomTo();\n\tviewer_16955996744112833.addModel(\"REMARK    GENERATED BY TRJCONV\\nTITLE     Protein t=   0.00000\\nREMARK    THIS IS A SIMULATION BOX\\nCRYST1   57.890   57.890   57.890  90.00  90.00  90.00 P 1           1\\nHEADER PEP-FOLD PREDICTION\\nHEADER PEP-FOLD PREDICTION\\nHEADER  PEPFOLD-00042_bestene1-mc.pdb\\nREMARK  Component boundaries: 0: 1 9 \\n\\nREMARK  SA Trajectory: VaAaaW\\nREMARK     eCACA      eHb  ePhiPhi eVdWBBBB eVdWBBSC eVdWSCSC    Total \\nREMARK    -0.797   -6.588    0.001   -0.183   -0.023   -4.731  -12.321\\nREMARK   sOPEP Energy: -12.3209\\n\\nATOM      1  N   MET     1      33.880  30.490  24.290  1.00  0.00           N\\nATOM      2  CA  MET     1      34.040  29.350  25.210  1.00  0.00           C\\nATOM      3  CB  MET     1      35.530  28.990  25.400  1.00  0.00           C\\nATOM      4  CG  MET     1      35.790  27.740  26.260  1.00  0.00           C\\nATOM      5  SD  MET     1      34.810  26.260  25.840  1.00  0.00           S\\nATOM      6  CE  MET     1      35.560  25.710  24.310  1.00  0.00           C\\nATOM      7  C   MET     1      33.250  29.520  26.530  1.00  0.00           C\\nATOM      8  O   MET     1      32.250  28.830  26.670  1.00  0.00           O\\nATOM      9  N   TYR     2      33.620  30.470  27.400  1.00  0.00           N\\nATOM     10  CA  TYR     2      32.840  30.740  28.640  1.00  0.00           C\\nATOM     11  CB  TYR     2      33.490  31.870  29.460  1.00  0.00           C\\nATOM     12  CG  TYR     2      32.790  32.140  30.800  1.00  0.00           C\\nATOM     13  CD1 TYR     2      33.000  31.310  31.890  1.00  0.00           C\\nATOM     14  CD2 TYR     2      31.960  33.250  30.930  1.00  0.00           C\\nATOM     15  CE1 TYR     2      32.380  31.580  33.110  1.00  0.00           C\\nATOM     16  CE2 TYR     2      31.350  33.530  32.150  1.00  0.00           C\\nATOM     17  CZ  TYR     2      31.550  32.690  33.230  1.00  0.00           C\\nATOM     18  OH  TYR     2      30.770  32.810  34.340  1.00  0.00           O\\nATOM     19  C   TYR     2      31.330  30.960  28.450  1.00  0.00           C\\nATOM     20  O   TYR     2      30.560  30.210  29.040  1.00  0.00           O\\nATOM     21  N   PHE     3      30.950  31.900  27.570  1.00  0.00           N\\nATOM     22  CA  PHE     3      29.540  32.110  27.130  1.00  0.00           C\\nATOM     23  CB  PHE     3      29.550  33.070  25.920  1.00  0.00           C\\nATOM     24  CG  PHE     3      28.140  33.490  25.490  1.00  0.00           C\\nATOM     25  CD1 PHE     3      27.450  34.450  26.220  1.00  0.00           C\\nATOM     26  CD2 PHE     3      27.510  32.840  24.440  1.00  0.00           C\\nATOM     27  CE1 PHE     3      26.120  34.720  25.920  1.00  0.00           C\\nATOM     28  CE2 PHE     3      26.180  33.090  24.150  1.00  0.00           C\\nATOM     29  CZ  PHE     3      25.480  34.040  24.900  1.00  0.00           C\\nATOM     30  C   PHE     3      28.760  30.810  26.870  1.00  0.00           C\\nATOM     31  O   PHE     3      27.940  30.420  27.700  1.00  0.00           O\\nATOM     32  N   HIS     4      29.000  30.150  25.740  1.00  0.00           N\\nATOM     33  CA  HIS     4      28.650  28.730  25.460  1.00  0.00           C\\nATOM     34  CB  HIS     4      29.640  28.210  24.400  1.00  0.00           C\\nATOM     35  CG  HIS     4      29.640  29.050  23.100  1.00  0.00           C\\nATOM     36  ND1 HIS     4      28.810  30.050  22.850  1.00  0.00           N\\nATOM     37  CD2 HIS     4      30.170  28.710  21.930  1.00  0.00           C\\nATOM     38  CE1 HIS     4      28.710  30.240  21.540  1.00  0.00           C\\nATOM     39  NE2 HIS     4      29.590  29.420  20.970  1.00  0.00           N\\nATOM     40  C   HIS     4      28.490  27.780  26.670  1.00  0.00           C\\nATOM     41  O   HIS     4      27.390  27.330  26.960  1.00  0.00           O\\nATOM     42  N   ARG     5      29.520  27.700  27.520  1.00  0.00           N\\nATOM     43  CA  ARG     5      29.500  26.920  28.790  1.00  0.00           C\\nATOM     44  CB  ARG     5      30.930  26.790  29.340  1.00  0.00           C\\nATOM     45  CG  ARG     5      31.820  25.830  28.550  1.00  0.00           C\\nATOM     46  CD  ARG     5      33.120  25.700  29.340  1.00  0.00           C\\nATOM     47  NE  ARG     5      34.070  24.830  28.630  1.00  0.00           N\\nATOM     48  CZ  ARG     5      35.310  24.540  29.050  1.00  0.00           C\\nATOM     49  NH1 ARG     5      35.790  25.030  30.200  1.00  0.00           N\\nATOM     50  NH2 ARG     5      36.110  23.800  28.270  1.00  0.00           N\\nATOM     51  C   ARG     5      28.620  27.430  29.960  1.00  0.00           C\\nATOM     52  O   ARG     5      28.750  26.940  31.080  1.00  0.00           O\\nATOM     53  N   ARG     6      28.020  28.600  29.760  1.00  0.00           N\\nATOM     54  CA  ARG     6      27.100  29.260  30.710  1.00  0.00           C\\nATOM     55  CB  ARG     6      27.560  30.710  30.920  1.00  0.00           C\\nATOM     56  CG  ARG     6      28.750  30.830  31.880  1.00  0.00           C\\nATOM     57  CD  ARG     6      28.390  30.370  33.300  1.00  0.00           C\\nATOM     58  NE  ARG     6      27.190  31.070  33.790  1.00  0.00           N\\nATOM     59  CZ  ARG     6      26.690  31.000  35.030  1.00  0.00           C\\nATOM     60  NH1 ARG     6      27.290  30.250  35.960  1.00  0.00           N\\nATOM     61  NH2 ARG     6      25.590  31.690  35.340  1.00  0.00           N\\nATOM     62  C   ARG     6      25.630  29.310  30.270  1.00  0.00           C\\nATOM     63  O   ARG     6      24.820  29.790  31.060  1.00  0.00           O\\nATOM     64  N   ASP     7      25.490  29.350  28.950  1.00  0.00           N\\nATOM     65  CA  ASP     7      24.230  29.190  28.190  1.00  0.00           C\\nATOM     66  CB  ASP     7      24.640  29.590  26.770  1.00  0.00           C\\nATOM     67  CG  ASP     7      23.510  29.820  25.780  1.00  0.00           C\\nATOM     68  OD1 ASP     7      23.020  30.970  25.740  1.00  0.00           O\\nATOM     69  OD2 ASP     7      23.290  28.890  24.980  1.00  0.00           O\\nATOM     70  C   ASP     7      23.680  27.750  28.310  1.00  0.00           C\\nATOM     71  O   ASP     7      22.720  27.510  29.040  1.00  0.00           O\\nATOM     72  N   LEU     8      24.520  26.800  27.930  1.00  0.00           N\\nATOM     73  CA  LEU     8      24.290  25.330  28.050  1.00  0.00           C\\nATOM     74  CB  LEU     8      25.400  24.600  27.280  1.00  0.00           C\\nATOM     75  CG  LEU     8      25.410  24.780  25.760  1.00  0.00           C\\nATOM     76  CD1 LEU     8      26.730  24.240  25.200  1.00  0.00           C\\nATOM     77  CD2 LEU     8      24.230  24.030  25.120  1.00  0.00           C\\nATOM     78  C   LEU     8      24.270  24.710  29.470  1.00  0.00           C\\nATOM     79  O   LEU     8      24.250  23.480  29.570  1.00  0.00           O\\nATOM     80  N   ARG     9      24.220  25.490  30.540  1.00  0.00           N\\nATOM     81  CA  ARG     9      24.680  25.000  31.870  1.00  0.00           C\\nATOM     82  CB  ARG     9      26.210  25.030  31.830  1.00  0.00           C\\nATOM     83  CG  ARG     9      26.850  23.820  32.500  1.00  0.00           C\\nATOM     84  CD  ARG     9      27.980  24.280  33.420  1.00  0.00           C\\nATOM     85  NE  ARG     9      27.480  24.270  34.810  1.00  0.00           N\\nATOM     86  CZ  ARG     9      26.900  25.280  35.470  1.00  0.00           C\\nATOM     87  NH1 ARG     9      26.690  26.470  34.890  1.00  0.00           N\\nATOM     88  NH2 ARG     9      26.600  25.130  36.760  1.00  0.00           N\\nATOM     89  C   ARG     9      24.210  25.800  33.100  1.00  0.00           C\\nATOM     90  O1  ARG     9      24.390  27.040  33.090  1.00  0.00           O\\nATOM     91  O2  ARG     9      24.070  25.140  34.160  1.00  0.00           O\\n\",\"pdb\");\n\tviewer_16955996744112833.setStyle({\"cartoon\": {\"color\": \"yellow\"}});\n\tviewer_16955996744112833.zoomTo();\n\tviewer_16955996744112833.setBackgroundColor(\"white\");\nviewer_16955996744112833.render();\n});\n</script>",
      "text/html": [
       "<div id=\"3dmolviewer_16955996744112833\"  style=\"position: relative; width: 640px; height: 480px;\">\n",
       "        <p id=\"3dmolwarning_16955996744112833\" style=\"background-color:#ffcccc;color:black\">You appear to be running in JupyterLab (or JavaScript failed to load for some other reason).  You need to install the 3dmol extension: <br>\n",
       "        <tt>jupyter labextension install jupyterlab_3dmol</tt></p>\n",
       "        </div>\n",
       "<script>\n",
       "\n",
       "var loadScriptAsync = function(uri){\n",
       "  return new Promise((resolve, reject) => {\n",
       "    //this is to ignore the existence of requirejs amd\n",
       "    var savedexports, savedmodule;\n",
       "    if (typeof exports !== 'undefined') savedexports = exports;\n",
       "    else exports = {}\n",
       "    if (typeof module !== 'undefined') savedmodule = module;\n",
       "    else module = {}\n",
       "\n",
       "    var tag = document.createElement('script');\n",
       "    tag.src = uri;\n",
       "    tag.async = true;\n",
       "    tag.onload = () => {\n",
       "        exports = savedexports;\n",
       "        module = savedmodule;\n",
       "        resolve();\n",
       "    };\n",
       "  var firstScriptTag = document.getElementsByTagName('script')[0];\n",
       "  firstScriptTag.parentNode.insertBefore(tag, firstScriptTag);\n",
       "});\n",
       "};\n",
       "\n",
       "if(typeof $3Dmolpromise === 'undefined') {\n",
       "$3Dmolpromise = null;\n",
       "  $3Dmolpromise = loadScriptAsync('https://cdnjs.cloudflare.com/ajax/libs/3Dmol/2.0.3/3Dmol-min.js');\n",
       "}\n",
       "\n",
       "var viewer_16955996744112833 = null;\n",
       "var warn = document.getElementById(\"3dmolwarning_16955996744112833\");\n",
       "if(warn) {\n",
       "    warn.parentNode.removeChild(warn);\n",
       "}\n",
       "$3Dmolpromise.then(function() {\n",
       "viewer_16955996744112833 = $3Dmol.createViewer(document.getElementById(\"3dmolviewer_16955996744112833\"),{backgroundColor:\"white\"});\n",
       "viewer_16955996744112833.zoomTo();\n",
       "\tviewer_16955996744112833.addModel(\"REMARK    GENERATED BY TRJCONV\\nTITLE     Protein t=   0.00000\\nREMARK    THIS IS A SIMULATION BOX\\nCRYST1   57.890   57.890   57.890  90.00  90.00  90.00 P 1           1\\nHEADER PEP-FOLD PREDICTION\\nHEADER PEP-FOLD PREDICTION\\nHEADER  PEPFOLD-00042_bestene1-mc.pdb\\nREMARK  Component boundaries: 0: 1 9 \\n\\nREMARK  SA Trajectory: VaAaaW\\nREMARK     eCACA      eHb  ePhiPhi eVdWBBBB eVdWBBSC eVdWSCSC    Total \\nREMARK    -0.797   -6.588    0.001   -0.183   -0.023   -4.731  -12.321\\nREMARK   sOPEP Energy: -12.3209\\n\\nATOM      1  N   MET     1      33.880  30.490  24.290  1.00  0.00           N\\nATOM      2  CA  MET     1      34.040  29.350  25.210  1.00  0.00           C\\nATOM      3  CB  MET     1      35.530  28.990  25.400  1.00  0.00           C\\nATOM      4  CG  MET     1      35.790  27.740  26.260  1.00  0.00           C\\nATOM      5  SD  MET     1      34.810  26.260  25.840  1.00  0.00           S\\nATOM      6  CE  MET     1      35.560  25.710  24.310  1.00  0.00           C\\nATOM      7  C   MET     1      33.250  29.520  26.530  1.00  0.00           C\\nATOM      8  O   MET     1      32.250  28.830  26.670  1.00  0.00           O\\nATOM      9  N   TYR     2      33.620  30.470  27.400  1.00  0.00           N\\nATOM     10  CA  TYR     2      32.840  30.740  28.640  1.00  0.00           C\\nATOM     11  CB  TYR     2      33.490  31.870  29.460  1.00  0.00           C\\nATOM     12  CG  TYR     2      32.790  32.140  30.800  1.00  0.00           C\\nATOM     13  CD1 TYR     2      33.000  31.310  31.890  1.00  0.00           C\\nATOM     14  CD2 TYR     2      31.960  33.250  30.930  1.00  0.00           C\\nATOM     15  CE1 TYR     2      32.380  31.580  33.110  1.00  0.00           C\\nATOM     16  CE2 TYR     2      31.350  33.530  32.150  1.00  0.00           C\\nATOM     17  CZ  TYR     2      31.550  32.690  33.230  1.00  0.00           C\\nATOM     18  OH  TYR     2      30.770  32.810  34.340  1.00  0.00           O\\nATOM     19  C   TYR     2      31.330  30.960  28.450  1.00  0.00           C\\nATOM     20  O   TYR     2      30.560  30.210  29.040  1.00  0.00           O\\nATOM     21  N   PHE     3      30.950  31.900  27.570  1.00  0.00           N\\nATOM     22  CA  PHE     3      29.540  32.110  27.130  1.00  0.00           C\\nATOM     23  CB  PHE     3      29.550  33.070  25.920  1.00  0.00           C\\nATOM     24  CG  PHE     3      28.140  33.490  25.490  1.00  0.00           C\\nATOM     25  CD1 PHE     3      27.450  34.450  26.220  1.00  0.00           C\\nATOM     26  CD2 PHE     3      27.510  32.840  24.440  1.00  0.00           C\\nATOM     27  CE1 PHE     3      26.120  34.720  25.920  1.00  0.00           C\\nATOM     28  CE2 PHE     3      26.180  33.090  24.150  1.00  0.00           C\\nATOM     29  CZ  PHE     3      25.480  34.040  24.900  1.00  0.00           C\\nATOM     30  C   PHE     3      28.760  30.810  26.870  1.00  0.00           C\\nATOM     31  O   PHE     3      27.940  30.420  27.700  1.00  0.00           O\\nATOM     32  N   HIS     4      29.000  30.150  25.740  1.00  0.00           N\\nATOM     33  CA  HIS     4      28.650  28.730  25.460  1.00  0.00           C\\nATOM     34  CB  HIS     4      29.640  28.210  24.400  1.00  0.00           C\\nATOM     35  CG  HIS     4      29.640  29.050  23.100  1.00  0.00           C\\nATOM     36  ND1 HIS     4      28.810  30.050  22.850  1.00  0.00           N\\nATOM     37  CD2 HIS     4      30.170  28.710  21.930  1.00  0.00           C\\nATOM     38  CE1 HIS     4      28.710  30.240  21.540  1.00  0.00           C\\nATOM     39  NE2 HIS     4      29.590  29.420  20.970  1.00  0.00           N\\nATOM     40  C   HIS     4      28.490  27.780  26.670  1.00  0.00           C\\nATOM     41  O   HIS     4      27.390  27.330  26.960  1.00  0.00           O\\nATOM     42  N   ARG     5      29.520  27.700  27.520  1.00  0.00           N\\nATOM     43  CA  ARG     5      29.500  26.920  28.790  1.00  0.00           C\\nATOM     44  CB  ARG     5      30.930  26.790  29.340  1.00  0.00           C\\nATOM     45  CG  ARG     5      31.820  25.830  28.550  1.00  0.00           C\\nATOM     46  CD  ARG     5      33.120  25.700  29.340  1.00  0.00           C\\nATOM     47  NE  ARG     5      34.070  24.830  28.630  1.00  0.00           N\\nATOM     48  CZ  ARG     5      35.310  24.540  29.050  1.00  0.00           C\\nATOM     49  NH1 ARG     5      35.790  25.030  30.200  1.00  0.00           N\\nATOM     50  NH2 ARG     5      36.110  23.800  28.270  1.00  0.00           N\\nATOM     51  C   ARG     5      28.620  27.430  29.960  1.00  0.00           C\\nATOM     52  O   ARG     5      28.750  26.940  31.080  1.00  0.00           O\\nATOM     53  N   ARG     6      28.020  28.600  29.760  1.00  0.00           N\\nATOM     54  CA  ARG     6      27.100  29.260  30.710  1.00  0.00           C\\nATOM     55  CB  ARG     6      27.560  30.710  30.920  1.00  0.00           C\\nATOM     56  CG  ARG     6      28.750  30.830  31.880  1.00  0.00           C\\nATOM     57  CD  ARG     6      28.390  30.370  33.300  1.00  0.00           C\\nATOM     58  NE  ARG     6      27.190  31.070  33.790  1.00  0.00           N\\nATOM     59  CZ  ARG     6      26.690  31.000  35.030  1.00  0.00           C\\nATOM     60  NH1 ARG     6      27.290  30.250  35.960  1.00  0.00           N\\nATOM     61  NH2 ARG     6      25.590  31.690  35.340  1.00  0.00           N\\nATOM     62  C   ARG     6      25.630  29.310  30.270  1.00  0.00           C\\nATOM     63  O   ARG     6      24.820  29.790  31.060  1.00  0.00           O\\nATOM     64  N   ASP     7      25.490  29.350  28.950  1.00  0.00           N\\nATOM     65  CA  ASP     7      24.230  29.190  28.190  1.00  0.00           C\\nATOM     66  CB  ASP     7      24.640  29.590  26.770  1.00  0.00           C\\nATOM     67  CG  ASP     7      23.510  29.820  25.780  1.00  0.00           C\\nATOM     68  OD1 ASP     7      23.020  30.970  25.740  1.00  0.00           O\\nATOM     69  OD2 ASP     7      23.290  28.890  24.980  1.00  0.00           O\\nATOM     70  C   ASP     7      23.680  27.750  28.310  1.00  0.00           C\\nATOM     71  O   ASP     7      22.720  27.510  29.040  1.00  0.00           O\\nATOM     72  N   LEU     8      24.520  26.800  27.930  1.00  0.00           N\\nATOM     73  CA  LEU     8      24.290  25.330  28.050  1.00  0.00           C\\nATOM     74  CB  LEU     8      25.400  24.600  27.280  1.00  0.00           C\\nATOM     75  CG  LEU     8      25.410  24.780  25.760  1.00  0.00           C\\nATOM     76  CD1 LEU     8      26.730  24.240  25.200  1.00  0.00           C\\nATOM     77  CD2 LEU     8      24.230  24.030  25.120  1.00  0.00           C\\nATOM     78  C   LEU     8      24.270  24.710  29.470  1.00  0.00           C\\nATOM     79  O   LEU     8      24.250  23.480  29.570  1.00  0.00           O\\nATOM     80  N   ARG     9      24.220  25.490  30.540  1.00  0.00           N\\nATOM     81  CA  ARG     9      24.680  25.000  31.870  1.00  0.00           C\\nATOM     82  CB  ARG     9      26.210  25.030  31.830  1.00  0.00           C\\nATOM     83  CG  ARG     9      26.850  23.820  32.500  1.00  0.00           C\\nATOM     84  CD  ARG     9      27.980  24.280  33.420  1.00  0.00           C\\nATOM     85  NE  ARG     9      27.480  24.270  34.810  1.00  0.00           N\\nATOM     86  CZ  ARG     9      26.900  25.280  35.470  1.00  0.00           C\\nATOM     87  NH1 ARG     9      26.690  26.470  34.890  1.00  0.00           N\\nATOM     88  NH2 ARG     9      26.600  25.130  36.760  1.00  0.00           N\\nATOM     89  C   ARG     9      24.210  25.800  33.100  1.00  0.00           C\\nATOM     90  O1  ARG     9      24.390  27.040  33.090  1.00  0.00           O\\nATOM     91  O2  ARG     9      24.070  25.140  34.160  1.00  0.00           O\\n\",\"pdb\");\n",
       "\tviewer_16955996744112833.setStyle({\"cartoon\": {\"color\": \"yellow\"}});\n",
       "\tviewer_16955996744112833.zoomTo();\n",
       "\tviewer_16955996744112833.setBackgroundColor(\"white\");\n",
       "viewer_16955996744112833.render();\n",
       "});\n",
       "</script>"
      ]
     },
     "metadata": {},
     "output_type": "display_data"
    }
   ],
   "source": [
    "# CTL_NS3 (TVWFVPSIK)\n",
    "view = py3Dmol.view()\n",
    "view.addModel(open('Epítopos/CTL_NS5_MYFHRRDLR.pdb', 'r').read(),'pdb')\n",
    "view.setStyle({'cartoon': {'color':'yellow'}})\n",
    "view.zoomTo()\n",
    "view.setBackgroundColor('white')\n",
    "view.show()\n",
    "# view.png()"
   ]
  },
  {
   "cell_type": "code",
   "execution_count": 10,
   "id": "51ab2721",
   "metadata": {},
   "outputs": [
    {
     "data": {
      "application/3dmoljs_load.v0": "<div id=\"3dmolviewer_16955998266739774\"  style=\"position: relative; width: 640px; height: 480px;\">\n        <p id=\"3dmolwarning_16955998266739774\" style=\"background-color:#ffcccc;color:black\">You appear to be running in JupyterLab (or JavaScript failed to load for some other reason).  You need to install the 3dmol extension: <br>\n        <tt>jupyter labextension install jupyterlab_3dmol</tt></p>\n        </div>\n<script>\n\nvar loadScriptAsync = function(uri){\n  return new Promise((resolve, reject) => {\n    //this is to ignore the existence of requirejs amd\n    var savedexports, savedmodule;\n    if (typeof exports !== 'undefined') savedexports = exports;\n    else exports = {}\n    if (typeof module !== 'undefined') savedmodule = module;\n    else module = {}\n\n    var tag = document.createElement('script');\n    tag.src = uri;\n    tag.async = true;\n    tag.onload = () => {\n        exports = savedexports;\n        module = savedmodule;\n        resolve();\n    };\n  var firstScriptTag = document.getElementsByTagName('script')[0];\n  firstScriptTag.parentNode.insertBefore(tag, firstScriptTag);\n});\n};\n\nif(typeof $3Dmolpromise === 'undefined') {\n$3Dmolpromise = null;\n  $3Dmolpromise = loadScriptAsync('https://cdnjs.cloudflare.com/ajax/libs/3Dmol/2.0.3/3Dmol-min.js');\n}\n\nvar viewer_16955998266739774 = null;\nvar warn = document.getElementById(\"3dmolwarning_16955998266739774\");\nif(warn) {\n    warn.parentNode.removeChild(warn);\n}\n$3Dmolpromise.then(function() {\nviewer_16955998266739774 = $3Dmol.createViewer(document.getElementById(\"3dmolviewer_16955998266739774\"),{backgroundColor:\"white\"});\nviewer_16955998266739774.zoomTo();\n\tviewer_16955998266739774.addModel(\"REMARK    GENERATED BY TRJCONV\\nTITLE     Protein t=   0.00000\\nREMARK    THIS IS A SIMULATION BOX\\nCRYST1   60.895   60.895   60.895  90.00  90.00  90.00 P 1           1\\nHEADER PEP-FOLD PREDICTION\\nHEADER PEP-FOLD PREDICTION\\nHEADER  PEPFOLD-00094_bestene1-mc.pdb\\nREMARK  Component boundaries: 0: 1 12 \\n\\nREMARK  SA Trajectory: MPGVZDQLM\\nREMARK     eCACA      eHb  ePhiPhi eVdWBBBB eVdWBBSC eVdWSCSC    Total \\nREMARK    -1.079   -9.834    0.000   -0.173   -0.155   -8.891  -20.132\\nREMARK   sOPEP Energy: -20.1316\\n\\nATOM      1  N   ARG     1      34.000  29.320  38.720  1.00  0.00           N\\nATOM      2  CA  ARG     1      33.980  29.060  37.270  1.00  0.00           C\\nATOM      3  CB  ARG     1      35.260  28.340  36.810  1.00  0.00           C\\nATOM      4  CG  ARG     1      35.300  28.190  35.280  1.00  0.00           C\\nATOM      5  CD  ARG     1      36.580  27.540  34.730  1.00  0.00           C\\nATOM      6  NE  ARG     1      37.750  28.410  34.890  1.00  0.00           N\\nATOM      7  CZ  ARG     1      38.020  29.550  34.220  1.00  0.00           C\\nATOM      8  NH1 ARG     1      37.250  29.990  33.220  1.00  0.00           N\\nATOM      9  NH2 ARG     1      39.060  30.280  34.590  1.00  0.00           N\\nATOM     10  C   ARG     1      32.740  28.230  36.930  1.00  0.00           C\\nATOM     11  O   ARG     1      32.440  27.300  37.670  1.00  0.00           O\\nATOM     12  N   ALA     2      31.960  28.760  36.000  1.00  0.00           N\\nATOM     13  CA  ALA     2      30.800  28.100  35.370  1.00  0.00           C\\nATOM     14  CB  ALA     2      29.510  28.710  35.920  1.00  0.00           C\\nATOM     15  C   ALA     2      30.850  28.300  33.850  1.00  0.00           C\\nATOM     16  O   ALA     2      31.510  29.210  33.340  1.00  0.00           O\\nATOM     17  N   VAL     3      30.240  27.380  33.120  1.00  0.00           N\\nATOM     18  CA  VAL     3      30.130  27.490  31.650  1.00  0.00           C\\nATOM     19  CB  VAL     3      30.740  26.250  30.950  1.00  0.00           C\\nATOM     20  CG1 VAL     3      30.640  26.370  29.430  1.00  0.00           C\\nATOM     21  CG2 VAL     3      32.210  26.060  31.340  1.00  0.00           C\\nATOM     22  C   VAL     3      28.650  27.650  31.300  1.00  0.00           C\\nATOM     23  O   VAL     3      27.840  26.810  31.690  1.00  0.00           O\\nATOM     24  N   HIS     4      28.310  28.820  30.770  1.00  0.00           N\\nATOM     25  CA  HIS     4      26.920  29.100  30.340  1.00  0.00           C\\nATOM     26  CB  HIS     4      26.700  30.620  30.230  1.00  0.00           C\\nATOM     27  CG  HIS     4      25.210  30.960  30.030  1.00  0.00           C\\nATOM     28  ND1 HIS     4      24.380  30.330  29.200  1.00  0.00           N\\nATOM     29  CD2 HIS     4      24.490  31.730  30.840  1.00  0.00           C\\nATOM     30  CE1 HIS     4      23.140  30.680  29.530  1.00  0.00           C\\nATOM     31  NE2 HIS     4      23.200  31.550  30.530  1.00  0.00           N\\nATOM     32  C   HIS     4      26.700  28.400  28.990  1.00  0.00           C\\nATOM     33  O   HIS     4      27.210  28.840  27.960  1.00  0.00           O\\nATOM     34  N   ALA     5      26.160  27.200  29.110  1.00  0.00           N\\nATOM     35  CA  ALA     5      25.940  26.260  27.990  1.00  0.00           C\\nATOM     36  CB  ALA     5      25.310  24.970  28.520  1.00  0.00           C\\nATOM     37  C   ALA     5      25.100  26.840  26.840  1.00  0.00           C\\nATOM     38  O   ALA     5      25.630  27.050  25.750  1.00  0.00           O\\nATOM     39  N   ASP     6      23.920  27.340  27.190  1.00  0.00           N\\nATOM     40  CA  ASP     6      22.930  27.940  26.260  1.00  0.00           C\\nATOM     41  CB  ASP     6      21.670  28.310  27.050  1.00  0.00           C\\nATOM     42  CG  ASP     6      21.310  27.300  28.140  1.00  0.00           C\\nATOM     43  OD1 ASP     6      20.560  26.350  27.840  1.00  0.00           O\\nATOM     44  OD2 ASP     6      21.900  27.440  29.240  1.00  0.00           O\\nATOM     45  C   ASP     6      23.450  29.180  25.500  1.00  0.00           C\\nATOM     46  O   ASP     6      23.060  29.420  24.360  1.00  0.00           O\\nATOM     47  N   MET     7      24.250  30.000  26.170  1.00  0.00           N\\nATOM     48  CA  MET     7      24.920  31.170  25.540  1.00  0.00           C\\nATOM     49  CB  MET     7      25.150  32.240  26.620  1.00  0.00           C\\nATOM     50  CG  MET     7      25.390  33.640  26.060  1.00  0.00           C\\nATOM     51  SD  MET     7      25.640  34.900  27.370  1.00  0.00           S\\nATOM     52  CE  MET     7      24.070  34.790  28.210  1.00  0.00           C\\nATOM     53  C   MET     7      26.250  30.840  24.830  1.00  0.00           C\\nATOM     54  O   MET     7      26.700  31.600  23.970  1.00  0.00           O\\nATOM     55  N   GLY     8      26.900  29.760  25.250  1.00  0.00           N\\nATOM     56  CA  GLY     8      28.260  29.370  24.800  1.00  0.00           C\\nATOM     57  C   GLY     8      29.410  30.230  25.350  1.00  0.00           C\\nATOM     58  O   GLY     8      30.510  30.230  24.790  1.00  0.00           O\\nATOM     59  N   TYR     9      29.220  30.800  26.540  1.00  0.00           N\\nATOM     60  CA  TYR     9      30.200  31.720  27.160  1.00  0.00           C\\nATOM     61  CB  TYR     9      29.710  33.180  27.150  1.00  0.00           C\\nATOM     62  CG  TYR     9      29.570  33.910  25.800  1.00  0.00           C\\nATOM     63  CD1 TYR     9      30.230  33.550  24.620  1.00  0.00           C\\nATOM     64  CD2 TYR     9      28.770  35.050  25.790  1.00  0.00           C\\nATOM     65  CE1 TYR     9      30.070  34.310  23.470  1.00  0.00           C\\nATOM     66  CE2 TYR     9      28.610  35.810  24.640  1.00  0.00           C\\nATOM     67  CZ  TYR     9      29.260  35.440  23.470  1.00  0.00           C\\nATOM     68  OH  TYR     9      29.160  36.200  22.360  1.00  0.00           O\\nATOM     69  C   TYR     9      30.630  31.340  28.580  1.00  0.00           C\\nATOM     70  O   TYR     9      29.970  30.590  29.300  1.00  0.00           O\\nATOM     71  N   TRP    10      31.810  31.850  28.950  1.00  0.00           N\\nATOM     72  CA  TRP    10      32.410  31.660  30.280  1.00  0.00           C\\nATOM     73  CB  TRP    10      33.930  31.910  30.220  1.00  0.00           C\\nATOM     74  CG  TRP    10      34.650  31.050  29.180  1.00  0.00           C\\nATOM     75  CD1 TRP    10      35.040  31.460  27.980  1.00  0.00           C\\nATOM     76  CD2 TRP    10      35.160  29.770  29.360  1.00  0.00           C\\nATOM     77  NE1 TRP    10      35.770  30.510  27.390  1.00  0.00           N\\nATOM     78  CE2 TRP    10      35.860  29.470  28.210  1.00  0.00           C\\nATOM     79  CE3 TRP    10      35.070  28.860  30.400  1.00  0.00           C\\nATOM     80  CZ2 TRP    10      36.510  28.240  28.100  1.00  0.00           C\\nATOM     81  CZ3 TRP    10      35.720  27.630  30.290  1.00  0.00           C\\nATOM     82  CH2 TRP    10      36.430  27.320  29.140  1.00  0.00           C\\nATOM     83  C   TRP    10      31.840  32.640  31.330  1.00  0.00           C\\nATOM     84  O   TRP    10      31.600  33.810  31.040  1.00  0.00           O\\nATOM     85  N   ILE    11      31.580  32.090  32.510  1.00  0.00           N\\nATOM     86  CA  ILE    11      31.300  32.870  33.740  1.00  0.00           C\\nATOM     87  CB  ILE    11      29.860  32.600  34.230  1.00  0.00           C\\nATOM     88  CG1 ILE    11      28.820  32.980  33.160  1.00  0.00           C\\nATOM     89  CG2 ILE    11      29.570  33.380  35.530  1.00  0.00           C\\nATOM     90  CD  ILE    11      27.400  32.520  33.520  1.00  0.00           C\\nATOM     91  C   ILE    11      32.330  32.400  34.780  1.00  0.00           C\\nATOM     92  O   ILE    11      32.460  31.190  35.000  1.00  0.00           O\\nATOM     93  N   GLU    12      33.020  33.320  35.430  1.00  0.00           N\\nATOM     94  CA  GLU    12      34.100  32.920  36.360  1.00  0.00           C\\nATOM     95  CB  GLU    12      35.430  33.580  35.990  1.00  0.00           C\\nATOM     96  CG  GLU    12      35.910  33.060  34.630  1.00  0.00           C\\nATOM     97  CD  GLU    12      37.420  33.070  34.410  1.00  0.00           C\\nATOM     98  OE1 GLU    12      38.160  32.950  35.410  1.00  0.00           O\\nATOM     99  OE2 GLU    12      37.830  32.900  33.240  1.00  0.00           O\\nATOM    100  C   GLU    12      33.680  33.180  37.820  1.00  0.00           C\\nATOM    101  O1  GLU    12      33.820  32.220  38.610  1.00  0.00           O\\nATOM    102  O2  GLU    12      32.930  34.150  38.010  1.00  0.00           O\\n\",\"pdb\");\n\tviewer_16955998266739774.setStyle({\"cartoon\": {\"color\": \"red\"}});\n\tviewer_16955998266739774.zoomTo();\n\tviewer_16955998266739774.setBackgroundColor(\"white\");\nviewer_16955998266739774.render();\n});\n</script>",
      "text/html": [
       "<div id=\"3dmolviewer_16955998266739774\"  style=\"position: relative; width: 640px; height: 480px;\">\n",
       "        <p id=\"3dmolwarning_16955998266739774\" style=\"background-color:#ffcccc;color:black\">You appear to be running in JupyterLab (or JavaScript failed to load for some other reason).  You need to install the 3dmol extension: <br>\n",
       "        <tt>jupyter labextension install jupyterlab_3dmol</tt></p>\n",
       "        </div>\n",
       "<script>\n",
       "\n",
       "var loadScriptAsync = function(uri){\n",
       "  return new Promise((resolve, reject) => {\n",
       "    //this is to ignore the existence of requirejs amd\n",
       "    var savedexports, savedmodule;\n",
       "    if (typeof exports !== 'undefined') savedexports = exports;\n",
       "    else exports = {}\n",
       "    if (typeof module !== 'undefined') savedmodule = module;\n",
       "    else module = {}\n",
       "\n",
       "    var tag = document.createElement('script');\n",
       "    tag.src = uri;\n",
       "    tag.async = true;\n",
       "    tag.onload = () => {\n",
       "        exports = savedexports;\n",
       "        module = savedmodule;\n",
       "        resolve();\n",
       "    };\n",
       "  var firstScriptTag = document.getElementsByTagName('script')[0];\n",
       "  firstScriptTag.parentNode.insertBefore(tag, firstScriptTag);\n",
       "});\n",
       "};\n",
       "\n",
       "if(typeof $3Dmolpromise === 'undefined') {\n",
       "$3Dmolpromise = null;\n",
       "  $3Dmolpromise = loadScriptAsync('https://cdnjs.cloudflare.com/ajax/libs/3Dmol/2.0.3/3Dmol-min.js');\n",
       "}\n",
       "\n",
       "var viewer_16955998266739774 = null;\n",
       "var warn = document.getElementById(\"3dmolwarning_16955998266739774\");\n",
       "if(warn) {\n",
       "    warn.parentNode.removeChild(warn);\n",
       "}\n",
       "$3Dmolpromise.then(function() {\n",
       "viewer_16955998266739774 = $3Dmol.createViewer(document.getElementById(\"3dmolviewer_16955998266739774\"),{backgroundColor:\"white\"});\n",
       "viewer_16955998266739774.zoomTo();\n",
       "\tviewer_16955998266739774.addModel(\"REMARK    GENERATED BY TRJCONV\\nTITLE     Protein t=   0.00000\\nREMARK    THIS IS A SIMULATION BOX\\nCRYST1   60.895   60.895   60.895  90.00  90.00  90.00 P 1           1\\nHEADER PEP-FOLD PREDICTION\\nHEADER PEP-FOLD PREDICTION\\nHEADER  PEPFOLD-00094_bestene1-mc.pdb\\nREMARK  Component boundaries: 0: 1 12 \\n\\nREMARK  SA Trajectory: MPGVZDQLM\\nREMARK     eCACA      eHb  ePhiPhi eVdWBBBB eVdWBBSC eVdWSCSC    Total \\nREMARK    -1.079   -9.834    0.000   -0.173   -0.155   -8.891  -20.132\\nREMARK   sOPEP Energy: -20.1316\\n\\nATOM      1  N   ARG     1      34.000  29.320  38.720  1.00  0.00           N\\nATOM      2  CA  ARG     1      33.980  29.060  37.270  1.00  0.00           C\\nATOM      3  CB  ARG     1      35.260  28.340  36.810  1.00  0.00           C\\nATOM      4  CG  ARG     1      35.300  28.190  35.280  1.00  0.00           C\\nATOM      5  CD  ARG     1      36.580  27.540  34.730  1.00  0.00           C\\nATOM      6  NE  ARG     1      37.750  28.410  34.890  1.00  0.00           N\\nATOM      7  CZ  ARG     1      38.020  29.550  34.220  1.00  0.00           C\\nATOM      8  NH1 ARG     1      37.250  29.990  33.220  1.00  0.00           N\\nATOM      9  NH2 ARG     1      39.060  30.280  34.590  1.00  0.00           N\\nATOM     10  C   ARG     1      32.740  28.230  36.930  1.00  0.00           C\\nATOM     11  O   ARG     1      32.440  27.300  37.670  1.00  0.00           O\\nATOM     12  N   ALA     2      31.960  28.760  36.000  1.00  0.00           N\\nATOM     13  CA  ALA     2      30.800  28.100  35.370  1.00  0.00           C\\nATOM     14  CB  ALA     2      29.510  28.710  35.920  1.00  0.00           C\\nATOM     15  C   ALA     2      30.850  28.300  33.850  1.00  0.00           C\\nATOM     16  O   ALA     2      31.510  29.210  33.340  1.00  0.00           O\\nATOM     17  N   VAL     3      30.240  27.380  33.120  1.00  0.00           N\\nATOM     18  CA  VAL     3      30.130  27.490  31.650  1.00  0.00           C\\nATOM     19  CB  VAL     3      30.740  26.250  30.950  1.00  0.00           C\\nATOM     20  CG1 VAL     3      30.640  26.370  29.430  1.00  0.00           C\\nATOM     21  CG2 VAL     3      32.210  26.060  31.340  1.00  0.00           C\\nATOM     22  C   VAL     3      28.650  27.650  31.300  1.00  0.00           C\\nATOM     23  O   VAL     3      27.840  26.810  31.690  1.00  0.00           O\\nATOM     24  N   HIS     4      28.310  28.820  30.770  1.00  0.00           N\\nATOM     25  CA  HIS     4      26.920  29.100  30.340  1.00  0.00           C\\nATOM     26  CB  HIS     4      26.700  30.620  30.230  1.00  0.00           C\\nATOM     27  CG  HIS     4      25.210  30.960  30.030  1.00  0.00           C\\nATOM     28  ND1 HIS     4      24.380  30.330  29.200  1.00  0.00           N\\nATOM     29  CD2 HIS     4      24.490  31.730  30.840  1.00  0.00           C\\nATOM     30  CE1 HIS     4      23.140  30.680  29.530  1.00  0.00           C\\nATOM     31  NE2 HIS     4      23.200  31.550  30.530  1.00  0.00           N\\nATOM     32  C   HIS     4      26.700  28.400  28.990  1.00  0.00           C\\nATOM     33  O   HIS     4      27.210  28.840  27.960  1.00  0.00           O\\nATOM     34  N   ALA     5      26.160  27.200  29.110  1.00  0.00           N\\nATOM     35  CA  ALA     5      25.940  26.260  27.990  1.00  0.00           C\\nATOM     36  CB  ALA     5      25.310  24.970  28.520  1.00  0.00           C\\nATOM     37  C   ALA     5      25.100  26.840  26.840  1.00  0.00           C\\nATOM     38  O   ALA     5      25.630  27.050  25.750  1.00  0.00           O\\nATOM     39  N   ASP     6      23.920  27.340  27.190  1.00  0.00           N\\nATOM     40  CA  ASP     6      22.930  27.940  26.260  1.00  0.00           C\\nATOM     41  CB  ASP     6      21.670  28.310  27.050  1.00  0.00           C\\nATOM     42  CG  ASP     6      21.310  27.300  28.140  1.00  0.00           C\\nATOM     43  OD1 ASP     6      20.560  26.350  27.840  1.00  0.00           O\\nATOM     44  OD2 ASP     6      21.900  27.440  29.240  1.00  0.00           O\\nATOM     45  C   ASP     6      23.450  29.180  25.500  1.00  0.00           C\\nATOM     46  O   ASP     6      23.060  29.420  24.360  1.00  0.00           O\\nATOM     47  N   MET     7      24.250  30.000  26.170  1.00  0.00           N\\nATOM     48  CA  MET     7      24.920  31.170  25.540  1.00  0.00           C\\nATOM     49  CB  MET     7      25.150  32.240  26.620  1.00  0.00           C\\nATOM     50  CG  MET     7      25.390  33.640  26.060  1.00  0.00           C\\nATOM     51  SD  MET     7      25.640  34.900  27.370  1.00  0.00           S\\nATOM     52  CE  MET     7      24.070  34.790  28.210  1.00  0.00           C\\nATOM     53  C   MET     7      26.250  30.840  24.830  1.00  0.00           C\\nATOM     54  O   MET     7      26.700  31.600  23.970  1.00  0.00           O\\nATOM     55  N   GLY     8      26.900  29.760  25.250  1.00  0.00           N\\nATOM     56  CA  GLY     8      28.260  29.370  24.800  1.00  0.00           C\\nATOM     57  C   GLY     8      29.410  30.230  25.350  1.00  0.00           C\\nATOM     58  O   GLY     8      30.510  30.230  24.790  1.00  0.00           O\\nATOM     59  N   TYR     9      29.220  30.800  26.540  1.00  0.00           N\\nATOM     60  CA  TYR     9      30.200  31.720  27.160  1.00  0.00           C\\nATOM     61  CB  TYR     9      29.710  33.180  27.150  1.00  0.00           C\\nATOM     62  CG  TYR     9      29.570  33.910  25.800  1.00  0.00           C\\nATOM     63  CD1 TYR     9      30.230  33.550  24.620  1.00  0.00           C\\nATOM     64  CD2 TYR     9      28.770  35.050  25.790  1.00  0.00           C\\nATOM     65  CE1 TYR     9      30.070  34.310  23.470  1.00  0.00           C\\nATOM     66  CE2 TYR     9      28.610  35.810  24.640  1.00  0.00           C\\nATOM     67  CZ  TYR     9      29.260  35.440  23.470  1.00  0.00           C\\nATOM     68  OH  TYR     9      29.160  36.200  22.360  1.00  0.00           O\\nATOM     69  C   TYR     9      30.630  31.340  28.580  1.00  0.00           C\\nATOM     70  O   TYR     9      29.970  30.590  29.300  1.00  0.00           O\\nATOM     71  N   TRP    10      31.810  31.850  28.950  1.00  0.00           N\\nATOM     72  CA  TRP    10      32.410  31.660  30.280  1.00  0.00           C\\nATOM     73  CB  TRP    10      33.930  31.910  30.220  1.00  0.00           C\\nATOM     74  CG  TRP    10      34.650  31.050  29.180  1.00  0.00           C\\nATOM     75  CD1 TRP    10      35.040  31.460  27.980  1.00  0.00           C\\nATOM     76  CD2 TRP    10      35.160  29.770  29.360  1.00  0.00           C\\nATOM     77  NE1 TRP    10      35.770  30.510  27.390  1.00  0.00           N\\nATOM     78  CE2 TRP    10      35.860  29.470  28.210  1.00  0.00           C\\nATOM     79  CE3 TRP    10      35.070  28.860  30.400  1.00  0.00           C\\nATOM     80  CZ2 TRP    10      36.510  28.240  28.100  1.00  0.00           C\\nATOM     81  CZ3 TRP    10      35.720  27.630  30.290  1.00  0.00           C\\nATOM     82  CH2 TRP    10      36.430  27.320  29.140  1.00  0.00           C\\nATOM     83  C   TRP    10      31.840  32.640  31.330  1.00  0.00           C\\nATOM     84  O   TRP    10      31.600  33.810  31.040  1.00  0.00           O\\nATOM     85  N   ILE    11      31.580  32.090  32.510  1.00  0.00           N\\nATOM     86  CA  ILE    11      31.300  32.870  33.740  1.00  0.00           C\\nATOM     87  CB  ILE    11      29.860  32.600  34.230  1.00  0.00           C\\nATOM     88  CG1 ILE    11      28.820  32.980  33.160  1.00  0.00           C\\nATOM     89  CG2 ILE    11      29.570  33.380  35.530  1.00  0.00           C\\nATOM     90  CD  ILE    11      27.400  32.520  33.520  1.00  0.00           C\\nATOM     91  C   ILE    11      32.330  32.400  34.780  1.00  0.00           C\\nATOM     92  O   ILE    11      32.460  31.190  35.000  1.00  0.00           O\\nATOM     93  N   GLU    12      33.020  33.320  35.430  1.00  0.00           N\\nATOM     94  CA  GLU    12      34.100  32.920  36.360  1.00  0.00           C\\nATOM     95  CB  GLU    12      35.430  33.580  35.990  1.00  0.00           C\\nATOM     96  CG  GLU    12      35.910  33.060  34.630  1.00  0.00           C\\nATOM     97  CD  GLU    12      37.420  33.070  34.410  1.00  0.00           C\\nATOM     98  OE1 GLU    12      38.160  32.950  35.410  1.00  0.00           O\\nATOM     99  OE2 GLU    12      37.830  32.900  33.240  1.00  0.00           O\\nATOM    100  C   GLU    12      33.680  33.180  37.820  1.00  0.00           C\\nATOM    101  O1  GLU    12      33.820  32.220  38.610  1.00  0.00           O\\nATOM    102  O2  GLU    12      32.930  34.150  38.010  1.00  0.00           O\\n\",\"pdb\");\n",
       "\tviewer_16955998266739774.setStyle({\"cartoon\": {\"color\": \"red\"}});\n",
       "\tviewer_16955998266739774.zoomTo();\n",
       "\tviewer_16955998266739774.setBackgroundColor(\"white\");\n",
       "viewer_16955998266739774.render();\n",
       "});\n",
       "</script>"
      ]
     },
     "metadata": {},
     "output_type": "display_data"
    }
   ],
   "source": [
    "# HTL_NS1 (RAVHADMGYWIE)\n",
    "view = py3Dmol.view()\n",
    "view.addModel(open('Epítopos/HTL_NS1 _RAVHADMGYWIE.pdb', 'r').read(),'pdb')\n",
    "view.setStyle({'cartoon': {'color':'red'}})\n",
    "view.zoomTo()\n",
    "view.setBackgroundColor('white')\n",
    "view.show()\n",
    "#view.png()"
   ]
  },
  {
   "cell_type": "code",
   "execution_count": 6,
   "id": "4cf82af5",
   "metadata": {},
   "outputs": [
    {
     "data": {
      "application/3dmoljs_load.v0": "<div id=\"3dmolviewer_16955997460743778\"  style=\"position: relative; width: 640px; height: 480px;\">\n        <p id=\"3dmolwarning_16955997460743778\" style=\"background-color:#ffcccc;color:black\">You appear to be running in JupyterLab (or JavaScript failed to load for some other reason).  You need to install the 3dmol extension: <br>\n        <tt>jupyter labextension install jupyterlab_3dmol</tt></p>\n        </div>\n<script>\n\nvar loadScriptAsync = function(uri){\n  return new Promise((resolve, reject) => {\n    //this is to ignore the existence of requirejs amd\n    var savedexports, savedmodule;\n    if (typeof exports !== 'undefined') savedexports = exports;\n    else exports = {}\n    if (typeof module !== 'undefined') savedmodule = module;\n    else module = {}\n\n    var tag = document.createElement('script');\n    tag.src = uri;\n    tag.async = true;\n    tag.onload = () => {\n        exports = savedexports;\n        module = savedmodule;\n        resolve();\n    };\n  var firstScriptTag = document.getElementsByTagName('script')[0];\n  firstScriptTag.parentNode.insertBefore(tag, firstScriptTag);\n});\n};\n\nif(typeof $3Dmolpromise === 'undefined') {\n$3Dmolpromise = null;\n  $3Dmolpromise = loadScriptAsync('https://cdnjs.cloudflare.com/ajax/libs/3Dmol/2.0.3/3Dmol-min.js');\n}\n\nvar viewer_16955997460743778 = null;\nvar warn = document.getElementById(\"3dmolwarning_16955997460743778\");\nif(warn) {\n    warn.parentNode.removeChild(warn);\n}\n$3Dmolpromise.then(function() {\nviewer_16955997460743778 = $3Dmol.createViewer(document.getElementById(\"3dmolviewer_16955997460743778\"),{backgroundColor:\"white\"});\nviewer_16955997460743778.zoomTo();\n\tviewer_16955997460743778.addModel(\"REMARK    GENERATED BY TRJCONV\\nTITLE     Protein t=   0.00000\\nREMARK    THIS IS A SIMULATION BOX\\nCRYST1   59.818   59.818   59.818  90.00  90.00  90.00 P 1           1\\nHEADER PEP-FOLD PREDICTION\\nHEADER PEP-FOLD PREDICTION\\nHEADER  PEPFOLD-00043_bestene1-mc.pdb\\nREMARK  Component boundaries: 0: 1 12 \\n\\nREMARK  SA Trajectory: IMXMQJGBZ\\nREMARK     eCACA      eHb  ePhiPhi eVdWBBBB eVdWBBSC eVdWSCSC    Total \\nREMARK    -0.717   -0.000    0.031   -0.149    0.044   -9.642  -10.434\\nREMARK   sOPEP Energy: -10.4335\\n\\nATOM      1  N   TRP     1      25.260  31.020  23.070  1.00  0.00           N\\nATOM      2  CA  TRP     1      25.900  30.060  23.970  1.00  0.00           C\\nATOM      3  CB  TRP     1      24.980  28.910  24.400  1.00  0.00           C\\nATOM      4  CG  TRP     1      23.800  29.340  25.270  1.00  0.00           C\\nATOM      5  CD1 TRP     1      22.560  28.920  25.090  1.00  0.00           C\\nATOM      6  CD2 TRP     1      23.870  29.880  26.550  1.00  0.00           C\\nATOM      7  NE1 TRP     1      21.840  29.150  26.190  1.00  0.00           N\\nATOM      8  CE2 TRP     1      22.600  29.750  27.100  1.00  0.00           C\\nATOM      9  CE3 TRP     1      24.870  30.510  27.290  1.00  0.00           C\\nATOM     10  CZ2 TRP     1      22.340  30.220  28.380  1.00  0.00           C\\nATOM     11  CZ3 TRP     1      24.610  31.000  28.550  1.00  0.00           C\\nATOM     12  CH2 TRP     1      23.340  30.860  29.110  1.00  0.00           C\\nATOM     13  C   TRP     1      27.060  29.470  23.180  1.00  0.00           C\\nATOM     14  O   TRP     1      26.810  28.750  22.220  1.00  0.00           O\\nATOM     15  N   ASP     2      28.170  30.140  23.390  1.00  0.00           N\\nATOM     16  CA  ASP     2      29.340  29.970  22.510  1.00  0.00           C\\nATOM     17  CB  ASP     2      29.690  31.380  21.990  1.00  0.00           C\\nATOM     18  CG  ASP     2      28.450  32.070  21.380  1.00  0.00           C\\nATOM     19  OD1 ASP     2      28.190  31.830  20.180  1.00  0.00           O\\nATOM     20  OD2 ASP     2      27.640  32.650  22.150  1.00  0.00           O\\nATOM     21  C   ASP     2      30.470  29.190  23.210  1.00  0.00           C\\nATOM     22  O   ASP     2      31.150  28.380  22.580  1.00  0.00           O\\nATOM     23  N   PHE     3      30.510  29.300  24.530  1.00  0.00           N\\nATOM     24  CA  PHE     3      31.300  28.430  25.420  1.00  0.00           C\\nATOM     25  CB  PHE     3      32.490  29.180  26.030  1.00  0.00           C\\nATOM     26  CG  PHE     3      33.440  29.690  24.940  1.00  0.00           C\\nATOM     27  CD1 PHE     3      33.300  31.000  24.480  1.00  0.00           C\\nATOM     28  CD2 PHE     3      34.280  28.810  24.270  1.00  0.00           C\\nATOM     29  CE1 PHE     3      33.970  31.400  23.320  1.00  0.00           C\\nATOM     30  CE2 PHE     3      34.950  29.210  23.120  1.00  0.00           C\\nATOM     31  CZ  PHE     3      34.790  30.510  22.640  1.00  0.00           C\\nATOM     32  C   PHE     3      30.420  27.840  26.540  1.00  0.00           C\\nATOM     33  O   PHE     3      29.330  28.340  26.810  1.00  0.00           O\\nATOM     34  N   VAL     4      30.790  26.630  26.960  1.00  0.00           N\\nATOM     35  CA  VAL     4      30.200  25.950  28.130  1.00  0.00           C\\nATOM     36  CB  VAL     4      29.400  24.700  27.750  1.00  0.00           C\\nATOM     37  CG1 VAL     4      28.780  24.030  28.980  1.00  0.00           C\\nATOM     38  CG2 VAL     4      28.280  25.030  26.760  1.00  0.00           C\\nATOM     39  C   VAL     4      31.330  25.610  29.120  1.00  0.00           C\\nATOM     40  O   VAL     4      32.170  24.750  28.820  1.00  0.00           O\\nATOM     41  N   VAL     5      31.440  26.420  30.170  1.00  0.00           N\\nATOM     42  CA  VAL     5      32.440  26.220  31.230  1.00  0.00           C\\nATOM     43  CB  VAL     5      33.460  27.380  31.310  1.00  0.00           C\\nATOM     44  CG1 VAL     5      34.440  27.290  30.130  1.00  0.00           C\\nATOM     45  CG2 VAL     5      32.790  28.760  31.300  1.00  0.00           C\\nATOM     46  C   VAL     5      31.810  25.880  32.600  1.00  0.00           C\\nATOM     47  O   VAL     5      30.590  25.790  32.710  1.00  0.00           O\\nATOM     48  N   THR     6      32.640  25.330  33.490  1.00  0.00           N\\nATOM     49  CA  THR     6      32.190  24.880  34.830  1.00  0.00           C\\nATOM     50  CB  THR     6      32.710  23.480  35.160  1.00  0.00           C\\nATOM     51  OG1 THR     6      34.120  23.440  34.950  1.00  0.00           O\\nATOM     52  CG2 THR     6      31.980  22.410  34.340  1.00  0.00           C\\nATOM     53  C   THR     6      32.560  25.780  36.020  1.00  0.00           C\\nATOM     54  O   THR     6      31.840  25.790  37.020  1.00  0.00           O\\nATOM     55  N   THR     7      33.760  26.350  35.980  1.00  0.00           N\\nATOM     56  CA  THR     7      34.280  27.260  37.030  1.00  0.00           C\\nATOM     57  CB  THR     7      35.800  27.440  36.930  1.00  0.00           C\\nATOM     58  OG1 THR     7      36.180  27.560  35.550  1.00  0.00           O\\nATOM     59  CG2 THR     7      36.520  26.280  37.610  1.00  0.00           C\\nATOM     60  C   THR     7      33.620  28.640  37.140  1.00  0.00           C\\nATOM     61  O   THR     7      33.690  29.250  38.200  1.00  0.00           O\\nATOM     62  N   ASP     8      33.140  29.150  36.010  1.00  0.00           N\\nATOM     63  CA  ASP     8      32.360  30.390  35.920  1.00  0.00           C\\nATOM     64  CB  ASP     8      33.250  31.520  35.380  1.00  0.00           C\\nATOM     65  CG  ASP     8      32.610  32.900  35.540  1.00  0.00           C\\nATOM     66  OD1 ASP     8      31.420  33.040  35.170  1.00  0.00           O\\nATOM     67  OD2 ASP     8      33.290  33.760  36.120  1.00  0.00           O\\nATOM     68  C   ASP     8      31.180  30.160  34.960  1.00  0.00           C\\nATOM     69  O   ASP     8      31.380  29.600  33.890  1.00  0.00           O\\nATOM     70  N   ILE     9      29.980  30.180  35.550  1.00  0.00           N\\nATOM     71  CA  ILE     9      28.720  30.160  34.780  1.00  0.00           C\\nATOM     72  CB  ILE     9      27.890  28.890  35.030  1.00  0.00           C\\nATOM     73  CG1 ILE     9      28.730  27.620  34.790  1.00  0.00           C\\nATOM     74  CG2 ILE     9      26.680  28.860  34.090  1.00  0.00           C\\nATOM     75  CD  ILE     9      28.030  26.330  35.210  1.00  0.00           C\\nATOM     76  C   ILE     9      27.940  31.460  35.080  1.00  0.00           C\\nATOM     77  O   ILE     9      27.030  31.480  35.920  1.00  0.00           O\\nATOM     78  N   SER    10      28.590  32.540  34.680  1.00  0.00           N\\nATOM     79  CA  SER    10      28.100  33.940  34.750  1.00  0.00           C\\nATOM     80  CB  SER    10      28.610  34.630  36.020  1.00  0.00           C\\nATOM     81  OG  SER    10      28.070  35.950  36.160  1.00  0.00           O\\nATOM     82  C   SER    10      28.580  34.710  33.510  1.00  0.00           C\\nATOM     83  O   SER    10      27.750  35.200  32.740  1.00  0.00           O\\nATOM     84  N   GLU    11      29.880  34.630  33.240  1.00  0.00           N\\nATOM     85  CA  GLU    11      30.500  35.160  32.010  1.00  0.00           C\\nATOM     86  CB  GLU    11      31.940  35.610  32.320  1.00  0.00           C\\nATOM     87  CG  GLU    11      32.090  36.560  33.520  1.00  0.00           C\\nATOM     88  CD  GLU    11      31.570  37.990  33.310  1.00  0.00           C\\nATOM     89  OE1 GLU    11      31.890  38.580  32.250  1.00  0.00           O\\nATOM     90  OE2 GLU    11      30.950  38.510  34.260  1.00  0.00           O\\nATOM     91  C   GLU    11      30.480  34.070  30.910  1.00  0.00           C\\nATOM     92  O   GLU    11      31.430  33.300  30.750  1.00  0.00           O\\nATOM     93  N   MET    12      29.350  33.990  30.190  1.00  0.00           N\\nATOM     94  CA  MET    12      29.050  32.910  29.210  1.00  0.00           C\\nATOM     95  CB  MET    12      28.530  31.680  29.960  1.00  0.00           C\\nATOM     96  CG  MET    12      29.580  30.570  29.990  1.00  0.00           C\\nATOM     97  SD  MET    12      28.990  28.930  30.560  1.00  0.00           S\\nATOM     98  CE  MET    12      27.550  28.770  29.530  1.00  0.00           C\\nATOM     99  C   MET    12      28.050  33.300  28.100  1.00  0.00           C\\nATOM    100  O1  MET    12      27.820  34.520  27.940  1.00  0.00           O\\nATOM    101  O2  MET    12      27.510  32.390  27.430  1.00  0.00           O\\n\",\"pdb\");\n\tviewer_16955997460743778.setStyle({\"cartoon\": {\"color\": \"purple\"}});\n\tviewer_16955997460743778.zoomTo();\n\tviewer_16955997460743778.setBackgroundColor(\"white\");\nviewer_16955997460743778.render();\n});\n</script>",
      "text/html": [
       "<div id=\"3dmolviewer_16955997460743778\"  style=\"position: relative; width: 640px; height: 480px;\">\n",
       "        <p id=\"3dmolwarning_16955997460743778\" style=\"background-color:#ffcccc;color:black\">You appear to be running in JupyterLab (or JavaScript failed to load for some other reason).  You need to install the 3dmol extension: <br>\n",
       "        <tt>jupyter labextension install jupyterlab_3dmol</tt></p>\n",
       "        </div>\n",
       "<script>\n",
       "\n",
       "var loadScriptAsync = function(uri){\n",
       "  return new Promise((resolve, reject) => {\n",
       "    //this is to ignore the existence of requirejs amd\n",
       "    var savedexports, savedmodule;\n",
       "    if (typeof exports !== 'undefined') savedexports = exports;\n",
       "    else exports = {}\n",
       "    if (typeof module !== 'undefined') savedmodule = module;\n",
       "    else module = {}\n",
       "\n",
       "    var tag = document.createElement('script');\n",
       "    tag.src = uri;\n",
       "    tag.async = true;\n",
       "    tag.onload = () => {\n",
       "        exports = savedexports;\n",
       "        module = savedmodule;\n",
       "        resolve();\n",
       "    };\n",
       "  var firstScriptTag = document.getElementsByTagName('script')[0];\n",
       "  firstScriptTag.parentNode.insertBefore(tag, firstScriptTag);\n",
       "});\n",
       "};\n",
       "\n",
       "if(typeof $3Dmolpromise === 'undefined') {\n",
       "$3Dmolpromise = null;\n",
       "  $3Dmolpromise = loadScriptAsync('https://cdnjs.cloudflare.com/ajax/libs/3Dmol/2.0.3/3Dmol-min.js');\n",
       "}\n",
       "\n",
       "var viewer_16955997460743778 = null;\n",
       "var warn = document.getElementById(\"3dmolwarning_16955997460743778\");\n",
       "if(warn) {\n",
       "    warn.parentNode.removeChild(warn);\n",
       "}\n",
       "$3Dmolpromise.then(function() {\n",
       "viewer_16955997460743778 = $3Dmol.createViewer(document.getElementById(\"3dmolviewer_16955997460743778\"),{backgroundColor:\"white\"});\n",
       "viewer_16955997460743778.zoomTo();\n",
       "\tviewer_16955997460743778.addModel(\"REMARK    GENERATED BY TRJCONV\\nTITLE     Protein t=   0.00000\\nREMARK    THIS IS A SIMULATION BOX\\nCRYST1   59.818   59.818   59.818  90.00  90.00  90.00 P 1           1\\nHEADER PEP-FOLD PREDICTION\\nHEADER PEP-FOLD PREDICTION\\nHEADER  PEPFOLD-00043_bestene1-mc.pdb\\nREMARK  Component boundaries: 0: 1 12 \\n\\nREMARK  SA Trajectory: IMXMQJGBZ\\nREMARK     eCACA      eHb  ePhiPhi eVdWBBBB eVdWBBSC eVdWSCSC    Total \\nREMARK    -0.717   -0.000    0.031   -0.149    0.044   -9.642  -10.434\\nREMARK   sOPEP Energy: -10.4335\\n\\nATOM      1  N   TRP     1      25.260  31.020  23.070  1.00  0.00           N\\nATOM      2  CA  TRP     1      25.900  30.060  23.970  1.00  0.00           C\\nATOM      3  CB  TRP     1      24.980  28.910  24.400  1.00  0.00           C\\nATOM      4  CG  TRP     1      23.800  29.340  25.270  1.00  0.00           C\\nATOM      5  CD1 TRP     1      22.560  28.920  25.090  1.00  0.00           C\\nATOM      6  CD2 TRP     1      23.870  29.880  26.550  1.00  0.00           C\\nATOM      7  NE1 TRP     1      21.840  29.150  26.190  1.00  0.00           N\\nATOM      8  CE2 TRP     1      22.600  29.750  27.100  1.00  0.00           C\\nATOM      9  CE3 TRP     1      24.870  30.510  27.290  1.00  0.00           C\\nATOM     10  CZ2 TRP     1      22.340  30.220  28.380  1.00  0.00           C\\nATOM     11  CZ3 TRP     1      24.610  31.000  28.550  1.00  0.00           C\\nATOM     12  CH2 TRP     1      23.340  30.860  29.110  1.00  0.00           C\\nATOM     13  C   TRP     1      27.060  29.470  23.180  1.00  0.00           C\\nATOM     14  O   TRP     1      26.810  28.750  22.220  1.00  0.00           O\\nATOM     15  N   ASP     2      28.170  30.140  23.390  1.00  0.00           N\\nATOM     16  CA  ASP     2      29.340  29.970  22.510  1.00  0.00           C\\nATOM     17  CB  ASP     2      29.690  31.380  21.990  1.00  0.00           C\\nATOM     18  CG  ASP     2      28.450  32.070  21.380  1.00  0.00           C\\nATOM     19  OD1 ASP     2      28.190  31.830  20.180  1.00  0.00           O\\nATOM     20  OD2 ASP     2      27.640  32.650  22.150  1.00  0.00           O\\nATOM     21  C   ASP     2      30.470  29.190  23.210  1.00  0.00           C\\nATOM     22  O   ASP     2      31.150  28.380  22.580  1.00  0.00           O\\nATOM     23  N   PHE     3      30.510  29.300  24.530  1.00  0.00           N\\nATOM     24  CA  PHE     3      31.300  28.430  25.420  1.00  0.00           C\\nATOM     25  CB  PHE     3      32.490  29.180  26.030  1.00  0.00           C\\nATOM     26  CG  PHE     3      33.440  29.690  24.940  1.00  0.00           C\\nATOM     27  CD1 PHE     3      33.300  31.000  24.480  1.00  0.00           C\\nATOM     28  CD2 PHE     3      34.280  28.810  24.270  1.00  0.00           C\\nATOM     29  CE1 PHE     3      33.970  31.400  23.320  1.00  0.00           C\\nATOM     30  CE2 PHE     3      34.950  29.210  23.120  1.00  0.00           C\\nATOM     31  CZ  PHE     3      34.790  30.510  22.640  1.00  0.00           C\\nATOM     32  C   PHE     3      30.420  27.840  26.540  1.00  0.00           C\\nATOM     33  O   PHE     3      29.330  28.340  26.810  1.00  0.00           O\\nATOM     34  N   VAL     4      30.790  26.630  26.960  1.00  0.00           N\\nATOM     35  CA  VAL     4      30.200  25.950  28.130  1.00  0.00           C\\nATOM     36  CB  VAL     4      29.400  24.700  27.750  1.00  0.00           C\\nATOM     37  CG1 VAL     4      28.780  24.030  28.980  1.00  0.00           C\\nATOM     38  CG2 VAL     4      28.280  25.030  26.760  1.00  0.00           C\\nATOM     39  C   VAL     4      31.330  25.610  29.120  1.00  0.00           C\\nATOM     40  O   VAL     4      32.170  24.750  28.820  1.00  0.00           O\\nATOM     41  N   VAL     5      31.440  26.420  30.170  1.00  0.00           N\\nATOM     42  CA  VAL     5      32.440  26.220  31.230  1.00  0.00           C\\nATOM     43  CB  VAL     5      33.460  27.380  31.310  1.00  0.00           C\\nATOM     44  CG1 VAL     5      34.440  27.290  30.130  1.00  0.00           C\\nATOM     45  CG2 VAL     5      32.790  28.760  31.300  1.00  0.00           C\\nATOM     46  C   VAL     5      31.810  25.880  32.600  1.00  0.00           C\\nATOM     47  O   VAL     5      30.590  25.790  32.710  1.00  0.00           O\\nATOM     48  N   THR     6      32.640  25.330  33.490  1.00  0.00           N\\nATOM     49  CA  THR     6      32.190  24.880  34.830  1.00  0.00           C\\nATOM     50  CB  THR     6      32.710  23.480  35.160  1.00  0.00           C\\nATOM     51  OG1 THR     6      34.120  23.440  34.950  1.00  0.00           O\\nATOM     52  CG2 THR     6      31.980  22.410  34.340  1.00  0.00           C\\nATOM     53  C   THR     6      32.560  25.780  36.020  1.00  0.00           C\\nATOM     54  O   THR     6      31.840  25.790  37.020  1.00  0.00           O\\nATOM     55  N   THR     7      33.760  26.350  35.980  1.00  0.00           N\\nATOM     56  CA  THR     7      34.280  27.260  37.030  1.00  0.00           C\\nATOM     57  CB  THR     7      35.800  27.440  36.930  1.00  0.00           C\\nATOM     58  OG1 THR     7      36.180  27.560  35.550  1.00  0.00           O\\nATOM     59  CG2 THR     7      36.520  26.280  37.610  1.00  0.00           C\\nATOM     60  C   THR     7      33.620  28.640  37.140  1.00  0.00           C\\nATOM     61  O   THR     7      33.690  29.250  38.200  1.00  0.00           O\\nATOM     62  N   ASP     8      33.140  29.150  36.010  1.00  0.00           N\\nATOM     63  CA  ASP     8      32.360  30.390  35.920  1.00  0.00           C\\nATOM     64  CB  ASP     8      33.250  31.520  35.380  1.00  0.00           C\\nATOM     65  CG  ASP     8      32.610  32.900  35.540  1.00  0.00           C\\nATOM     66  OD1 ASP     8      31.420  33.040  35.170  1.00  0.00           O\\nATOM     67  OD2 ASP     8      33.290  33.760  36.120  1.00  0.00           O\\nATOM     68  C   ASP     8      31.180  30.160  34.960  1.00  0.00           C\\nATOM     69  O   ASP     8      31.380  29.600  33.890  1.00  0.00           O\\nATOM     70  N   ILE     9      29.980  30.180  35.550  1.00  0.00           N\\nATOM     71  CA  ILE     9      28.720  30.160  34.780  1.00  0.00           C\\nATOM     72  CB  ILE     9      27.890  28.890  35.030  1.00  0.00           C\\nATOM     73  CG1 ILE     9      28.730  27.620  34.790  1.00  0.00           C\\nATOM     74  CG2 ILE     9      26.680  28.860  34.090  1.00  0.00           C\\nATOM     75  CD  ILE     9      28.030  26.330  35.210  1.00  0.00           C\\nATOM     76  C   ILE     9      27.940  31.460  35.080  1.00  0.00           C\\nATOM     77  O   ILE     9      27.030  31.480  35.920  1.00  0.00           O\\nATOM     78  N   SER    10      28.590  32.540  34.680  1.00  0.00           N\\nATOM     79  CA  SER    10      28.100  33.940  34.750  1.00  0.00           C\\nATOM     80  CB  SER    10      28.610  34.630  36.020  1.00  0.00           C\\nATOM     81  OG  SER    10      28.070  35.950  36.160  1.00  0.00           O\\nATOM     82  C   SER    10      28.580  34.710  33.510  1.00  0.00           C\\nATOM     83  O   SER    10      27.750  35.200  32.740  1.00  0.00           O\\nATOM     84  N   GLU    11      29.880  34.630  33.240  1.00  0.00           N\\nATOM     85  CA  GLU    11      30.500  35.160  32.010  1.00  0.00           C\\nATOM     86  CB  GLU    11      31.940  35.610  32.320  1.00  0.00           C\\nATOM     87  CG  GLU    11      32.090  36.560  33.520  1.00  0.00           C\\nATOM     88  CD  GLU    11      31.570  37.990  33.310  1.00  0.00           C\\nATOM     89  OE1 GLU    11      31.890  38.580  32.250  1.00  0.00           O\\nATOM     90  OE2 GLU    11      30.950  38.510  34.260  1.00  0.00           O\\nATOM     91  C   GLU    11      30.480  34.070  30.910  1.00  0.00           C\\nATOM     92  O   GLU    11      31.430  33.300  30.750  1.00  0.00           O\\nATOM     93  N   MET    12      29.350  33.990  30.190  1.00  0.00           N\\nATOM     94  CA  MET    12      29.050  32.910  29.210  1.00  0.00           C\\nATOM     95  CB  MET    12      28.530  31.680  29.960  1.00  0.00           C\\nATOM     96  CG  MET    12      29.580  30.570  29.990  1.00  0.00           C\\nATOM     97  SD  MET    12      28.990  28.930  30.560  1.00  0.00           S\\nATOM     98  CE  MET    12      27.550  28.770  29.530  1.00  0.00           C\\nATOM     99  C   MET    12      28.050  33.300  28.100  1.00  0.00           C\\nATOM    100  O1  MET    12      27.820  34.520  27.940  1.00  0.00           O\\nATOM    101  O2  MET    12      27.510  32.390  27.430  1.00  0.00           O\\n\",\"pdb\");\n",
       "\tviewer_16955997460743778.setStyle({\"cartoon\": {\"color\": \"purple\"}});\n",
       "\tviewer_16955997460743778.zoomTo();\n",
       "\tviewer_16955997460743778.setBackgroundColor(\"white\");\n",
       "viewer_16955997460743778.render();\n",
       "});\n",
       "</script>"
      ]
     },
     "metadata": {},
     "output_type": "display_data"
    }
   ],
   "source": [
    "# HTL_NS3_1 (WDFVVTTDISEM)\n",
    "view = py3Dmol.view()\n",
    "view.addModel(open('Epítopos/HTL_NS3_1_WDFVVTTDISEM.pdb', 'r').read(),'pdb')\n",
    "view.setStyle({'cartoon': {'color':'purple'}})\n",
    "view.zoomTo()\n",
    "view.setBackgroundColor('white')\n",
    "view.show()\n",
    "# view.png()"
   ]
  },
  {
   "cell_type": "code",
   "execution_count": 7,
   "id": "428369d7",
   "metadata": {},
   "outputs": [
    {
     "data": {
      "application/3dmoljs_load.v0": "<div id=\"3dmolviewer_16955997498185582\"  style=\"position: relative; width: 640px; height: 480px;\">\n        <p id=\"3dmolwarning_16955997498185582\" style=\"background-color:#ffcccc;color:black\">You appear to be running in JupyterLab (or JavaScript failed to load for some other reason).  You need to install the 3dmol extension: <br>\n        <tt>jupyter labextension install jupyterlab_3dmol</tt></p>\n        </div>\n<script>\n\nvar loadScriptAsync = function(uri){\n  return new Promise((resolve, reject) => {\n    //this is to ignore the existence of requirejs amd\n    var savedexports, savedmodule;\n    if (typeof exports !== 'undefined') savedexports = exports;\n    else exports = {}\n    if (typeof module !== 'undefined') savedmodule = module;\n    else module = {}\n\n    var tag = document.createElement('script');\n    tag.src = uri;\n    tag.async = true;\n    tag.onload = () => {\n        exports = savedexports;\n        module = savedmodule;\n        resolve();\n    };\n  var firstScriptTag = document.getElementsByTagName('script')[0];\n  firstScriptTag.parentNode.insertBefore(tag, firstScriptTag);\n});\n};\n\nif(typeof $3Dmolpromise === 'undefined') {\n$3Dmolpromise = null;\n  $3Dmolpromise = loadScriptAsync('https://cdnjs.cloudflare.com/ajax/libs/3Dmol/2.0.3/3Dmol-min.js');\n}\n\nvar viewer_16955997498185582 = null;\nvar warn = document.getElementById(\"3dmolwarning_16955997498185582\");\nif(warn) {\n    warn.parentNode.removeChild(warn);\n}\n$3Dmolpromise.then(function() {\nviewer_16955997498185582 = $3Dmol.createViewer(document.getElementById(\"3dmolviewer_16955997498185582\"),{backgroundColor:\"white\"});\nviewer_16955997498185582.zoomTo();\n\tviewer_16955997498185582.addModel(\"REMARK    GENERATED BY TRJCONV\\nTITLE     Protein t=   0.00000\\nREMARK    THIS IS A SIMULATION BOX\\nCRYST1   63.206   63.206   63.206  90.00  90.00  90.00 P 1           1\\nHEADER PEP-FOLD PREDICTION\\nHEADER PEP-FOLD PREDICTION\\nHEADER  PEPFOLD-00056_bestene1-mc.pdb\\nREMARK  Component boundaries: 0: 1 12 \\n\\nREMARK  SA Trajectory: GIMTHKYGV\\nREMARK     eCACA      eHb  ePhiPhi eVdWBBBB eVdWBBSC eVdWSCSC    Total \\nREMARK    -0.194   -0.000    0.081   -0.120   -0.113   -6.184   -6.529\\nREMARK   sOPEP Energy: -6.52925\\n\\nATOM      1  N   ASP     1      29.400  42.800  30.550  1.00  0.00           N\\nATOM      2  CA  ASP     1      29.010  41.530  29.920  1.00  0.00           C\\nATOM      3  CB  ASP     1      29.230  41.660  28.410  1.00  0.00           C\\nATOM      4  CG  ASP     1      28.320  42.800  27.930  1.00  0.00           C\\nATOM      5  OD1 ASP     1      27.100  42.650  28.170  1.00  0.00           O\\nATOM      6  OD2 ASP     1      28.860  43.910  27.770  1.00  0.00           O\\nATOM      7  C   ASP     1      29.760  40.390  30.610  1.00  0.00           C\\nATOM      8  O   ASP     1      29.970  40.530  31.810  1.00  0.00           O\\nATOM      9  N   TRP     2      30.020  39.280  29.920  1.00  0.00           N\\nATOM     10  CA  TRP     2      30.770  38.150  30.490  1.00  0.00           C\\nATOM     11  CB  TRP     2      29.860  36.910  30.510  1.00  0.00           C\\nATOM     12  CG  TRP     2      30.600  35.640  30.940  1.00  0.00           C\\nATOM     13  CD1 TRP     2      31.180  34.790  30.110  1.00  0.00           C\\nATOM     14  CD2 TRP     2      30.870  35.210  32.240  1.00  0.00           C\\nATOM     15  NE1 TRP     2      31.820  33.850  30.800  1.00  0.00           N\\nATOM     16  CE2 TRP     2      31.650  34.070  32.100  1.00  0.00           C\\nATOM     17  CE3 TRP     2      30.570  35.710  33.490  1.00  0.00           C\\nATOM     18  CZ2 TRP     2      32.130  33.420  33.240  1.00  0.00           C\\nATOM     19  CZ3 TRP     2      31.050  35.060  34.630  1.00  0.00           C\\nATOM     20  CH2 TRP     2      31.830  33.920  34.500  1.00  0.00           C\\nATOM     21  C   TRP     2      32.080  37.910  29.710  1.00  0.00           C\\nATOM     22  O   TRP     2      32.070  37.690  28.500  1.00  0.00           O\\nATOM     23  N   ASP     3      33.160  38.230  30.410  1.00  0.00           N\\nATOM     24  CA  ASP     3      34.550  38.260  29.890  1.00  0.00           C\\nATOM     25  CB  ASP     3      35.340  39.300  30.720  1.00  0.00           C\\nATOM     26  CG  ASP     3      34.470  40.450  31.270  1.00  0.00           C\\nATOM     27  OD1 ASP     3      34.290  41.460  30.560  1.00  0.00           O\\nATOM     28  OD2 ASP     3      33.850  40.210  32.330  1.00  0.00           O\\nATOM     29  C   ASP     3      35.320  36.910  29.910  1.00  0.00           C\\nATOM     30  O   ASP     3      36.110  36.620  29.020  1.00  0.00           O\\nATOM     31  N   PHE     4      35.080  36.100  30.940  1.00  0.00           N\\nATOM     32  CA  PHE     4      35.820  34.840  31.210  1.00  0.00           C\\nATOM     33  CB  PHE     4      35.840  34.540  32.710  1.00  0.00           C\\nATOM     34  CG  PHE     4      36.730  35.490  33.510  1.00  0.00           C\\nATOM     35  CD1 PHE     4      36.160  36.520  34.250  1.00  0.00           C\\nATOM     36  CD2 PHE     4      38.110  35.340  33.500  1.00  0.00           C\\nATOM     37  CE1 PHE     4      36.960  37.380  34.980  1.00  0.00           C\\nATOM     38  CE2 PHE     4      38.920  36.200  34.230  1.00  0.00           C\\nATOM     39  CZ  PHE     4      38.340  37.220  34.970  1.00  0.00           C\\nATOM     40  C   PHE     4      35.370  33.560  30.480  1.00  0.00           C\\nATOM     41  O   PHE     4      34.290  33.480  29.900  1.00  0.00           O\\nATOM     42  N   VAL     5      36.250  32.560  30.480  1.00  0.00           N\\nATOM     43  CA  VAL     5      35.910  31.170  30.110  1.00  0.00           C\\nATOM     44  CB  VAL     5      36.520  30.750  28.760  1.00  0.00           C\\nATOM     45  CG1 VAL     5      36.100  29.320  28.380  1.00  0.00           C\\nATOM     46  CG2 VAL     5      36.090  31.690  27.630  1.00  0.00           C\\nATOM     47  C   VAL     5      36.390  30.230  31.240  1.00  0.00           C\\nATOM     48  O   VAL     5      37.570  30.230  31.590  1.00  0.00           O\\nATOM     49  N   VAL     6      35.440  29.530  31.860  1.00  0.00           N\\nATOM     50  CA  VAL     6      35.700  28.570  32.960  1.00  0.00           C\\nATOM     51  CB  VAL     6      34.880  28.970  34.210  1.00  0.00           C\\nATOM     52  CG1 VAL     6      35.150  28.030  35.390  1.00  0.00           C\\nATOM     53  CG2 VAL     6      35.180  30.410  34.640  1.00  0.00           C\\nATOM     54  C   VAL     6      35.330  27.160  32.450  1.00  0.00           C\\nATOM     55  O   VAL     6      34.440  27.030  31.620  1.00  0.00           O\\nATOM     56  N   THR     7      36.050  26.130  32.900  1.00  0.00           N\\nATOM     57  CA  THR     7      35.860  24.720  32.440  1.00  0.00           C\\nATOM     58  CB  THR     7      37.120  23.890  32.690  1.00  0.00           C\\nATOM     59  OG1 THR     7      37.490  24.000  34.070  1.00  0.00           O\\nATOM     60  CG2 THR     7      38.260  24.310  31.760  1.00  0.00           C\\nATOM     61  C   THR     7      34.620  23.970  32.970  1.00  0.00           C\\nATOM     62  O   THR     7      34.690  22.800  33.340  1.00  0.00           O\\nATOM     63  N   THR     8      33.520  24.710  33.070  1.00  0.00           N\\nATOM     64  CA  THR     8      32.140  24.270  33.370  1.00  0.00           C\\nATOM     65  CB  THR     8      31.650  24.770  34.740  1.00  0.00           C\\nATOM     66  OG1 THR     8      31.800  26.190  34.850  1.00  0.00           O\\nATOM     67  CG2 THR     8      32.360  24.040  35.890  1.00  0.00           C\\nATOM     68  C   THR     8      31.260  24.930  32.300  1.00  0.00           C\\nATOM     69  O   THR     8      31.700  25.930  31.730  1.00  0.00           O\\nATOM     70  N   ASP     9      30.070  24.400  32.010  1.00  0.00           N\\nATOM     71  CA  ASP     9      29.230  24.990  30.950  1.00  0.00           C\\nATOM     72  CB  ASP     9      28.030  24.110  30.600  1.00  0.00           C\\nATOM     73  CG  ASP     9      27.380  24.610  29.310  1.00  0.00           C\\nATOM     74  OD1 ASP     9      28.140  24.880  28.350  1.00  0.00           O\\nATOM     75  OD2 ASP     9      26.210  25.010  29.400  1.00  0.00           O\\nATOM     76  C   ASP     9      28.800  26.440  31.270  1.00  0.00           C\\nATOM     77  O   ASP     9      28.940  26.920  32.400  1.00  0.00           O\\nATOM     78  N   ILE    10      28.610  27.170  30.170  1.00  0.00           N\\nATOM     79  CA  ILE    10      28.260  28.610  30.180  1.00  0.00           C\\nATOM     80  CB  ILE    10      29.440  29.460  29.630  1.00  0.00           C\\nATOM     81  CG1 ILE    10      30.770  29.120  30.330  1.00  0.00           C\\nATOM     82  CG2 ILE    10      29.150  30.950  29.850  1.00  0.00           C\\nATOM     83  CD  ILE    10      31.990  29.720  29.640  1.00  0.00           C\\nATOM     84  C   ILE    10      26.960  28.790  29.370  1.00  0.00           C\\nATOM     85  O   ILE    10      26.910  29.420  28.310  1.00  0.00           O\\nATOM     86  N   SER    11      25.890  28.250  29.970  1.00  0.00           N\\nATOM     87  CA  SER    11      24.530  28.080  29.390  1.00  0.00           C\\nATOM     88  CB  SER    11      24.520  27.240  28.100  1.00  0.00           C\\nATOM     89  OG  SER    11      23.190  27.090  27.590  1.00  0.00           O\\nATOM     90  C   SER    11      23.610  27.400  30.420  1.00  0.00           C\\nATOM     91  O   SER    11      22.390  27.520  30.300  1.00  0.00           O\\nATOM     92  N   GLU    12      24.180  26.430  31.130  1.00  0.00           N\\nATOM     93  CA  GLU    12      23.730  26.050  32.490  1.00  0.00           C\\nATOM     94  CB  GLU    12      24.350  24.710  32.930  1.00  0.00           C\\nATOM     95  CG  GLU    12      23.910  23.530  32.050  1.00  0.00           C\\nATOM     96  CD  GLU    12      24.320  22.130  32.550  1.00  0.00           C\\nATOM     97  OE1 GLU    12      25.410  21.990  33.170  1.00  0.00           O\\nATOM     98  OE2 GLU    12      23.540  21.180  32.290  1.00  0.00           O\\nATOM     99  C   GLU    12      24.090  27.170  33.500  1.00  0.00           C\\nATOM    100  O1  GLU    12      25.020  27.970  33.200  1.00  0.00           O\\nATOM    101  O2  GLU    12      23.350  27.310  34.510  1.00  0.00           O\\n\",\"pdb\");\n\tviewer_16955997498185582.setStyle({\"cartoon\": {\"color\": \"orange\"}});\n\tviewer_16955997498185582.zoomTo();\n\tviewer_16955997498185582.setBackgroundColor(\"white\");\nviewer_16955997498185582.render();\n});\n</script>",
      "text/html": [
       "<div id=\"3dmolviewer_16955997498185582\"  style=\"position: relative; width: 640px; height: 480px;\">\n",
       "        <p id=\"3dmolwarning_16955997498185582\" style=\"background-color:#ffcccc;color:black\">You appear to be running in JupyterLab (or JavaScript failed to load for some other reason).  You need to install the 3dmol extension: <br>\n",
       "        <tt>jupyter labextension install jupyterlab_3dmol</tt></p>\n",
       "        </div>\n",
       "<script>\n",
       "\n",
       "var loadScriptAsync = function(uri){\n",
       "  return new Promise((resolve, reject) => {\n",
       "    //this is to ignore the existence of requirejs amd\n",
       "    var savedexports, savedmodule;\n",
       "    if (typeof exports !== 'undefined') savedexports = exports;\n",
       "    else exports = {}\n",
       "    if (typeof module !== 'undefined') savedmodule = module;\n",
       "    else module = {}\n",
       "\n",
       "    var tag = document.createElement('script');\n",
       "    tag.src = uri;\n",
       "    tag.async = true;\n",
       "    tag.onload = () => {\n",
       "        exports = savedexports;\n",
       "        module = savedmodule;\n",
       "        resolve();\n",
       "    };\n",
       "  var firstScriptTag = document.getElementsByTagName('script')[0];\n",
       "  firstScriptTag.parentNode.insertBefore(tag, firstScriptTag);\n",
       "});\n",
       "};\n",
       "\n",
       "if(typeof $3Dmolpromise === 'undefined') {\n",
       "$3Dmolpromise = null;\n",
       "  $3Dmolpromise = loadScriptAsync('https://cdnjs.cloudflare.com/ajax/libs/3Dmol/2.0.3/3Dmol-min.js');\n",
       "}\n",
       "\n",
       "var viewer_16955997498185582 = null;\n",
       "var warn = document.getElementById(\"3dmolwarning_16955997498185582\");\n",
       "if(warn) {\n",
       "    warn.parentNode.removeChild(warn);\n",
       "}\n",
       "$3Dmolpromise.then(function() {\n",
       "viewer_16955997498185582 = $3Dmol.createViewer(document.getElementById(\"3dmolviewer_16955997498185582\"),{backgroundColor:\"white\"});\n",
       "viewer_16955997498185582.zoomTo();\n",
       "\tviewer_16955997498185582.addModel(\"REMARK    GENERATED BY TRJCONV\\nTITLE     Protein t=   0.00000\\nREMARK    THIS IS A SIMULATION BOX\\nCRYST1   63.206   63.206   63.206  90.00  90.00  90.00 P 1           1\\nHEADER PEP-FOLD PREDICTION\\nHEADER PEP-FOLD PREDICTION\\nHEADER  PEPFOLD-00056_bestene1-mc.pdb\\nREMARK  Component boundaries: 0: 1 12 \\n\\nREMARK  SA Trajectory: GIMTHKYGV\\nREMARK     eCACA      eHb  ePhiPhi eVdWBBBB eVdWBBSC eVdWSCSC    Total \\nREMARK    -0.194   -0.000    0.081   -0.120   -0.113   -6.184   -6.529\\nREMARK   sOPEP Energy: -6.52925\\n\\nATOM      1  N   ASP     1      29.400  42.800  30.550  1.00  0.00           N\\nATOM      2  CA  ASP     1      29.010  41.530  29.920  1.00  0.00           C\\nATOM      3  CB  ASP     1      29.230  41.660  28.410  1.00  0.00           C\\nATOM      4  CG  ASP     1      28.320  42.800  27.930  1.00  0.00           C\\nATOM      5  OD1 ASP     1      27.100  42.650  28.170  1.00  0.00           O\\nATOM      6  OD2 ASP     1      28.860  43.910  27.770  1.00  0.00           O\\nATOM      7  C   ASP     1      29.760  40.390  30.610  1.00  0.00           C\\nATOM      8  O   ASP     1      29.970  40.530  31.810  1.00  0.00           O\\nATOM      9  N   TRP     2      30.020  39.280  29.920  1.00  0.00           N\\nATOM     10  CA  TRP     2      30.770  38.150  30.490  1.00  0.00           C\\nATOM     11  CB  TRP     2      29.860  36.910  30.510  1.00  0.00           C\\nATOM     12  CG  TRP     2      30.600  35.640  30.940  1.00  0.00           C\\nATOM     13  CD1 TRP     2      31.180  34.790  30.110  1.00  0.00           C\\nATOM     14  CD2 TRP     2      30.870  35.210  32.240  1.00  0.00           C\\nATOM     15  NE1 TRP     2      31.820  33.850  30.800  1.00  0.00           N\\nATOM     16  CE2 TRP     2      31.650  34.070  32.100  1.00  0.00           C\\nATOM     17  CE3 TRP     2      30.570  35.710  33.490  1.00  0.00           C\\nATOM     18  CZ2 TRP     2      32.130  33.420  33.240  1.00  0.00           C\\nATOM     19  CZ3 TRP     2      31.050  35.060  34.630  1.00  0.00           C\\nATOM     20  CH2 TRP     2      31.830  33.920  34.500  1.00  0.00           C\\nATOM     21  C   TRP     2      32.080  37.910  29.710  1.00  0.00           C\\nATOM     22  O   TRP     2      32.070  37.690  28.500  1.00  0.00           O\\nATOM     23  N   ASP     3      33.160  38.230  30.410  1.00  0.00           N\\nATOM     24  CA  ASP     3      34.550  38.260  29.890  1.00  0.00           C\\nATOM     25  CB  ASP     3      35.340  39.300  30.720  1.00  0.00           C\\nATOM     26  CG  ASP     3      34.470  40.450  31.270  1.00  0.00           C\\nATOM     27  OD1 ASP     3      34.290  41.460  30.560  1.00  0.00           O\\nATOM     28  OD2 ASP     3      33.850  40.210  32.330  1.00  0.00           O\\nATOM     29  C   ASP     3      35.320  36.910  29.910  1.00  0.00           C\\nATOM     30  O   ASP     3      36.110  36.620  29.020  1.00  0.00           O\\nATOM     31  N   PHE     4      35.080  36.100  30.940  1.00  0.00           N\\nATOM     32  CA  PHE     4      35.820  34.840  31.210  1.00  0.00           C\\nATOM     33  CB  PHE     4      35.840  34.540  32.710  1.00  0.00           C\\nATOM     34  CG  PHE     4      36.730  35.490  33.510  1.00  0.00           C\\nATOM     35  CD1 PHE     4      36.160  36.520  34.250  1.00  0.00           C\\nATOM     36  CD2 PHE     4      38.110  35.340  33.500  1.00  0.00           C\\nATOM     37  CE1 PHE     4      36.960  37.380  34.980  1.00  0.00           C\\nATOM     38  CE2 PHE     4      38.920  36.200  34.230  1.00  0.00           C\\nATOM     39  CZ  PHE     4      38.340  37.220  34.970  1.00  0.00           C\\nATOM     40  C   PHE     4      35.370  33.560  30.480  1.00  0.00           C\\nATOM     41  O   PHE     4      34.290  33.480  29.900  1.00  0.00           O\\nATOM     42  N   VAL     5      36.250  32.560  30.480  1.00  0.00           N\\nATOM     43  CA  VAL     5      35.910  31.170  30.110  1.00  0.00           C\\nATOM     44  CB  VAL     5      36.520  30.750  28.760  1.00  0.00           C\\nATOM     45  CG1 VAL     5      36.100  29.320  28.380  1.00  0.00           C\\nATOM     46  CG2 VAL     5      36.090  31.690  27.630  1.00  0.00           C\\nATOM     47  C   VAL     5      36.390  30.230  31.240  1.00  0.00           C\\nATOM     48  O   VAL     5      37.570  30.230  31.590  1.00  0.00           O\\nATOM     49  N   VAL     6      35.440  29.530  31.860  1.00  0.00           N\\nATOM     50  CA  VAL     6      35.700  28.570  32.960  1.00  0.00           C\\nATOM     51  CB  VAL     6      34.880  28.970  34.210  1.00  0.00           C\\nATOM     52  CG1 VAL     6      35.150  28.030  35.390  1.00  0.00           C\\nATOM     53  CG2 VAL     6      35.180  30.410  34.640  1.00  0.00           C\\nATOM     54  C   VAL     6      35.330  27.160  32.450  1.00  0.00           C\\nATOM     55  O   VAL     6      34.440  27.030  31.620  1.00  0.00           O\\nATOM     56  N   THR     7      36.050  26.130  32.900  1.00  0.00           N\\nATOM     57  CA  THR     7      35.860  24.720  32.440  1.00  0.00           C\\nATOM     58  CB  THR     7      37.120  23.890  32.690  1.00  0.00           C\\nATOM     59  OG1 THR     7      37.490  24.000  34.070  1.00  0.00           O\\nATOM     60  CG2 THR     7      38.260  24.310  31.760  1.00  0.00           C\\nATOM     61  C   THR     7      34.620  23.970  32.970  1.00  0.00           C\\nATOM     62  O   THR     7      34.690  22.800  33.340  1.00  0.00           O\\nATOM     63  N   THR     8      33.520  24.710  33.070  1.00  0.00           N\\nATOM     64  CA  THR     8      32.140  24.270  33.370  1.00  0.00           C\\nATOM     65  CB  THR     8      31.650  24.770  34.740  1.00  0.00           C\\nATOM     66  OG1 THR     8      31.800  26.190  34.850  1.00  0.00           O\\nATOM     67  CG2 THR     8      32.360  24.040  35.890  1.00  0.00           C\\nATOM     68  C   THR     8      31.260  24.930  32.300  1.00  0.00           C\\nATOM     69  O   THR     8      31.700  25.930  31.730  1.00  0.00           O\\nATOM     70  N   ASP     9      30.070  24.400  32.010  1.00  0.00           N\\nATOM     71  CA  ASP     9      29.230  24.990  30.950  1.00  0.00           C\\nATOM     72  CB  ASP     9      28.030  24.110  30.600  1.00  0.00           C\\nATOM     73  CG  ASP     9      27.380  24.610  29.310  1.00  0.00           C\\nATOM     74  OD1 ASP     9      28.140  24.880  28.350  1.00  0.00           O\\nATOM     75  OD2 ASP     9      26.210  25.010  29.400  1.00  0.00           O\\nATOM     76  C   ASP     9      28.800  26.440  31.270  1.00  0.00           C\\nATOM     77  O   ASP     9      28.940  26.920  32.400  1.00  0.00           O\\nATOM     78  N   ILE    10      28.610  27.170  30.170  1.00  0.00           N\\nATOM     79  CA  ILE    10      28.260  28.610  30.180  1.00  0.00           C\\nATOM     80  CB  ILE    10      29.440  29.460  29.630  1.00  0.00           C\\nATOM     81  CG1 ILE    10      30.770  29.120  30.330  1.00  0.00           C\\nATOM     82  CG2 ILE    10      29.150  30.950  29.850  1.00  0.00           C\\nATOM     83  CD  ILE    10      31.990  29.720  29.640  1.00  0.00           C\\nATOM     84  C   ILE    10      26.960  28.790  29.370  1.00  0.00           C\\nATOM     85  O   ILE    10      26.910  29.420  28.310  1.00  0.00           O\\nATOM     86  N   SER    11      25.890  28.250  29.970  1.00  0.00           N\\nATOM     87  CA  SER    11      24.530  28.080  29.390  1.00  0.00           C\\nATOM     88  CB  SER    11      24.520  27.240  28.100  1.00  0.00           C\\nATOM     89  OG  SER    11      23.190  27.090  27.590  1.00  0.00           O\\nATOM     90  C   SER    11      23.610  27.400  30.420  1.00  0.00           C\\nATOM     91  O   SER    11      22.390  27.520  30.300  1.00  0.00           O\\nATOM     92  N   GLU    12      24.180  26.430  31.130  1.00  0.00           N\\nATOM     93  CA  GLU    12      23.730  26.050  32.490  1.00  0.00           C\\nATOM     94  CB  GLU    12      24.350  24.710  32.930  1.00  0.00           C\\nATOM     95  CG  GLU    12      23.910  23.530  32.050  1.00  0.00           C\\nATOM     96  CD  GLU    12      24.320  22.130  32.550  1.00  0.00           C\\nATOM     97  OE1 GLU    12      25.410  21.990  33.170  1.00  0.00           O\\nATOM     98  OE2 GLU    12      23.540  21.180  32.290  1.00  0.00           O\\nATOM     99  C   GLU    12      24.090  27.170  33.500  1.00  0.00           C\\nATOM    100  O1  GLU    12      25.020  27.970  33.200  1.00  0.00           O\\nATOM    101  O2  GLU    12      23.350  27.310  34.510  1.00  0.00           O\\n\",\"pdb\");\n",
       "\tviewer_16955997498185582.setStyle({\"cartoon\": {\"color\": \"orange\"}});\n",
       "\tviewer_16955997498185582.zoomTo();\n",
       "\tviewer_16955997498185582.setBackgroundColor(\"white\");\n",
       "viewer_16955997498185582.render();\n",
       "});\n",
       "</script>"
      ]
     },
     "metadata": {},
     "output_type": "display_data"
    }
   ],
   "source": [
    "# HTL_NS3_2 (DWDFVVTTDISE)\n",
    "view = py3Dmol.view()\n",
    "view.addModel(open('Epítopos/HTL_NS3_2_DWDFVVTTDISE.pdb', 'r').read(),'pdb')\n",
    "view.setStyle({'cartoon': {'color':'orange'}})\n",
    "view.zoomTo()\n",
    "view.setBackgroundColor('white')\n",
    "view.show()\n",
    "# view.png()"
   ]
  }
 ],
 "metadata": {
  "kernelspec": {
   "display_name": "Python 3 (ipykernel)",
   "language": "python",
   "name": "python3"
  },
  "language_info": {
   "codemirror_mode": {
    "name": "ipython",
    "version": 3
   },
   "file_extension": ".py",
   "mimetype": "text/x-python",
   "name": "python",
   "nbconvert_exporter": "python",
   "pygments_lexer": "ipython3",
   "version": "3.10.12"
  }
 },
 "nbformat": 4,
 "nbformat_minor": 5
}
