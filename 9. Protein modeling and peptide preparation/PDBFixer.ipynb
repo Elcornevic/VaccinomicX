{
 "cells": [
  {
   "cell_type": "markdown",
   "metadata": {
    "id": "U5nIC9wXufTI"
   },
   "source": [
    "# **Comandos PDBFixer**\n",
    "Los alelos HMC descargados fueron preparados con un script en Python basado en **[PDBFixer](https://https://github.com/openmm/pdbfixer)** para remover heteroátomos, añadir átomos faltantes a los residuos existentes y reemplazar los residuos no estándar.\n",
    "\n",
    "Automáticamente soluciona los siguientes problemas (https://github.com/openmm/pdbfixer):\n",
    "* Adiciona los átomos pesados y de hidrógeno faltantes.\n",
    "* Construye los bucles faltantes.\n",
    "* Convierte los residuos no estándar a sus equivalentes estándar.\n",
    "* Elimina cadenas y heteroátomos no deseados."
   ]
  },
  {
   "cell_type": "code",
   "execution_count": 1,
   "metadata": {
    "colab": {
     "base_uri": "https://localhost:8080/"
    },
    "executionInfo": {
     "elapsed": 32069,
     "status": "ok",
     "timestamp": 1688182483073,
     "user": {
      "displayName": "VICTOR GUILLERMO CORNEJO VILLANUEVA",
      "userId": "15995530692841033930"
     },
     "user_tz": 300
    },
    "id": "5lwkEkpJVV2Q",
    "outputId": "93ee2295-c992-44fc-8dff-8947cc38e054"
   },
   "outputs": [
    {
     "name": "stdout",
     "output_type": "stream",
     "text": [
      "Mounted at /content/gdrive\n"
     ]
    }
   ],
   "source": [
    "# Montar Google Drive\n",
    "from google.colab import drive\n",
    "drive.mount('/content/gdrive', force_remount=True)"
   ]
  },
  {
   "cell_type": "code",
   "execution_count": 5,
   "metadata": {
    "executionInfo": {
     "elapsed": 311,
     "status": "ok",
     "timestamp": 1688182630904,
     "user": {
      "displayName": "VICTOR GUILLERMO CORNEJO VILLANUEVA",
      "userId": "15995530692841033930"
     },
     "user_tz": 300
    },
    "id": "JaZj6woAViHP"
   },
   "outputs": [],
   "source": [
    "# Cambiar el actual directorio de trabajo\n",
    "import os\n",
    "os.chdir('/content/gdrive/MyDrive/TESIS_PREGRADO - Victor_Cornejo/RESULTADOS/9. Modelado de proteínas y preparación de péptidos')"
   ]
  },
  {
   "cell_type": "code",
   "execution_count": 3,
   "metadata": {
    "colab": {
     "base_uri": "https://localhost:8080/"
    },
    "executionInfo": {
     "elapsed": 18674,
     "status": "ok",
     "timestamp": 1688182505595,
     "user": {
      "displayName": "VICTOR GUILLERMO CORNEJO VILLANUEVA",
      "userId": "15995530692841033930"
     },
     "user_tz": 300
    },
    "id": "Ylwd0LieuLmB",
    "outputId": "6c2908aa-65bf-48b4-db42-61528b6179ee"
   },
   "outputs": [
    {
     "name": "stdout",
     "output_type": "stream",
     "text": [
      "Collecting condacolab\n",
      "  Downloading condacolab-0.1.7-py3-none-any.whl (7.2 kB)\n",
      "Installing collected packages: condacolab\n",
      "Successfully installed condacolab-0.1.7\n",
      "⏬ Downloading https://github.com/conda-forge/miniforge/releases/download/23.1.0-1/Mambaforge-23.1.0-1-Linux-x86_64.sh...\n",
      "📦 Installing...\n",
      "📌 Adjusting configuration...\n",
      "🩹 Patching environment...\n",
      "⏲ Done in 0:00:14\n",
      "🔁 Restarting kernel...\n"
     ]
    }
   ],
   "source": [
    "# Instalar el paquete 'condacolab'\n",
    "try:\n",
    "    import google.colab\n",
    "    !pip install condacolab\n",
    "    import condacolab\n",
    "    condacolab.install()\n",
    "except ModuleNotFoundError:\n",
    "    pass"
   ]
  },
  {
   "cell_type": "code",
   "execution_count": 1,
   "metadata": {
    "colab": {
     "base_uri": "https://localhost:8080/"
    },
    "executionInfo": {
     "elapsed": 57581,
     "status": "ok",
     "timestamp": 1688182570896,
     "user": {
      "displayName": "VICTOR GUILLERMO CORNEJO VILLANUEVA",
      "userId": "15995530692841033930"
     },
     "user_tz": 300
    },
    "id": "PusL1vEvw-EI",
    "outputId": "5c86107e-8bcb-434f-9fba-8d5e2db07f87"
   },
   "outputs": [
    {
     "name": "stdout",
     "output_type": "stream",
     "text": [
      "Dependencies successfully installed!\n"
     ]
    }
   ],
   "source": [
    "# Instalar del paquete 'pdbfixer'\n",
    "try:\n",
    "    import condacolab\n",
    "    from google.colab import files\n",
    "    from IPython.display import clear_output\n",
    "    condacolab.check()\n",
    "    !conda install -q -y -c conda-forge pdbfixer\n",
    "    on_colab = True\n",
    "    clear_output()\n",
    "    print('Dependencies successfully installed!')\n",
    "except ModuleNotFoundError:\n",
    "    on_colab = False"
   ]
  },
  {
   "cell_type": "code",
   "execution_count": 2,
   "metadata": {
    "executionInfo": {
     "elapsed": 240,
     "status": "ok",
     "timestamp": 1688182581375,
     "user": {
      "displayName": "VICTOR GUILLERMO CORNEJO VILLANUEVA",
      "userId": "15995530692841033930"
     },
     "user_tz": 300
    },
    "id": "YCfW8r6u_Shn"
   },
   "outputs": [],
   "source": [
    "# Importar 'pdbfixer'\n",
    "import pdbfixer\n",
    "from pdbfixer import PDBFixer\n",
    "from openmm.app import PDBFile"
   ]
  },
  {
   "cell_type": "code",
   "execution_count": 3,
   "metadata": {
    "executionInfo": {
     "elapsed": 281,
     "status": "ok",
     "timestamp": 1688182587073,
     "user": {
      "displayName": "VICTOR GUILLERMO CORNEJO VILLANUEVA",
      "userId": "15995530692841033930"
     },
     "user_tz": 300
    },
    "id": "HaiuetuJ_kGh"
   },
   "outputs": [],
   "source": [
    "# Definir la función para preparar los HLA\n",
    "def prepare_protein(pdb_file):\n",
    "    fixer = PDBFixer(str(pdb_file))\n",
    "    fixer.removeHeterogens()  # Eliminar heterogéneos\n",
    "    fixer.findMissingResidues()  # Identificar residuos faltantes\n",
    "    fixer.findNonstandardResidues()  # Encontrar los residuos no estándar\n",
    "    fixer.replaceNonstandardResidues()  # Reemplazar los residuos no estándar con uno estándar\n",
    "    fixer.findMissingAtoms()  # Encontrar los átomos pesados ​​faltantes\n",
    "    fixer.addMissingAtoms()  # Añadir los átomos y residuos faltantes\n",
    "    return fixer"
   ]
  },
  {
   "cell_type": "code",
   "execution_count": null,
   "metadata": {
    "id": "LyQmRuGbJANb"
   },
   "outputs": [],
   "source": [
    "# Realizar la preparación de los HLA\n",
    "ID = ['6MPP', '4U6X', '3RL1', '7JYV', '4PRN', '3DX7', '1E28', '5VGE', '7Z0Q', '6ATF']\n",
    "\n",
    "for PDB_ID in ID:\n",
    "  prepared_proteins = prepare_protein(f'PDB_RCSB/{PDB_ID}.pdb')\n",
    "  # Guardar los nuevos archivos PDB editados\n",
    "  PDBFile.writeFile(prepared_proteins.topology, prepared_proteins.positions, open(f'PDB_Fixer/{PDB_ID}_new.pdb', 'w'))"
   ]
  },
  {
   "cell_type": "code",
   "execution_count": null,
   "metadata": {
    "id": "rM7bvkn5eEfG"
   },
   "outputs": [],
   "source": [
    "# Definir la función para eliminar las cadenas que no correspondan a los HLA\n",
    "\n",
    "## HLA-A*01:01 (PDB ID: 6MPP)\n",
    "fixer = PDBFixer(str('PDB_Fixer/6MPP_new.pdb'))\n",
    "numChains = len(list(fixer.topology.chains()))\n",
    "fixer.removeChains(chainIds = ['B'])\n",
    "PDBFile.writeFile(fixer.topology, fixer.positions, open('PDB_Final/HLA-A*01:01_(6MPP).pdb', 'w'))\n",
    "\n",
    "## HLA-A*02:01 (PDB ID: 4U6X)\n",
    "fixer = PDBFixer(str('PDB_Fixer/4U6X_new.pdb'))\n",
    "numChains = len(list(fixer.topology.chains()))\n",
    "fixer.removeChains(chainIds = ['C', 'D', 'E', 'F'])\n",
    "PDBFile.writeFile(fixer.topology, fixer.positions, open('PDB_Final/HLA-A*02:01_(4U6X).pdb', 'w'))\n",
    "\n",
    "## HLA-A*03:01 (PDB ID: 3RL1)\n",
    "fixer = PDBFixer(str('PDB_Fixer/3RL1_new.pdb'))\n",
    "numChains = len(list(fixer.topology.chains()))\n",
    "fixer.removeChains(chainIds = ['C', 'D', 'E', 'F'])\n",
    "PDBFile.writeFile(fixer.topology, fixer.positions, open('PDB_Final/HLA-A*03:01_(3RL1).pdb', 'w'))\n",
    "\n",
    "## HLA-A*24:02 (PDB ID: 7JYV)\n",
    "fixer = PDBFixer(str('PDB_Fixer/7JYV_new.pdb'))\n",
    "numChains = len(list(fixer.topology.chains()))\n",
    "fixer.removeChains(chainIds = ['C', 'D', 'E', 'F'])\n",
    "PDBFile.writeFile(fixer.topology, fixer.positions, open('PDB_Final/HLA-A*24:02_(7JYV).pdb', 'w'))\n",
    "\n",
    "## HLA-B*35:01 (PDB ID: 4PRN)\n",
    "fixer = PDBFixer(str('PDB_Fixer/4PRN_new.pdb'))\n",
    "numChains = len(list(fixer.topology.chains()))\n",
    "fixer.removeChains(chainIds = ['C', 'D', 'E', 'F'])\n",
    "PDBFile.writeFile(fixer.topology, fixer.positions, open('PDB_Final/HLA-B*35:01_(4PRN).pdb', 'w'))\n",
    "\n",
    "## HLA-B*44:03 (PDB ID: 3DX7)\n",
    "fixer = PDBFixer(str('PDB_Fixer/3DX7_new.pdb'))\n",
    "numChains = len(list(fixer.topology.chains()))\n",
    "fixer.removeChains(chainIds = ['C', 'D', 'E', 'F'])\n",
    "PDBFile.writeFile(fixer.topology, fixer.positions, open('PDB_Final/HLA-B*44:03_(3DX7).pdb', 'w'))\n",
    "\n",
    "## HLA-B*51:01 (PDB ID: 1E28)\n",
    "fixer = PDBFixer(str('PDB_Fixer/1E28_new.pdb'))\n",
    "numChains = len(list(fixer.topology.chains()))\n",
    "fixer.removeChains(chainIds = ['C'])\n",
    "PDBFile.writeFile(fixer.topology, fixer.positions, open('PDB_Final/HLA-B*51:01_(1E28).pdb', 'w'))\n",
    "\n",
    "## HLA-C*07:02 (PDB ID: 5VGE)\n",
    "fixer = PDBFixer(str('PDB_Fixer/5VGE_new.pdb'))\n",
    "numChains = len(list(fixer.topology.chains()))\n",
    "fixer.removeChains(chainIds = ['C', 'D', 'E'])\n",
    "PDBFile.writeFile(fixer.topology, fixer.positions, open('PDB_Final/HLA-C*07:02_(5VGE).pdb', 'w'))\n",
    "\n",
    "## DRB1*07:01 (PDB ID: 7Z0Q)\n",
    "fixer = PDBFixer(str('PDB_Fixer/7Z0Q_new.pdb'))\n",
    "numChains = len(list(fixer.topology.chains()))\n",
    "fixer.removeChains(chainIds = ['C', 'D', 'E', 'F'])\n",
    "PDBFile.writeFile(fixer.topology, fixer.positions, open('PDB_Final/HLA-DRB1*07:01_(7Z0Q).pdb', 'w'))\n",
    "\n",
    "## HLA-DRB1*14:02 (PDB ID: 6ATF)\n",
    "fixer = PDBFixer(str('PDB_Fixer/6ATF_new.pdb'))\n",
    "numChains = len(list(fixer.topology.chains()))\n",
    "fixer.removeChains(chainIds = ['C', 'D', 'E', 'F', 'G', 'H', 'I', 'J', 'K', 'L'])\n",
    "PDBFile.writeFile(fixer.topology, fixer.positions, open('PDB_Final/HLA-DRB1*14:02_(6ATF).pdb', 'w'))"
   ]
  },
  {
   "cell_type": "markdown",
   "metadata": {
    "id": "uqxBW1Y5Vmqa"
   },
   "source": [
    "Realizar el mismo procedimiento con los HLA modelados."
   ]
  },
  {
   "cell_type": "code",
   "execution_count": 8,
   "metadata": {
    "executionInfo": {
     "elapsed": 3074,
     "status": "ok",
     "timestamp": 1688188287247,
     "user": {
      "displayName": "VICTOR GUILLERMO CORNEJO VILLANUEVA",
      "userId": "15995530692841033930"
     },
     "user_tz": 300
    },
    "id": "r446coWWVwj7"
   },
   "outputs": [],
   "source": [
    "# Realizar la preparación de los HLA\n",
    "HLA = ['HLA-A*31:01', 'HLA-C*03:04', 'HLA-C*04:01', 'HLA-C*07:01', 'HLA-DRB1*03:01', 'HLA-DRB1*04:07', 'HLA-DRB1*08:02']\n",
    "\n",
    "for PDB_HLA in HLA:\n",
    "  prepared_proteins = prepare_protein(f'PDB_Modeller/{PDB_HLA}.pdb')\n",
    "  # Guardar los nuevos archivos PDB editados\n",
    "  PDBFile.writeFile(prepared_proteins.topology, prepared_proteins.positions, open(f'PDB_Fixer/{PDB_HLA}_new.pdb', 'w'))\n",
    "  PDBFile.writeFile(prepared_proteins.topology, prepared_proteins.positions, open(f'PDB_Final/{PDB_HLA}.pdb', 'w'))"
   ]
  }
 ],
 "metadata": {
  "colab": {
   "authorship_tag": "ABX9TyMj4W5XLwrwYqHVaguZklrh",
   "provenance": []
  },
  "kernelspec": {
   "display_name": "Python 3 (ipykernel)",
   "language": "python",
   "name": "python3"
  },
  "language_info": {
   "codemirror_mode": {
    "name": "ipython",
    "version": 3
   },
   "file_extension": ".py",
   "mimetype": "text/x-python",
   "name": "python",
   "nbconvert_exporter": "python",
   "pygments_lexer": "ipython3",
   "version": "3.10.12"
  }
 },
 "nbformat": 4,
 "nbformat_minor": 1
}
